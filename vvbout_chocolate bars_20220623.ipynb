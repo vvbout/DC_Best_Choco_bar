{
 "cells": [
  {
   "cell_type": "markdown",
   "id": "35b5cfba-fdc1-4bee-a6c6-fd9cbbaef2ae",
   "metadata": {},
   "source": [
    "# Finding the best chocolate bars\n",
    "\n",
    "A specialty foods import company wants to expand into gourmet chocolate bars.\n",
    "\n",
    "There is a demand:\n",
    "* **to research** the market\n",
    "* **to inform** the initial approach to potential suppliers\n",
    "\n",
    "**Project task:**\n",
    "\n",
    "based on data:\n",
    "\n",
    "* \"id\" - id number of the review\n",
    "* \"manufacturer\" - Name of the bar manufacturer\n",
    "* \"company_location\" - Location of the manufacturer\n",
    "* \"year_reviewed\" - From 2006 to 2021\n",
    "* \"bean_origin\" - Country of origin of the cacao beans\n",
    "* \"bar_name\" - Name of the chocolate bar\n",
    "* \"cocoa_percent\" - Cocoa content of the bar (%)\n",
    "* \"num_ingredients\" - Number of ingredients\n",
    "* \"ingredients\" - B (Beans), S (Sugar), S* (Sweetener other than sugar or beet sugar), C (Cocoa Butter), (V) Vanilla, (L) Lecithin, (Sa) Salt\n",
    "* \"review\" - Summary of most memorable characteristics of the chocolate bar\n",
    "* \"rating\" - 1.0-1.9 Unpleasant, 2.0-2.9 Disappointing, 3.0-3.49 Recommended, 3.5-3.9 Highly Recommended, 4.0-5.0 Oustanding\n",
    "\n",
    "**To explore** if the chocolate bars with the highest ratings share any characteristics that could help to narrow the search for suppliers (e.g., cacao percentage, bean country of origin, etc.)\n",
    "\n",
    "**To create a report** to summarize the research, answering the questions:\n",
    "* What is the average rating by country of origin?\n",
    "* How many bars were reviewed for each of those countries?\n",
    "* Is the cacao bean's origin an indicator of quality?\n",
    "* How does cocoa content relate to rating? What is the average cocoa content for bars with higher ratings (above 3.5)?\n",
    "* What is the average rating of bars with and without lecithin (L in the ingredients).\n",
    "\n",
    "**To summarize** the findings."
   ]
  },
  {
   "cell_type": "markdown",
   "id": "c2b46373-76fb-4241-8688-bfd966304fe9",
   "metadata": {},
   "source": [
    "## Workspace preparation and Data load"
   ]
  },
  {
   "cell_type": "code",
   "execution_count": 1,
   "id": "578b4b80-a9bc-41e6-8559-e0b6df8ade7b",
   "metadata": {},
   "outputs": [],
   "source": [
    "# we upload the libraries,\n",
    "# prepare the working space\n",
    "\n",
    "import pandas as pd\n",
    "import numpy as np\n",
    "import seaborn as sns\n",
    "import matplotlib.pyplot as plt\n",
    "\n",
    "from sklearn.preprocessing import StandardScaler\n",
    "from sklearn.model_selection import train_test_split\n",
    "\n",
    "from sklearn.linear_model import LogisticRegression\n",
    "from sklearn.ensemble import RandomForestClassifier\n",
    "from sklearn.cluster import KMeans\n",
    "\n",
    "from sklearn.metrics import accuracy_score, precision_score, recall_score\n",
    "from scipy.cluster.hierarchy import dendrogram, linkage\n",
    "\n",
    "pd.set_option('display.max_columns', None)\n",
    "pd.set_option('max_colwidth', 110)"
   ]
  },
  {
   "cell_type": "code",
   "execution_count": 2,
   "id": "6ecb5d9a-649f-46c8-955b-e982ab6cf346",
   "metadata": {},
   "outputs": [
    {
     "data": {
      "application/com.datacamp.data-table.v1+json": {
       "is_truncated": false,
       "table": {
        "data": [
         {
          "bar_name": "Choroni",
          "bean_origin": "Venezuela",
          "cocoa_percent": 61,
          "company_location": "U.S.A.",
          "id": 445,
          "index": 588,
          "ingredients": "B,S,C,V,L",
          "manufacturer": "Chuao Chocolatier",
          "num_ingredients": 5,
          "rating": 3,
          "review": "sweet, peanut butter",
          "year_reviewed": 2009
         },
         {
          "bar_name": "Elvesia P.",
          "bean_origin": "Dominican Republic",
          "cocoa_percent": 70,
          "company_location": "U.S.A.",
          "id": 1980,
          "index": 340,
          "ingredients": "B,S,C",
          "manufacturer": "Brasstown aka It's Chocolate",
          "num_ingredients": 3,
          "rating": 3.25,
          "review": "earthy, cherries",
          "year_reviewed": 2017
         },
         {
          "bar_name": "APROCAFA, Acandi",
          "bean_origin": "Colombia",
          "cocoa_percent": 75,
          "company_location": "Austria",
          "id": 1996,
          "index": 2526,
          "ingredients": "B,S,C",
          "manufacturer": "Zotter",
          "num_ingredients": 3,
          "rating": 3.75,
          "review": "strong nutty, marshmallow",
          "year_reviewed": 2017
         },
         {
          "bar_name": "Akesson's, batch 4411",
          "bean_origin": "Madagascar",
          "cocoa_percent": 74,
          "company_location": "U.K.",
          "id": 1530,
          "index": 1917,
          "ingredients": "B,S,C",
          "manufacturer": "Pump Street Bakery",
          "num_ingredients": 3,
          "rating": 3.5,
          "review": "dairy, butterscotch, caramel",
          "year_reviewed": 2015
         },
         {
          "bar_name": "Epique, Blend No. 49",
          "bean_origin": "Blend",
          "cocoa_percent": 70,
          "company_location": "U.S.A.",
          "id": 1602,
          "index": 1105,
          "ingredients": "B,S,C,V,L",
          "manufacturer": "Guittard",
          "num_ingredients": 5,
          "rating": 3.75,
          "review": "nutty, black licorice",
          "year_reviewed": 2015
         }
        ],
        "schema": {
         "fields": [
          {
           "name": "index",
           "type": "integer"
          },
          {
           "name": "id",
           "type": "integer"
          },
          {
           "name": "manufacturer",
           "type": "string"
          },
          {
           "name": "company_location",
           "type": "string"
          },
          {
           "name": "year_reviewed",
           "type": "integer"
          },
          {
           "name": "bean_origin",
           "type": "string"
          },
          {
           "name": "bar_name",
           "type": "string"
          },
          {
           "name": "cocoa_percent",
           "type": "number"
          },
          {
           "name": "num_ingredients",
           "type": "number"
          },
          {
           "name": "ingredients",
           "type": "string"
          },
          {
           "name": "review",
           "type": "string"
          },
          {
           "name": "rating",
           "type": "number"
          }
         ],
         "pandas_version": "0.20.0",
         "primaryKey": [
          "index"
         ]
        }
       },
       "total_rows": 5
      },
      "text/html": [
       "<div>\n",
       "<style scoped>\n",
       "    .dataframe tbody tr th:only-of-type {\n",
       "        vertical-align: middle;\n",
       "    }\n",
       "\n",
       "    .dataframe tbody tr th {\n",
       "        vertical-align: top;\n",
       "    }\n",
       "\n",
       "    .dataframe thead th {\n",
       "        text-align: right;\n",
       "    }\n",
       "</style>\n",
       "<table border=\"1\" class=\"dataframe\">\n",
       "  <thead>\n",
       "    <tr style=\"text-align: right;\">\n",
       "      <th></th>\n",
       "      <th>id</th>\n",
       "      <th>manufacturer</th>\n",
       "      <th>company_location</th>\n",
       "      <th>year_reviewed</th>\n",
       "      <th>bean_origin</th>\n",
       "      <th>bar_name</th>\n",
       "      <th>cocoa_percent</th>\n",
       "      <th>num_ingredients</th>\n",
       "      <th>ingredients</th>\n",
       "      <th>review</th>\n",
       "      <th>rating</th>\n",
       "    </tr>\n",
       "  </thead>\n",
       "  <tbody>\n",
       "    <tr>\n",
       "      <th>588</th>\n",
       "      <td>445</td>\n",
       "      <td>Chuao Chocolatier</td>\n",
       "      <td>U.S.A.</td>\n",
       "      <td>2009</td>\n",
       "      <td>Venezuela</td>\n",
       "      <td>Choroni</td>\n",
       "      <td>61.0</td>\n",
       "      <td>5.0</td>\n",
       "      <td>B,S,C,V,L</td>\n",
       "      <td>sweet, peanut butter</td>\n",
       "      <td>3.00</td>\n",
       "    </tr>\n",
       "    <tr>\n",
       "      <th>340</th>\n",
       "      <td>1980</td>\n",
       "      <td>Brasstown aka It's Chocolate</td>\n",
       "      <td>U.S.A.</td>\n",
       "      <td>2017</td>\n",
       "      <td>Dominican Republic</td>\n",
       "      <td>Elvesia P.</td>\n",
       "      <td>70.0</td>\n",
       "      <td>3.0</td>\n",
       "      <td>B,S,C</td>\n",
       "      <td>earthy, cherries</td>\n",
       "      <td>3.25</td>\n",
       "    </tr>\n",
       "    <tr>\n",
       "      <th>2526</th>\n",
       "      <td>1996</td>\n",
       "      <td>Zotter</td>\n",
       "      <td>Austria</td>\n",
       "      <td>2017</td>\n",
       "      <td>Colombia</td>\n",
       "      <td>APROCAFA, Acandi</td>\n",
       "      <td>75.0</td>\n",
       "      <td>3.0</td>\n",
       "      <td>B,S,C</td>\n",
       "      <td>strong nutty, marshmallow</td>\n",
       "      <td>3.75</td>\n",
       "    </tr>\n",
       "    <tr>\n",
       "      <th>1917</th>\n",
       "      <td>1530</td>\n",
       "      <td>Pump Street Bakery</td>\n",
       "      <td>U.K.</td>\n",
       "      <td>2015</td>\n",
       "      <td>Madagascar</td>\n",
       "      <td>Akesson's, batch 4411</td>\n",
       "      <td>74.0</td>\n",
       "      <td>3.0</td>\n",
       "      <td>B,S,C</td>\n",
       "      <td>dairy, butterscotch, caramel</td>\n",
       "      <td>3.50</td>\n",
       "    </tr>\n",
       "    <tr>\n",
       "      <th>1105</th>\n",
       "      <td>1602</td>\n",
       "      <td>Guittard</td>\n",
       "      <td>U.S.A.</td>\n",
       "      <td>2015</td>\n",
       "      <td>Blend</td>\n",
       "      <td>Epique, Blend No. 49</td>\n",
       "      <td>70.0</td>\n",
       "      <td>5.0</td>\n",
       "      <td>B,S,C,V,L</td>\n",
       "      <td>nutty, black licorice</td>\n",
       "      <td>3.75</td>\n",
       "    </tr>\n",
       "  </tbody>\n",
       "</table>\n",
       "</div>"
      ],
      "text/plain": [
       "        id                  manufacturer company_location  year_reviewed  \\\n",
       "588    445             Chuao Chocolatier           U.S.A.           2009   \n",
       "340   1980  Brasstown aka It's Chocolate           U.S.A.           2017   \n",
       "2526  1996                        Zotter          Austria           2017   \n",
       "1917  1530            Pump Street Bakery             U.K.           2015   \n",
       "1105  1602                      Guittard           U.S.A.           2015   \n",
       "\n",
       "             bean_origin               bar_name  cocoa_percent  \\\n",
       "588            Venezuela                Choroni           61.0   \n",
       "340   Dominican Republic             Elvesia P.           70.0   \n",
       "2526            Colombia       APROCAFA, Acandi           75.0   \n",
       "1917          Madagascar  Akesson's, batch 4411           74.0   \n",
       "1105               Blend   Epique, Blend No. 49           70.0   \n",
       "\n",
       "      num_ingredients ingredients                        review  rating  \n",
       "588               5.0   B,S,C,V,L          sweet, peanut butter    3.00  \n",
       "340               3.0       B,S,C              earthy, cherries    3.25  \n",
       "2526              3.0       B,S,C     strong nutty, marshmallow    3.75  \n",
       "1917              3.0       B,S,C  dairy, butterscotch, caramel    3.50  \n",
       "1105              5.0   B,S,C,V,L         nutty, black licorice    3.75  "
      ]
     },
     "execution_count": 2,
     "metadata": {},
     "output_type": "execute_result"
    }
   ],
   "source": [
    "# we read the data\n",
    "data = pd.read_csv('data/chocolate_bars.csv')\n",
    "\n",
    "# we take a look at random data points\n",
    "data.sample(5)"
   ]
  },
  {
   "cell_type": "code",
   "execution_count": 3,
   "id": "88aba25a-8d9c-471f-a94a-fa416e14bc3e",
   "metadata": {},
   "outputs": [
    {
     "name": "stdout",
     "output_type": "stream",
     "text": [
      "<class 'pandas.core.frame.DataFrame'>\n",
      "RangeIndex: 2530 entries, 0 to 2529\n",
      "Data columns (total 11 columns):\n",
      " #   Column            Non-Null Count  Dtype  \n",
      "---  ------            --------------  -----  \n",
      " 0   id                2530 non-null   int64  \n",
      " 1   manufacturer      2530 non-null   object \n",
      " 2   company_location  2530 non-null   object \n",
      " 3   year_reviewed     2530 non-null   int64  \n",
      " 4   bean_origin       2530 non-null   object \n",
      " 5   bar_name          2530 non-null   object \n",
      " 6   cocoa_percent     2530 non-null   float64\n",
      " 7   num_ingredients   2443 non-null   float64\n",
      " 8   ingredients       2443 non-null   object \n",
      " 9   review            2530 non-null   object \n",
      " 10  rating            2530 non-null   float64\n",
      "dtypes: float64(3), int64(2), object(6)\n",
      "memory usage: 217.5+ KB\n"
     ]
    }
   ],
   "source": [
    "# we check the general info on the table\n",
    "data.info()"
   ]
  },
  {
   "cell_type": "code",
   "execution_count": 4,
   "id": "1c0e5b5d-c318-4cf2-a8f8-e7dd1e719836",
   "metadata": {},
   "outputs": [
    {
     "name": "stdout",
     "output_type": "stream",
     "text": [
      "Number of duplicates in the table: 0\n"
     ]
    }
   ],
   "source": [
    "# we check duplicates\n",
    "print('Number of duplicates in the table:', data.duplicated().sum())"
   ]
  },
  {
   "cell_type": "code",
   "execution_count": 5,
   "id": "27f65fd0-be48-420b-8931-7d9b9b074cb9",
   "metadata": {},
   "outputs": [
    {
     "name": "stdout",
     "output_type": "stream",
     "text": [
      "Number of missing values in table:\n",
      " id                   0\n",
      "manufacturer         0\n",
      "company_location     0\n",
      "year_reviewed        0\n",
      "bean_origin          0\n",
      "bar_name             0\n",
      "cocoa_percent        0\n",
      "num_ingredients     87\n",
      "ingredients         87\n",
      "review               0\n",
      "rating               0\n",
      "dtype: int64\n"
     ]
    }
   ],
   "source": [
    "# we check missing values\n",
    "print('Number of missing values in table:\\n', data.isna().sum())"
   ]
  },
  {
   "cell_type": "code",
   "execution_count": 6,
   "id": "778eefba-1368-4641-960a-6ffee00aebd9",
   "metadata": {},
   "outputs": [
    {
     "data": {
      "application/com.datacamp.data-table.v1+json": {
       "is_truncated": false,
       "table": {
        "data": [
         {
          "bar_name": "Maranon",
          "bean_origin": "Peru",
          "cocoa_percent": 70,
          "company_location": "Russia",
          "id": 1964,
          "index": 85,
          "ingredients": null,
          "manufacturer": "Amazing Cacao",
          "num_ingredients": null,
          "rating": 3,
          "review": "raisins, pungent",
          "year_reviewed": 2017
         },
         {
          "bar_name": "Platan Bajo",
          "bean_origin": "Peru",
          "cocoa_percent": 70,
          "company_location": "Russia",
          "id": 1964,
          "index": 86,
          "ingredients": null,
          "manufacturer": "Amazing Cacao",
          "num_ingredients": null,
          "rating": 3.5,
          "review": "few grits, blackcherry, licorice",
          "year_reviewed": 2017
         },
         {
          "bar_name": "Venezuela",
          "bean_origin": "Venezuela",
          "cocoa_percent": 100,
          "company_location": "U.K.",
          "id": 486,
          "index": 164,
          "ingredients": null,
          "manufacturer": "Artisan du Chocolat",
          "num_ingredients": null,
          "rating": 1.75,
          "review": "very nutty, very bitter",
          "year_reviewed": 2010
         },
         {
          "bar_name": "One Hundred",
          "bean_origin": "Blend",
          "cocoa_percent": 100,
          "company_location": "France",
          "id": 81,
          "index": 293,
          "ingredients": null,
          "manufacturer": "Bonnat",
          "num_ingredients": null,
          "rating": 1.5,
          "review": "acidic, bitter, dry",
          "year_reviewed": 2006
         },
         {
          "bar_name": "El Oro, Hacienda de Oro",
          "bean_origin": "Ecuador",
          "cocoa_percent": 100,
          "company_location": "Ecuador",
          "id": 341,
          "index": 323,
          "ingredients": null,
          "manufacturer": "Bouga Cacao (Tulicorp)",
          "num_ingredients": null,
          "rating": 1.5,
          "review": "cardboard, very bitter, floral",
          "year_reviewed": 2009
         },
         {
          "bar_name": "Maya Mountain",
          "bean_origin": "Belize",
          "cocoa_percent": 70,
          "company_location": "U.S.A.",
          "id": 1267,
          "index": 325,
          "ingredients": null,
          "manufacturer": "Bowler Man",
          "num_ingredients": null,
          "rating": 2.75,
          "review": "sandy, vanilla, candy-like",
          "year_reviewed": 2014
         },
         {
          "bar_name": "Conacado",
          "bean_origin": "Dominican Republic",
          "cocoa_percent": 70,
          "company_location": "U.S.A.",
          "id": 1271,
          "index": 326,
          "ingredients": null,
          "manufacturer": "Bowler Man",
          "num_ingredients": null,
          "rating": 2.75,
          "review": "gritty, sweet, mild coffee",
          "year_reviewed": 2014
         },
         {
          "bar_name": "Ghana",
          "bean_origin": "Ghana",
          "cocoa_percent": 70,
          "company_location": "South Korea",
          "id": 2084,
          "index": 419,
          "ingredients": null,
          "manufacturer": "Cacaodada",
          "num_ingredients": null,
          "rating": 3,
          "review": "high astringent, earthy",
          "year_reviewed": 2018
         },
         {
          "bar_name": "Dominican Republic",
          "bean_origin": "Dominican Republic",
          "cocoa_percent": 70,
          "company_location": "South Korea",
          "id": 2084,
          "index": 420,
          "ingredients": null,
          "manufacturer": "Cacaodada",
          "num_ingredients": null,
          "rating": 3.25,
          "review": "creamy, complex, astingent",
          "year_reviewed": 2018
         },
         {
          "bar_name": "Ecuador",
          "bean_origin": "Ecuador",
          "cocoa_percent": 70,
          "company_location": "South Korea",
          "id": 2084,
          "index": 421,
          "ingredients": null,
          "manufacturer": "Cacaodada",
          "num_ingredients": null,
          "rating": 3.5,
          "review": "floral, rum",
          "year_reviewed": 2018
         },
         {
          "bar_name": "Baking",
          "bean_origin": "Ecuador",
          "cocoa_percent": 70,
          "company_location": "Belgium",
          "id": 141,
          "index": 430,
          "ingredients": null,
          "manufacturer": "Callebaut",
          "num_ingredients": null,
          "rating": 1,
          "review": "bitter, cocoa",
          "year_reviewed": 2007
         },
         {
          "bar_name": "Grenade",
          "bean_origin": "Grenada",
          "cocoa_percent": 60,
          "company_location": "Belgium",
          "id": 296,
          "index": 431,
          "ingredients": null,
          "manufacturer": "Callebaut",
          "num_ingredients": null,
          "rating": 2.75,
          "review": "sweet, metallic, vanilla",
          "year_reviewed": 2008
         },
         {
          "bar_name": "Equateur",
          "bean_origin": "Ecuador",
          "cocoa_percent": 72,
          "company_location": "France",
          "id": 404,
          "index": 496,
          "ingredients": null,
          "manufacturer": "Cemoi",
          "num_ingredients": null,
          "rating": 2.75,
          "review": "sticky, mild mint, bitter",
          "year_reviewed": 2009
         },
         {
          "bar_name": "Blend No. 1",
          "bean_origin": "Blend",
          "cocoa_percent": 70,
          "company_location": "France",
          "id": 672,
          "index": 511,
          "ingredients": null,
          "manufacturer": "Chloe Chocolat",
          "num_ingredients": null,
          "rating": 3.5,
          "review": "cocoa, subtle peanut butter",
          "year_reviewed": 2011
         },
         {
          "bar_name": "Patanemo",
          "bean_origin": "Venezuela",
          "cocoa_percent": 77,
          "company_location": "Japan",
          "id": 1454,
          "index": 551,
          "ingredients": null,
          "manufacturer": "ChocoReko",
          "num_ingredients": null,
          "rating": 3,
          "review": "coarse, vegetal, nibby",
          "year_reviewed": 2015
         },
         {
          "bar_name": "Chiapas, Lacandon Jungle, Oaxacom Mtn",
          "bean_origin": "Mexico",
          "cocoa_percent": 65,
          "company_location": "Canada",
          "id": 682,
          "index": 552,
          "ingredients": null,
          "manufacturer": "Chocosol",
          "num_ingredients": null,
          "rating": 3.25,
          "review": "rustic,sweet, brownie, banana",
          "year_reviewed": 2011
         },
         {
          "bar_name": "Maranon Canyon, Fortunato No. 4",
          "bean_origin": "Peru",
          "cocoa_percent": 68,
          "company_location": "Canada",
          "id": 666,
          "index": 587,
          "ingredients": null,
          "manufacturer": "Christopher Morel (Felchlin)",
          "num_ingredients": null,
          "rating": 3.75,
          "review": "oily, citrus, orange",
          "year_reviewed": 2011
         },
         {
          "bar_name": "Principe, Sao Tome & Principe",
          "bean_origin": "Blend",
          "cocoa_percent": 100,
          "company_location": "Sao Tome",
          "id": 252,
          "index": 590,
          "ingredients": null,
          "manufacturer": "Claudio Corallo",
          "num_ingredients": null,
          "rating": 1,
          "review": "chalky, musty, very bitter",
          "year_reviewed": 2008
         },
         {
          "bar_name": "Carenero Superior",
          "bean_origin": "Venezuela",
          "cocoa_percent": 80,
          "company_location": "Argentina",
          "id": 292,
          "index": 602,
          "ingredients": null,
          "manufacturer": "Compania de Chocolate (Salgado)",
          "num_ingredients": null,
          "rating": 2.75,
          "review": "very sour, mildly bitter",
          "year_reviewed": 2008
         },
         {
          "bar_name": "Esmeraldas",
          "bean_origin": "Ecuador",
          "cocoa_percent": 88,
          "company_location": "Argentina",
          "id": 296,
          "index": 603,
          "ingredients": null,
          "manufacturer": "Compania de Chocolate (Salgado)",
          "num_ingredients": null,
          "rating": 2.75,
          "review": "slightly burnt, mildly bitter",
          "year_reviewed": 2008
         },
         {
          "bar_name": "Moxos",
          "bean_origin": "Bolivia",
          "cocoa_percent": 72,
          "company_location": "Argentina",
          "id": 292,
          "index": 604,
          "ingredients": null,
          "manufacturer": "Compania de Chocolate (Salgado)",
          "num_ingredients": null,
          "rating": 3.25,
          "review": "dry, coffee, sour",
          "year_reviewed": 2008
         },
         {
          "bar_name": "Ocumare",
          "bean_origin": "Venezuela",
          "cocoa_percent": 70,
          "company_location": "Argentina",
          "id": 292,
          "index": 605,
          "ingredients": null,
          "manufacturer": "Compania de Chocolate (Salgado)",
          "num_ingredients": null,
          "rating": 3.75,
          "review": "minty, nutty, nutmeg",
          "year_reviewed": 2008
         },
         {
          "bar_name": "Sur del Lago",
          "bean_origin": "Venezuela",
          "cocoa_percent": 70,
          "company_location": "Argentina",
          "id": 579,
          "index": 606,
          "ingredients": null,
          "manufacturer": "Compania de Chocolate (Salgado)",
          "num_ingredients": null,
          "rating": 3.25,
          "review": "cocoa then roasted nut",
          "year_reviewed": 2010
         },
         {
          "bar_name": "Ecuador Puristique",
          "bean_origin": "Ecuador",
          "cocoa_percent": 100,
          "company_location": "Germany",
          "id": 817,
          "index": 626,
          "ingredients": null,
          "manufacturer": "Coppeneur",
          "num_ingredients": null,
          "rating": 1.5,
          "review": "high intensity bitter",
          "year_reviewed": 2012
         },
         {
          "bar_name": "Sensations Intense",
          "bean_origin": "Blend",
          "cocoa_percent": 70,
          "company_location": "Belgium",
          "id": 48,
          "index": 632,
          "ingredients": null,
          "manufacturer": "Cote d' Or (Kraft)",
          "num_ingredients": null,
          "rating": 1,
          "review": "this is not chocolate",
          "year_reviewed": 2006
         },
         {
          "bar_name": "O'ahu Island, N. Shore, Waialua Estate",
          "bean_origin": "U.S.A.",
          "cocoa_percent": 70,
          "company_location": "U.S.A.",
          "id": 311,
          "index": 762,
          "ingredients": null,
          "manufacturer": "Dole (Guittard)",
          "num_ingredients": null,
          "rating": 3.75,
          "review": "creamy, nutty, fruity",
          "year_reviewed": 2009
         },
         {
          "bar_name": "IL100, H. San Jose, batch NDL3A01",
          "bean_origin": "Venezuela",
          "cocoa_percent": 100,
          "company_location": "Italy",
          "id": 1109,
          "index": 784,
          "ingredients": null,
          "manufacturer": "Domori",
          "num_ingredients": null,
          "rating": 3,
          "review": "smooth, fruit, coffee, bitter",
          "year_reviewed": 2013
         },
         {
          "bar_name": "Madagascar",
          "bean_origin": "Madagascar",
          "cocoa_percent": 82,
          "company_location": "France",
          "id": 841,
          "index": 817,
          "ingredients": null,
          "manufacturer": "Durand",
          "num_ingredients": null,
          "rating": 2.75,
          "review": "fatty, muted",
          "year_reviewed": 2012
         },
         {
          "bar_name": "Terreiro Velho P., Sao Tome & Principe",
          "bean_origin": "Blend",
          "cocoa_percent": 80,
          "company_location": "Spain",
          "id": 565,
          "index": 857,
          "ingredients": null,
          "manufacturer": "Enric Rovira (Claudio Corallo)",
          "num_ingredients": null,
          "rating": 3.25,
          "review": "unrefined, crumbly, sweet",
          "year_reviewed": 2010
         },
         {
          "bar_name": "one hundred",
          "bean_origin": "Blend",
          "cocoa_percent": 100,
          "company_location": "Canada",
          "id": 1205,
          "index": 1106,
          "ingredients": null,
          "manufacturer": "Habitual",
          "num_ingredients": null,
          "rating": 2,
          "review": "unrefined, bitter, earthy",
          "year_reviewed": 2014
         },
         {
          "bar_name": "South America and Africa",
          "bean_origin": "Blend",
          "cocoa_percent": 70,
          "company_location": "Australia",
          "id": 701,
          "index": 1118,
          "ingredients": null,
          "manufacturer": "Haigh",
          "num_ingredients": null,
          "rating": 3,
          "review": "vanilla, chocolate milk",
          "year_reviewed": 2011
         },
         {
          "bar_name": "Island Growers, 2012, 120hr c., batch 13080",
          "bean_origin": "St. Lucia",
          "cocoa_percent": 100,
          "company_location": "U.K.",
          "id": 1113,
          "index": 1180,
          "ingredients": null,
          "manufacturer": "Hotel Chocolat",
          "num_ingredients": null,
          "rating": 1.75,
          "review": "pastey, bitter, unfixable",
          "year_reviewed": 2013
         },
         {
          "bar_name": "Uganda",
          "bean_origin": "Uganda",
          "cocoa_percent": 80,
          "company_location": "U.K.",
          "id": 296,
          "index": 1186,
          "ingredients": null,
          "manufacturer": "Hotel Chocolat (Coppeneur)",
          "num_ingredients": null,
          "rating": 2.5,
          "review": "charred, espresso",
          "year_reviewed": 2008
         },
         {
          "bar_name": "Ecuador",
          "bean_origin": "Ecuador",
          "cocoa_percent": 70,
          "company_location": "U.K.",
          "id": 552,
          "index": 1190,
          "ingredients": null,
          "manufacturer": "Hotel Chocolat (Coppeneur)",
          "num_ingredients": null,
          "rating": 2.75,
          "review": "spicy, sour, burning",
          "year_reviewed": 2010
         },
         {
          "bar_name": "Santo Domingo",
          "bean_origin": "Dominican Republic",
          "cocoa_percent": 70,
          "company_location": "U.K.",
          "id": 552,
          "index": 1192,
          "ingredients": null,
          "manufacturer": "Hotel Chocolat (Coppeneur)",
          "num_ingredients": null,
          "rating": 3,
          "review": "earthy, woody, sour mint",
          "year_reviewed": 2010
         },
         {
          "bar_name": "Chanchamayo, Pichanadi, 2012, 60hr c., b.13092",
          "bean_origin": "Peru",
          "cocoa_percent": 100,
          "company_location": "U.K.",
          "id": 1109,
          "index": 1198,
          "ingredients": null,
          "manufacturer": "Hotel Chocolat (Coppeneur)",
          "num_ingredients": null,
          "rating": 2.75,
          "review": "spice,cocoa, tolerable bitter",
          "year_reviewed": 2013
         },
         {
          "bar_name": "Conacado, 2012, 120hr c.batch 13092",
          "bean_origin": "Dominican Republic",
          "cocoa_percent": 100,
          "company_location": "U.K.",
          "id": 1113,
          "index": 1199,
          "ingredients": null,
          "manufacturer": "Hotel Chocolat (Coppeneur)",
          "num_ingredients": null,
          "rating": 2.75,
          "review": "trop. Fruit, coffee, bitter",
          "year_reviewed": 2013
         },
         {
          "bar_name": "Vanuatu",
          "bean_origin": "Vanuatu",
          "cocoa_percent": 65,
          "company_location": "Germany",
          "id": 387,
          "index": 1268,
          "ingredients": null,
          "manufacturer": "Kakao",
          "num_ingredients": null,
          "rating": 3.75,
          "review": "cocoa, strong distinct spice",
          "year_reviewed": 2009
         },
         {
          "bar_name": "Peru",
          "bean_origin": "Peru",
          "cocoa_percent": 64,
          "company_location": "Germany",
          "id": 837,
          "index": 1269,
          "ingredients": null,
          "manufacturer": "Kakao",
          "num_ingredients": null,
          "rating": 2.5,
          "review": "chewy, vanilla, metallic",
          "year_reviewed": 2012
         },
         {
          "bar_name": "Noir",
          "bean_origin": "Blend",
          "cocoa_percent": 70,
          "company_location": "France",
          "id": 404,
          "index": 1278,
          "ingredients": null,
          "manufacturer": "Kaoka (Cemoi)",
          "num_ingredients": null,
          "rating": 2.75,
          "review": "mild bitter and chemical off",
          "year_reviewed": 2009
         },
         {
          "bar_name": "Ecuador",
          "bean_origin": "Ecuador",
          "cocoa_percent": 80,
          "company_location": "France",
          "id": 423,
          "index": 1279,
          "ingredients": null,
          "manufacturer": "Kaoka (Cemoi)",
          "num_ingredients": null,
          "rating": 2.75,
          "review": "spicy, floral, bitter",
          "year_reviewed": 2009
         },
         {
          "bar_name": "Lumas, 2015 Harvest, Batch 6, brown sugar",
          "bean_origin": "Peru",
          "cocoa_percent": 70,
          "company_location": "Japan",
          "id": 1892,
          "index": 1319,
          "ingredients": null,
          "manufacturer": "La Chocolaterie Nanairo",
          "num_ingredients": null,
          "rating": 2.25,
          "review": "molasses, cardboard, off note",
          "year_reviewed": 2016
         },
         {
          "bar_name": "Lumas, 2015 Harvest, Batch 7",
          "bean_origin": "Peru",
          "cocoa_percent": 70,
          "company_location": "Japan",
          "id": 1892,
          "index": 1320,
          "ingredients": null,
          "manufacturer": "La Chocolaterie Nanairo",
          "num_ingredients": null,
          "rating": 2.5,
          "review": "metallic, cardboard, fruit",
          "year_reviewed": 2016
         },
         {
          "bar_name": "Belize, 2014 Harvest, Batch 9",
          "bean_origin": "Belize",
          "cocoa_percent": 70,
          "company_location": "Japan",
          "id": 1892,
          "index": 1321,
          "ingredients": null,
          "manufacturer": "La Chocolaterie Nanairo",
          "num_ingredients": null,
          "rating": 3,
          "review": "nutty, fatty",
          "year_reviewed": 2016
         },
         {
          "bar_name": "Tumbes, 2013 Harvest, Batch 8",
          "bean_origin": "Peru",
          "cocoa_percent": 70,
          "company_location": "Japan",
          "id": 1892,
          "index": 1322,
          "ingredients": null,
          "manufacturer": "La Chocolaterie Nanairo",
          "num_ingredients": null,
          "rating": 3,
          "review": "grit, earthy, musty",
          "year_reviewed": 2016
         },
         {
          "bar_name": "Peruvian Amazon",
          "bean_origin": "Peru",
          "cocoa_percent": 72,
          "company_location": "Peru",
          "id": 721,
          "index": 1340,
          "ingredients": null,
          "manufacturer": "La Oroquidea",
          "num_ingredients": null,
          "rating": 2.5,
          "review": "peanut butter, burnt rubber",
          "year_reviewed": 2011
         },
         {
          "bar_name": "Vinces",
          "bean_origin": "Ecuador",
          "cocoa_percent": 60,
          "company_location": "Ecuador",
          "id": 713,
          "index": 1341,
          "ingredients": null,
          "manufacturer": "La Pepa de Oro",
          "num_ingredients": null,
          "rating": 3.25,
          "review": "sweet, fudgey, tang",
          "year_reviewed": 2011
         },
         {
          "bar_name": "Catongo",
          "bean_origin": "Brazil",
          "cocoa_percent": 70,
          "company_location": "Brazil",
          "id": 927,
          "index": 1355,
          "ingredients": null,
          "manufacturer": "Lajedo do Ouro",
          "num_ingredients": null,
          "rating": 3.5,
          "review": "floral, caramel",
          "year_reviewed": 2012
         },
         {
          "bar_name": "Tanzania",
          "bean_origin": "Tanzania",
          "cocoa_percent": 75,
          "company_location": "U.S.A.",
          "id": 327,
          "index": 1356,
          "ingredients": null,
          "manufacturer": "Lake Champlain (Callebaut)",
          "num_ingredients": null,
          "rating": 2.5,
          "review": "dry, roasty, toffee",
          "year_reviewed": 2009
         },
         {
          "bar_name": "Peru",
          "bean_origin": "Peru",
          "cocoa_percent": 55,
          "company_location": "Peru",
          "id": 552,
          "index": 1422,
          "ingredients": null,
          "manufacturer": "Machu Picchu Trading Co.",
          "num_ingredients": null,
          "rating": 2.25,
          "review": "extremely sweet, vanilla",
          "year_reviewed": 2010
         },
         {
          "bar_name": "Peru",
          "bean_origin": "Peru",
          "cocoa_percent": 70,
          "company_location": "Peru",
          "id": 721,
          "index": 1423,
          "ingredients": null,
          "manufacturer": "Machu Picchu Trading Co.",
          "num_ingredients": null,
          "rating": 1.5,
          "review": "vanilla, strong chemical",
          "year_reviewed": 2011
         },
         {
          "bar_name": "Matina 1-6, prototype",
          "bean_origin": "Costa Rica",
          "cocoa_percent": 65,
          "company_location": "U.S.A.",
          "id": 537,
          "index": 1508,
          "ingredients": null,
          "manufacturer": "Mars",
          "num_ingredients": null,
          "rating": 3,
          "review": "intense orange, floral",
          "year_reviewed": 2010
         },
         {
          "bar_name": "Ivory Coast, prototype",
          "bean_origin": "Ivory Coast",
          "cocoa_percent": 65,
          "company_location": "U.S.A.",
          "id": 544,
          "index": 1509,
          "ingredients": null,
          "manufacturer": "Mars",
          "num_ingredients": null,
          "rating": 3,
          "review": "chewy, earthy, spicy",
          "year_reviewed": 2010
         },
         {
          "bar_name": "Nigeria, prototype",
          "bean_origin": "Nigeria",
          "cocoa_percent": 65,
          "company_location": "U.S.A.",
          "id": 544,
          "index": 1510,
          "ingredients": null,
          "manufacturer": "Mars",
          "num_ingredients": null,
          "rating": 3.25,
          "review": "cocoa, earth, wheat",
          "year_reviewed": 2010
         },
         {
          "bar_name": "Ghana, prototype",
          "bean_origin": "Ghana",
          "cocoa_percent": 65,
          "company_location": "U.S.A.",
          "id": 544,
          "index": 1511,
          "ingredients": null,
          "manufacturer": "Mars",
          "num_ingredients": null,
          "rating": 3.5,
          "review": "intense, dark berry, cocoa",
          "year_reviewed": 2010
         },
         {
          "bar_name": "Tumaco",
          "bean_origin": "Colombia",
          "cocoa_percent": 65,
          "company_location": "Colombia",
          "id": 955,
          "index": 1626,
          "ingredients": null,
          "manufacturer": "Mita",
          "num_ingredients": null,
          "rating": 2.5,
          "review": "vanilla, artificial, sweet",
          "year_reviewed": 2012
         },
         {
          "bar_name": "Papaua New Guinea",
          "bean_origin": "Papua New Guinea",
          "cocoa_percent": 70,
          "company_location": "Australia",
          "id": 1391,
          "index": 1645,
          "ingredients": null,
          "manufacturer": "Monsieur Truffe",
          "num_ingredients": null,
          "rating": 3.25,
          "review": "smoke, ham, sour milk",
          "year_reviewed": 2014
         },
         {
          "bar_name": "Manabi",
          "bean_origin": "Ecuador",
          "cocoa_percent": 70,
          "company_location": "Ecuador",
          "id": 1654,
          "index": 1649,
          "ingredients": null,
          "manufacturer": "Montecristi",
          "num_ingredients": null,
          "rating": 3.25,
          "review": "spicy, smoke, sour",
          "year_reviewed": 2015
         },
         {
          "bar_name": "Manabi",
          "bean_origin": "Ecuador",
          "cocoa_percent": 63,
          "company_location": "Ecuador",
          "id": 1654,
          "index": 1650,
          "ingredients": null,
          "manufacturer": "Montecristi",
          "num_ingredients": null,
          "rating": 3.5,
          "review": "spicy, sweet, fragrant",
          "year_reviewed": 2015
         },
         {
          "bar_name": "Manabi",
          "bean_origin": "Ecuador",
          "cocoa_percent": 85,
          "company_location": "Ecuador",
          "id": 1658,
          "index": 1651,
          "ingredients": null,
          "manufacturer": "Montecristi",
          "num_ingredients": null,
          "rating": 3.5,
          "review": "spicy, fragrant, bitter",
          "year_reviewed": 2015
         },
         {
          "bar_name": "Criollo Blend",
          "bean_origin": "U.S.A.",
          "cocoa_percent": 85,
          "company_location": "U.S.A.",
          "id": 1007,
          "index": 1670,
          "ingredients": null,
          "manufacturer": "Nanea",
          "num_ingredients": null,
          "rating": 3.5,
          "review": "sandy, spicy, earthy",
          "year_reviewed": 2013
         },
         {
          "bar_name": "Venezuela",
          "bean_origin": "Venezuela",
          "cocoa_percent": 70,
          "company_location": "U.S.A.",
          "id": 837,
          "index": 1699,
          "ingredients": null,
          "manufacturer": "Noir d' Ebine",
          "num_ingredients": null,
          "rating": 3,
          "review": "sweet, candy like, dairy",
          "year_reviewed": 2012
         },
         {
          "bar_name": "Ecuador",
          "bean_origin": "Ecuador",
          "cocoa_percent": 70,
          "company_location": "U.S.A.",
          "id": 841,
          "index": 1700,
          "ingredients": null,
          "manufacturer": "Noir d' Ebine",
          "num_ingredients": null,
          "rating": 3,
          "review": "sweet, spicy, cocoa",
          "year_reviewed": 2012
         },
         {
          "bar_name": "Raw",
          "bean_origin": "Ecuador",
          "cocoa_percent": 100,
          "company_location": "Ecuador",
          "id": 266,
          "index": 1776,
          "ingredients": null,
          "manufacturer": "Pacari",
          "num_ingredients": null,
          "rating": 2,
          "review": "bitter, earthy",
          "year_reviewed": 2008
         },
         {
          "bar_name": "Ecuador",
          "bean_origin": "Ecuador",
          "cocoa_percent": 75,
          "company_location": "Ecuador",
          "id": 565,
          "index": 1947,
          "ingredients": null,
          "manufacturer": "Rancho San Jacinto",
          "num_ingredients": null,
          "rating": 3,
          "review": "slightly dry and super spicey",
          "year_reviewed": 2010
         },
         {
          "bar_name": "Raw",
          "bean_origin": "Peru",
          "cocoa_percent": 70,
          "company_location": "Poland",
          "id": 867,
          "index": 1959,
          "ingredients": null,
          "manufacturer": "Raw Cocoa",
          "num_ingredients": null,
          "rating": 2.5,
          "review": "smooth, green, vegetal",
          "year_reviewed": 2012
         },
         {
          "bar_name": "Gru Grococo, St. Andrews",
          "bean_origin": "Grenada",
          "cocoa_percent": 66,
          "company_location": "U.K.",
          "id": 923,
          "index": 1986,
          "ingredients": null,
          "manufacturer": "Rococo (Grenada Chocolate Co.)",
          "num_ingredients": null,
          "rating": 3.5,
          "review": "earthy, mild nutty",
          "year_reviewed": 2012
         },
         {
          "bar_name": "100 percent",
          "bean_origin": "Blend",
          "cocoa_percent": 100,
          "company_location": "Italy",
          "id": 615,
          "index": 2017,
          "ingredients": null,
          "manufacturer": "S.A.I.D.",
          "num_ingredients": null,
          "rating": 1.5,
          "review": "sticky, intense, very bitter",
          "year_reviewed": 2010
         },
         {
          "bar_name": "Samana",
          "bean_origin": "Dominican Republic",
          "cocoa_percent": 70,
          "company_location": "Italy",
          "id": 615,
          "index": 2018,
          "ingredients": null,
          "manufacturer": "S.A.I.D.",
          "num_ingredients": null,
          "rating": 3,
          "review": "fudgey, astringent, sour",
          "year_reviewed": 2010
         },
         {
          "bar_name": "Malgascio",
          "bean_origin": "Madagascar",
          "cocoa_percent": 64,
          "company_location": "Italy",
          "id": 607,
          "index": 2019,
          "ingredients": null,
          "manufacturer": "S.A.I.D.",
          "num_ingredients": null,
          "rating": 3.5,
          "review": "sandy, subtle fruit then cocoa",
          "year_reviewed": 2010
         },
         {
          "bar_name": "Carribean, Arawak",
          "bean_origin": "Blend",
          "cocoa_percent": 72,
          "company_location": "Italy",
          "id": 615,
          "index": 2020,
          "ingredients": null,
          "manufacturer": "S.A.I.D.",
          "num_ingredients": null,
          "rating": 3.5,
          "review": "fatty, cocoa, nutty",
          "year_reviewed": 2010
         },
         {
          "bar_name": "Latino",
          "bean_origin": "Blend",
          "cocoa_percent": 72,
          "company_location": "Italy",
          "id": 615,
          "index": 2021,
          "ingredients": null,
          "manufacturer": "S.A.I.D.",
          "num_ingredients": null,
          "rating": 3.5,
          "review": "sandy, sweet, spice",
          "year_reviewed": 2010
         },
         {
          "bar_name": "Peru",
          "bean_origin": "Peru",
          "cocoa_percent": 70,
          "company_location": "U.S.A.",
          "id": 911,
          "index": 2078,
          "ingredients": null,
          "manufacturer": "Sibu Sura",
          "num_ingredients": null,
          "rating": 2.5,
          "review": "sandy, sweet, vanilla",
          "year_reviewed": 2012
         },
         {
          "bar_name": "Peru, Ecuador",
          "bean_origin": "Blend",
          "cocoa_percent": 99,
          "company_location": "U.S.A.",
          "id": 915,
          "index": 2293,
          "ingredients": null,
          "manufacturer": "TCHO",
          "num_ingredients": null,
          "rating": 3.25,
          "review": "spicy, ginger, bitter",
          "year_reviewed": 2012
         },
         {
          "bar_name": "Roxborough, Tobago",
          "bean_origin": "Tobago",
          "cocoa_percent": 70,
          "company_location": "France",
          "id": 895,
          "index": 2336,
          "ingredients": null,
          "manufacturer": "Tobago Estate (Pralus)",
          "num_ingredients": null,
          "rating": 4,
          "review": "smooth, wild berries",
          "year_reviewed": 2012
         },
         {
          "bar_name": "Ambanja, Tsara Valley",
          "bean_origin": "Madagascar",
          "cocoa_percent": 72,
          "company_location": "Madagascar",
          "id": 753,
          "index": 2357,
          "ingredients": null,
          "manufacturer": "Tsara (Cinagra)",
          "num_ingredients": null,
          "rating": 3.5,
          "review": "cocoa, mild fruit",
          "year_reviewed": 2011
         },
         {
          "bar_name": "Dominican Republic",
          "bean_origin": "Dominican Republic",
          "cocoa_percent": 63,
          "company_location": "France",
          "id": 709,
          "index": 2366,
          "ingredients": null,
          "manufacturer": "Un Dimanche A Paris",
          "num_ingredients": null,
          "rating": 3.75,
          "review": "spicy and rich",
          "year_reviewed": 2011
         },
         {
          "bar_name": "Manhattan",
          "bean_origin": "Ghana",
          "cocoa_percent": 72,
          "company_location": "U.S.A.",
          "id": 963,
          "index": 2400,
          "ingredients": null,
          "manufacturer": "Vanleer (Barry Callebaut)",
          "num_ingredients": null,
          "rating": 2.5,
          "review": "sour vanila, heavy roast",
          "year_reviewed": 2012
         },
         {
          "bar_name": "Napa",
          "bean_origin": "Ghana",
          "cocoa_percent": 65,
          "company_location": "U.S.A.",
          "id": 963,
          "index": 2401,
          "ingredients": null,
          "manufacturer": "Vanleer (Barry Callebaut)",
          "num_ingredients": null,
          "rating": 2.75,
          "review": "oily, caramel \"rolo\", sweet",
          "year_reviewed": 2012
         },
         {
          "bar_name": "Madagascar",
          "bean_origin": "Madagascar",
          "cocoa_percent": 70,
          "company_location": "Madagascar",
          "id": 404,
          "index": 2405,
          "ingredients": null,
          "manufacturer": "Vao Vao (Chocolaterie Robert)",
          "num_ingredients": null,
          "rating": 3,
          "review": "oily, fatty, citrus",
          "year_reviewed": 2009
         },
         {
          "bar_name": "Madagascar w/ nibs",
          "bean_origin": "Madagascar",
          "cocoa_percent": 68,
          "company_location": "Madagascar",
          "id": 404,
          "index": 2406,
          "ingredients": null,
          "manufacturer": "Vao Vao (Chocolaterie Robert)",
          "num_ingredients": null,
          "rating": 3,
          "review": "oily, nutty, fatty",
          "year_reviewed": 2009
         },
         {
          "bar_name": "Madagascar",
          "bean_origin": "Madagascar",
          "cocoa_percent": 64,
          "company_location": "Madagascar",
          "id": 404,
          "index": 2407,
          "ingredients": null,
          "manufacturer": "Vao Vao (Chocolaterie Robert)",
          "num_ingredients": null,
          "rating": 3.25,
          "review": "sandy, mild citrus, sweet",
          "year_reviewed": 2009
         },
         {
          "bar_name": "Los Rios, Rancho Grande 2004/2007",
          "bean_origin": "Ecuador",
          "cocoa_percent": 100,
          "company_location": "U.S.A.",
          "id": 153,
          "index": 2424,
          "ingredients": null,
          "manufacturer": "Vintage Plantations (Tulicorp)",
          "num_ingredients": null,
          "rating": 2,
          "review": "bland, mild fruit, strong bitter",
          "year_reviewed": 2007
         },
         {
          "bar_name": "Los Rios, Rancho Grande 2004/2007",
          "bean_origin": "Ecuador",
          "cocoa_percent": 90,
          "company_location": "U.S.A.",
          "id": 153,
          "index": 2425,
          "ingredients": null,
          "manufacturer": "Vintage Plantations (Tulicorp)",
          "num_ingredients": null,
          "rating": 2,
          "review": "some fruit, strong bitter",
          "year_reviewed": 2007
         },
         {
          "bar_name": "Los Rios, Rancho Grande 2004/2007",
          "bean_origin": "Ecuador",
          "cocoa_percent": 75,
          "company_location": "U.S.A.",
          "id": 153,
          "index": 2426,
          "ingredients": null,
          "manufacturer": "Vintage Plantations (Tulicorp)",
          "num_ingredients": null,
          "rating": 3,
          "review": "cocoa,earthy,very astringent",
          "year_reviewed": 2007
         },
         {
          "bar_name": "Ghana",
          "bean_origin": "Ghana",
          "cocoa_percent": 72,
          "company_location": "New Zealand",
          "id": 733,
          "index": 2447,
          "ingredients": null,
          "manufacturer": "Whittakers",
          "num_ingredients": null,
          "rating": 2.5,
          "review": "sticky, dry, vanilla dominates",
          "year_reviewed": 2011
         },
         {
          "bar_name": "Java, Indonesian Black",
          "bean_origin": "Indonesia",
          "cocoa_percent": 100,
          "company_location": "U.K.",
          "id": 1109,
          "index": 2457,
          "ingredients": null,
          "manufacturer": "Willie's Cacao",
          "num_ingredients": null,
          "rating": 2.25,
          "review": "fruit, strong smoke, bitter",
          "year_reviewed": 2013
         }
        ],
        "schema": {
         "fields": [
          {
           "name": "index",
           "type": "integer"
          },
          {
           "name": "id",
           "type": "integer"
          },
          {
           "name": "manufacturer",
           "type": "string"
          },
          {
           "name": "company_location",
           "type": "string"
          },
          {
           "name": "year_reviewed",
           "type": "integer"
          },
          {
           "name": "bean_origin",
           "type": "string"
          },
          {
           "name": "bar_name",
           "type": "string"
          },
          {
           "name": "cocoa_percent",
           "type": "number"
          },
          {
           "name": "num_ingredients",
           "type": "number"
          },
          {
           "name": "ingredients",
           "type": "string"
          },
          {
           "name": "review",
           "type": "string"
          },
          {
           "name": "rating",
           "type": "number"
          }
         ],
         "pandas_version": "0.20.0",
         "primaryKey": [
          "index"
         ]
        }
       },
       "total_rows": 87
      },
      "text/html": [
       "<div>\n",
       "<style scoped>\n",
       "    .dataframe tbody tr th:only-of-type {\n",
       "        vertical-align: middle;\n",
       "    }\n",
       "\n",
       "    .dataframe tbody tr th {\n",
       "        vertical-align: top;\n",
       "    }\n",
       "\n",
       "    .dataframe thead th {\n",
       "        text-align: right;\n",
       "    }\n",
       "</style>\n",
       "<table border=\"1\" class=\"dataframe\">\n",
       "  <thead>\n",
       "    <tr style=\"text-align: right;\">\n",
       "      <th></th>\n",
       "      <th>id</th>\n",
       "      <th>manufacturer</th>\n",
       "      <th>company_location</th>\n",
       "      <th>year_reviewed</th>\n",
       "      <th>bean_origin</th>\n",
       "      <th>bar_name</th>\n",
       "      <th>cocoa_percent</th>\n",
       "      <th>num_ingredients</th>\n",
       "      <th>ingredients</th>\n",
       "      <th>review</th>\n",
       "      <th>rating</th>\n",
       "    </tr>\n",
       "  </thead>\n",
       "  <tbody>\n",
       "    <tr>\n",
       "      <th>85</th>\n",
       "      <td>1964</td>\n",
       "      <td>Amazing Cacao</td>\n",
       "      <td>Russia</td>\n",
       "      <td>2017</td>\n",
       "      <td>Peru</td>\n",
       "      <td>Maranon</td>\n",
       "      <td>70.0</td>\n",
       "      <td>NaN</td>\n",
       "      <td>NaN</td>\n",
       "      <td>raisins, pungent</td>\n",
       "      <td>3.00</td>\n",
       "    </tr>\n",
       "    <tr>\n",
       "      <th>86</th>\n",
       "      <td>1964</td>\n",
       "      <td>Amazing Cacao</td>\n",
       "      <td>Russia</td>\n",
       "      <td>2017</td>\n",
       "      <td>Peru</td>\n",
       "      <td>Platan Bajo</td>\n",
       "      <td>70.0</td>\n",
       "      <td>NaN</td>\n",
       "      <td>NaN</td>\n",
       "      <td>few grits, blackcherry, licorice</td>\n",
       "      <td>3.50</td>\n",
       "    </tr>\n",
       "    <tr>\n",
       "      <th>164</th>\n",
       "      <td>486</td>\n",
       "      <td>Artisan du Chocolat</td>\n",
       "      <td>U.K.</td>\n",
       "      <td>2010</td>\n",
       "      <td>Venezuela</td>\n",
       "      <td>Venezuela</td>\n",
       "      <td>100.0</td>\n",
       "      <td>NaN</td>\n",
       "      <td>NaN</td>\n",
       "      <td>very nutty, very bitter</td>\n",
       "      <td>1.75</td>\n",
       "    </tr>\n",
       "    <tr>\n",
       "      <th>293</th>\n",
       "      <td>81</td>\n",
       "      <td>Bonnat</td>\n",
       "      <td>France</td>\n",
       "      <td>2006</td>\n",
       "      <td>Blend</td>\n",
       "      <td>One Hundred</td>\n",
       "      <td>100.0</td>\n",
       "      <td>NaN</td>\n",
       "      <td>NaN</td>\n",
       "      <td>acidic, bitter, dry</td>\n",
       "      <td>1.50</td>\n",
       "    </tr>\n",
       "    <tr>\n",
       "      <th>323</th>\n",
       "      <td>341</td>\n",
       "      <td>Bouga Cacao (Tulicorp)</td>\n",
       "      <td>Ecuador</td>\n",
       "      <td>2009</td>\n",
       "      <td>Ecuador</td>\n",
       "      <td>El Oro, Hacienda de Oro</td>\n",
       "      <td>100.0</td>\n",
       "      <td>NaN</td>\n",
       "      <td>NaN</td>\n",
       "      <td>cardboard, very bitter, floral</td>\n",
       "      <td>1.50</td>\n",
       "    </tr>\n",
       "    <tr>\n",
       "      <th>...</th>\n",
       "      <td>...</td>\n",
       "      <td>...</td>\n",
       "      <td>...</td>\n",
       "      <td>...</td>\n",
       "      <td>...</td>\n",
       "      <td>...</td>\n",
       "      <td>...</td>\n",
       "      <td>...</td>\n",
       "      <td>...</td>\n",
       "      <td>...</td>\n",
       "      <td>...</td>\n",
       "    </tr>\n",
       "    <tr>\n",
       "      <th>2424</th>\n",
       "      <td>153</td>\n",
       "      <td>Vintage Plantations (Tulicorp)</td>\n",
       "      <td>U.S.A.</td>\n",
       "      <td>2007</td>\n",
       "      <td>Ecuador</td>\n",
       "      <td>Los Rios, Rancho Grande 2004/2007</td>\n",
       "      <td>100.0</td>\n",
       "      <td>NaN</td>\n",
       "      <td>NaN</td>\n",
       "      <td>bland, mild fruit, strong bitter</td>\n",
       "      <td>2.00</td>\n",
       "    </tr>\n",
       "    <tr>\n",
       "      <th>2425</th>\n",
       "      <td>153</td>\n",
       "      <td>Vintage Plantations (Tulicorp)</td>\n",
       "      <td>U.S.A.</td>\n",
       "      <td>2007</td>\n",
       "      <td>Ecuador</td>\n",
       "      <td>Los Rios, Rancho Grande 2004/2007</td>\n",
       "      <td>90.0</td>\n",
       "      <td>NaN</td>\n",
       "      <td>NaN</td>\n",
       "      <td>some fruit, strong bitter</td>\n",
       "      <td>2.00</td>\n",
       "    </tr>\n",
       "    <tr>\n",
       "      <th>2426</th>\n",
       "      <td>153</td>\n",
       "      <td>Vintage Plantations (Tulicorp)</td>\n",
       "      <td>U.S.A.</td>\n",
       "      <td>2007</td>\n",
       "      <td>Ecuador</td>\n",
       "      <td>Los Rios, Rancho Grande 2004/2007</td>\n",
       "      <td>75.0</td>\n",
       "      <td>NaN</td>\n",
       "      <td>NaN</td>\n",
       "      <td>cocoa,earthy,very astringent</td>\n",
       "      <td>3.00</td>\n",
       "    </tr>\n",
       "    <tr>\n",
       "      <th>2447</th>\n",
       "      <td>733</td>\n",
       "      <td>Whittakers</td>\n",
       "      <td>New Zealand</td>\n",
       "      <td>2011</td>\n",
       "      <td>Ghana</td>\n",
       "      <td>Ghana</td>\n",
       "      <td>72.0</td>\n",
       "      <td>NaN</td>\n",
       "      <td>NaN</td>\n",
       "      <td>sticky, dry, vanilla dominates</td>\n",
       "      <td>2.50</td>\n",
       "    </tr>\n",
       "    <tr>\n",
       "      <th>2457</th>\n",
       "      <td>1109</td>\n",
       "      <td>Willie's Cacao</td>\n",
       "      <td>U.K.</td>\n",
       "      <td>2013</td>\n",
       "      <td>Indonesia</td>\n",
       "      <td>Java, Indonesian Black</td>\n",
       "      <td>100.0</td>\n",
       "      <td>NaN</td>\n",
       "      <td>NaN</td>\n",
       "      <td>fruit, strong smoke, bitter</td>\n",
       "      <td>2.25</td>\n",
       "    </tr>\n",
       "  </tbody>\n",
       "</table>\n",
       "<p>87 rows × 11 columns</p>\n",
       "</div>"
      ],
      "text/plain": [
       "        id                    manufacturer company_location  year_reviewed  \\\n",
       "85    1964                   Amazing Cacao           Russia           2017   \n",
       "86    1964                   Amazing Cacao           Russia           2017   \n",
       "164    486             Artisan du Chocolat             U.K.           2010   \n",
       "293     81                          Bonnat           France           2006   \n",
       "323    341          Bouga Cacao (Tulicorp)          Ecuador           2009   \n",
       "...    ...                             ...              ...            ...   \n",
       "2424   153  Vintage Plantations (Tulicorp)           U.S.A.           2007   \n",
       "2425   153  Vintage Plantations (Tulicorp)           U.S.A.           2007   \n",
       "2426   153  Vintage Plantations (Tulicorp)           U.S.A.           2007   \n",
       "2447   733                      Whittakers      New Zealand           2011   \n",
       "2457  1109                  Willie's Cacao             U.K.           2013   \n",
       "\n",
       "     bean_origin                           bar_name  cocoa_percent  \\\n",
       "85          Peru                            Maranon           70.0   \n",
       "86          Peru                        Platan Bajo           70.0   \n",
       "164    Venezuela                          Venezuela          100.0   \n",
       "293        Blend                        One Hundred          100.0   \n",
       "323      Ecuador            El Oro, Hacienda de Oro          100.0   \n",
       "...          ...                                ...            ...   \n",
       "2424     Ecuador  Los Rios, Rancho Grande 2004/2007          100.0   \n",
       "2425     Ecuador  Los Rios, Rancho Grande 2004/2007           90.0   \n",
       "2426     Ecuador  Los Rios, Rancho Grande 2004/2007           75.0   \n",
       "2447       Ghana                              Ghana           72.0   \n",
       "2457   Indonesia             Java, Indonesian Black          100.0   \n",
       "\n",
       "      num_ingredients ingredients                            review  rating  \n",
       "85                NaN         NaN                  raisins, pungent    3.00  \n",
       "86                NaN         NaN  few grits, blackcherry, licorice    3.50  \n",
       "164               NaN         NaN           very nutty, very bitter    1.75  \n",
       "293               NaN         NaN               acidic, bitter, dry    1.50  \n",
       "323               NaN         NaN    cardboard, very bitter, floral    1.50  \n",
       "...               ...         ...                               ...     ...  \n",
       "2424              NaN         NaN  bland, mild fruit, strong bitter    2.00  \n",
       "2425              NaN         NaN         some fruit, strong bitter    2.00  \n",
       "2426              NaN         NaN      cocoa,earthy,very astringent    3.00  \n",
       "2447              NaN         NaN    sticky, dry, vanilla dominates    2.50  \n",
       "2457              NaN         NaN       fruit, strong smoke, bitter    2.25  \n",
       "\n",
       "[87 rows x 11 columns]"
      ]
     },
     "metadata": {},
     "output_type": "display_data"
    }
   ],
   "source": [
    "# we read missing values\n",
    "data_isna = data[data['num_ingredients'].isna()]\n",
    "display(data_isna)"
   ]
  },
  {
   "cell_type": "code",
   "execution_count": 7,
   "id": "02f0d996-0e16-407c-be6f-f17249022ba8",
   "metadata": {},
   "outputs": [
    {
     "data": {
      "application/com.datacamp.data-table.v1+json": {
       "is_truncated": false,
       "table": {
        "data": [
         {
          "id": 404,
          "index": 12,
          "isna_count": 5
         },
         {
          "id": 615,
          "index": 21,
          "isna_count": 4
         },
         {
          "id": 1892,
          "index": 52,
          "isna_count": 4
         },
         {
          "id": 2084,
          "index": 54,
          "isna_count": 3
         },
         {
          "id": 296,
          "index": 7,
          "isna_count": 3
         },
         {
          "id": 1109,
          "index": 43,
          "isna_count": 3
         },
         {
          "id": 552,
          "index": 17,
          "isna_count": 3
         },
         {
          "id": 544,
          "index": 16,
          "isna_count": 3
         },
         {
          "id": 292,
          "index": 6,
          "isna_count": 3
         },
         {
          "id": 153,
          "index": 3,
          "isna_count": 3
         },
         {
          "id": 1654,
          "index": 50,
          "isna_count": 2
         },
         {
          "id": 837,
          "index": 32,
          "isna_count": 2
         },
         {
          "id": 721,
          "index": 28,
          "isna_count": 2
         },
         {
          "id": 963,
          "index": 41,
          "isna_count": 2
         },
         {
          "id": 1964,
          "index": 53,
          "isna_count": 2
         },
         {
          "id": 565,
          "index": 18,
          "isna_count": 2
         },
         {
          "id": 841,
          "index": 33,
          "isna_count": 2
         },
         {
          "id": 1113,
          "index": 44,
          "isna_count": 2
         },
         {
          "id": 1658,
          "index": 51,
          "isna_count": 1
         },
         {
          "id": 1205,
          "index": 45,
          "isna_count": 1
         },
         {
          "id": 1454,
          "index": 49,
          "isna_count": 1
         },
         {
          "id": 1267,
          "index": 46,
          "isna_count": 1
         },
         {
          "id": 1271,
          "index": 47,
          "isna_count": 1
         },
         {
          "id": 955,
          "index": 40,
          "isna_count": 1
         },
         {
          "id": 927,
          "index": 39,
          "isna_count": 1
         },
         {
          "id": 923,
          "index": 38,
          "isna_count": 1
         },
         {
          "id": 915,
          "index": 37,
          "isna_count": 1
         },
         {
          "id": 911,
          "index": 36,
          "isna_count": 1
         },
         {
          "id": 1391,
          "index": 48,
          "isna_count": 1
         },
         {
          "id": 895,
          "index": 35,
          "isna_count": 1
         },
         {
          "id": 867,
          "index": 34,
          "isna_count": 1
         },
         {
          "id": 1007,
          "index": 42,
          "isna_count": 1
         },
         {
          "id": 48,
          "index": 0,
          "isna_count": 1
         },
         {
          "id": 817,
          "index": 31,
          "isna_count": 1
         },
         {
          "id": 753,
          "index": 30,
          "isna_count": 1
         },
         {
          "id": 141,
          "index": 2,
          "isna_count": 1
         },
         {
          "id": 252,
          "index": 4,
          "isna_count": 1
         },
         {
          "id": 266,
          "index": 5,
          "isna_count": 1
         },
         {
          "id": 311,
          "index": 8,
          "isna_count": 1
         },
         {
          "id": 327,
          "index": 9,
          "isna_count": 1
         },
         {
          "id": 341,
          "index": 10,
          "isna_count": 1
         },
         {
          "id": 387,
          "index": 11,
          "isna_count": 1
         },
         {
          "id": 423,
          "index": 13,
          "isna_count": 1
         },
         {
          "id": 486,
          "index": 14,
          "isna_count": 1
         },
         {
          "id": 537,
          "index": 15,
          "isna_count": 1
         },
         {
          "id": 579,
          "index": 19,
          "isna_count": 1
         },
         {
          "id": 607,
          "index": 20,
          "isna_count": 1
         },
         {
          "id": 666,
          "index": 22,
          "isna_count": 1
         },
         {
          "id": 672,
          "index": 23,
          "isna_count": 1
         },
         {
          "id": 682,
          "index": 24,
          "isna_count": 1
         },
         {
          "id": 701,
          "index": 25,
          "isna_count": 1
         },
         {
          "id": 709,
          "index": 26,
          "isna_count": 1
         },
         {
          "id": 81,
          "index": 1,
          "isna_count": 1
         },
         {
          "id": 733,
          "index": 29,
          "isna_count": 1
         },
         {
          "id": 713,
          "index": 27,
          "isna_count": 1
         }
        ],
        "schema": {
         "fields": [
          {
           "name": "index",
           "type": "integer"
          },
          {
           "name": "id",
           "type": "integer"
          },
          {
           "name": "isna_count",
           "type": "integer"
          }
         ],
         "pandas_version": "0.20.0",
         "primaryKey": [
          "index"
         ]
        }
       },
       "total_rows": 55
      },
      "text/html": [
       "<div>\n",
       "<style scoped>\n",
       "    .dataframe tbody tr th:only-of-type {\n",
       "        vertical-align: middle;\n",
       "    }\n",
       "\n",
       "    .dataframe tbody tr th {\n",
       "        vertical-align: top;\n",
       "    }\n",
       "\n",
       "    .dataframe thead th {\n",
       "        text-align: right;\n",
       "    }\n",
       "</style>\n",
       "<table border=\"1\" class=\"dataframe\">\n",
       "  <thead>\n",
       "    <tr style=\"text-align: right;\">\n",
       "      <th></th>\n",
       "      <th>id</th>\n",
       "      <th>isna_count</th>\n",
       "    </tr>\n",
       "  </thead>\n",
       "  <tbody>\n",
       "    <tr>\n",
       "      <th>12</th>\n",
       "      <td>404</td>\n",
       "      <td>5</td>\n",
       "    </tr>\n",
       "    <tr>\n",
       "      <th>21</th>\n",
       "      <td>615</td>\n",
       "      <td>4</td>\n",
       "    </tr>\n",
       "    <tr>\n",
       "      <th>52</th>\n",
       "      <td>1892</td>\n",
       "      <td>4</td>\n",
       "    </tr>\n",
       "    <tr>\n",
       "      <th>54</th>\n",
       "      <td>2084</td>\n",
       "      <td>3</td>\n",
       "    </tr>\n",
       "    <tr>\n",
       "      <th>7</th>\n",
       "      <td>296</td>\n",
       "      <td>3</td>\n",
       "    </tr>\n",
       "    <tr>\n",
       "      <th>43</th>\n",
       "      <td>1109</td>\n",
       "      <td>3</td>\n",
       "    </tr>\n",
       "    <tr>\n",
       "      <th>17</th>\n",
       "      <td>552</td>\n",
       "      <td>3</td>\n",
       "    </tr>\n",
       "    <tr>\n",
       "      <th>16</th>\n",
       "      <td>544</td>\n",
       "      <td>3</td>\n",
       "    </tr>\n",
       "    <tr>\n",
       "      <th>6</th>\n",
       "      <td>292</td>\n",
       "      <td>3</td>\n",
       "    </tr>\n",
       "    <tr>\n",
       "      <th>3</th>\n",
       "      <td>153</td>\n",
       "      <td>3</td>\n",
       "    </tr>\n",
       "    <tr>\n",
       "      <th>50</th>\n",
       "      <td>1654</td>\n",
       "      <td>2</td>\n",
       "    </tr>\n",
       "    <tr>\n",
       "      <th>32</th>\n",
       "      <td>837</td>\n",
       "      <td>2</td>\n",
       "    </tr>\n",
       "    <tr>\n",
       "      <th>28</th>\n",
       "      <td>721</td>\n",
       "      <td>2</td>\n",
       "    </tr>\n",
       "    <tr>\n",
       "      <th>41</th>\n",
       "      <td>963</td>\n",
       "      <td>2</td>\n",
       "    </tr>\n",
       "    <tr>\n",
       "      <th>53</th>\n",
       "      <td>1964</td>\n",
       "      <td>2</td>\n",
       "    </tr>\n",
       "    <tr>\n",
       "      <th>18</th>\n",
       "      <td>565</td>\n",
       "      <td>2</td>\n",
       "    </tr>\n",
       "    <tr>\n",
       "      <th>33</th>\n",
       "      <td>841</td>\n",
       "      <td>2</td>\n",
       "    </tr>\n",
       "    <tr>\n",
       "      <th>44</th>\n",
       "      <td>1113</td>\n",
       "      <td>2</td>\n",
       "    </tr>\n",
       "    <tr>\n",
       "      <th>51</th>\n",
       "      <td>1658</td>\n",
       "      <td>1</td>\n",
       "    </tr>\n",
       "    <tr>\n",
       "      <th>45</th>\n",
       "      <td>1205</td>\n",
       "      <td>1</td>\n",
       "    </tr>\n",
       "    <tr>\n",
       "      <th>49</th>\n",
       "      <td>1454</td>\n",
       "      <td>1</td>\n",
       "    </tr>\n",
       "    <tr>\n",
       "      <th>46</th>\n",
       "      <td>1267</td>\n",
       "      <td>1</td>\n",
       "    </tr>\n",
       "    <tr>\n",
       "      <th>47</th>\n",
       "      <td>1271</td>\n",
       "      <td>1</td>\n",
       "    </tr>\n",
       "    <tr>\n",
       "      <th>40</th>\n",
       "      <td>955</td>\n",
       "      <td>1</td>\n",
       "    </tr>\n",
       "    <tr>\n",
       "      <th>39</th>\n",
       "      <td>927</td>\n",
       "      <td>1</td>\n",
       "    </tr>\n",
       "    <tr>\n",
       "      <th>38</th>\n",
       "      <td>923</td>\n",
       "      <td>1</td>\n",
       "    </tr>\n",
       "    <tr>\n",
       "      <th>37</th>\n",
       "      <td>915</td>\n",
       "      <td>1</td>\n",
       "    </tr>\n",
       "    <tr>\n",
       "      <th>36</th>\n",
       "      <td>911</td>\n",
       "      <td>1</td>\n",
       "    </tr>\n",
       "    <tr>\n",
       "      <th>48</th>\n",
       "      <td>1391</td>\n",
       "      <td>1</td>\n",
       "    </tr>\n",
       "    <tr>\n",
       "      <th>35</th>\n",
       "      <td>895</td>\n",
       "      <td>1</td>\n",
       "    </tr>\n",
       "    <tr>\n",
       "      <th>34</th>\n",
       "      <td>867</td>\n",
       "      <td>1</td>\n",
       "    </tr>\n",
       "    <tr>\n",
       "      <th>42</th>\n",
       "      <td>1007</td>\n",
       "      <td>1</td>\n",
       "    </tr>\n",
       "    <tr>\n",
       "      <th>0</th>\n",
       "      <td>48</td>\n",
       "      <td>1</td>\n",
       "    </tr>\n",
       "    <tr>\n",
       "      <th>31</th>\n",
       "      <td>817</td>\n",
       "      <td>1</td>\n",
       "    </tr>\n",
       "    <tr>\n",
       "      <th>30</th>\n",
       "      <td>753</td>\n",
       "      <td>1</td>\n",
       "    </tr>\n",
       "    <tr>\n",
       "      <th>2</th>\n",
       "      <td>141</td>\n",
       "      <td>1</td>\n",
       "    </tr>\n",
       "    <tr>\n",
       "      <th>4</th>\n",
       "      <td>252</td>\n",
       "      <td>1</td>\n",
       "    </tr>\n",
       "    <tr>\n",
       "      <th>5</th>\n",
       "      <td>266</td>\n",
       "      <td>1</td>\n",
       "    </tr>\n",
       "    <tr>\n",
       "      <th>8</th>\n",
       "      <td>311</td>\n",
       "      <td>1</td>\n",
       "    </tr>\n",
       "    <tr>\n",
       "      <th>9</th>\n",
       "      <td>327</td>\n",
       "      <td>1</td>\n",
       "    </tr>\n",
       "    <tr>\n",
       "      <th>10</th>\n",
       "      <td>341</td>\n",
       "      <td>1</td>\n",
       "    </tr>\n",
       "    <tr>\n",
       "      <th>11</th>\n",
       "      <td>387</td>\n",
       "      <td>1</td>\n",
       "    </tr>\n",
       "    <tr>\n",
       "      <th>13</th>\n",
       "      <td>423</td>\n",
       "      <td>1</td>\n",
       "    </tr>\n",
       "    <tr>\n",
       "      <th>14</th>\n",
       "      <td>486</td>\n",
       "      <td>1</td>\n",
       "    </tr>\n",
       "    <tr>\n",
       "      <th>15</th>\n",
       "      <td>537</td>\n",
       "      <td>1</td>\n",
       "    </tr>\n",
       "    <tr>\n",
       "      <th>19</th>\n",
       "      <td>579</td>\n",
       "      <td>1</td>\n",
       "    </tr>\n",
       "    <tr>\n",
       "      <th>20</th>\n",
       "      <td>607</td>\n",
       "      <td>1</td>\n",
       "    </tr>\n",
       "    <tr>\n",
       "      <th>22</th>\n",
       "      <td>666</td>\n",
       "      <td>1</td>\n",
       "    </tr>\n",
       "    <tr>\n",
       "      <th>23</th>\n",
       "      <td>672</td>\n",
       "      <td>1</td>\n",
       "    </tr>\n",
       "    <tr>\n",
       "      <th>24</th>\n",
       "      <td>682</td>\n",
       "      <td>1</td>\n",
       "    </tr>\n",
       "    <tr>\n",
       "      <th>25</th>\n",
       "      <td>701</td>\n",
       "      <td>1</td>\n",
       "    </tr>\n",
       "    <tr>\n",
       "      <th>26</th>\n",
       "      <td>709</td>\n",
       "      <td>1</td>\n",
       "    </tr>\n",
       "    <tr>\n",
       "      <th>1</th>\n",
       "      <td>81</td>\n",
       "      <td>1</td>\n",
       "    </tr>\n",
       "    <tr>\n",
       "      <th>29</th>\n",
       "      <td>733</td>\n",
       "      <td>1</td>\n",
       "    </tr>\n",
       "    <tr>\n",
       "      <th>27</th>\n",
       "      <td>713</td>\n",
       "      <td>1</td>\n",
       "    </tr>\n",
       "  </tbody>\n",
       "</table>\n",
       "</div>"
      ],
      "text/plain": [
       "      id  isna_count\n",
       "12   404           5\n",
       "21   615           4\n",
       "52  1892           4\n",
       "54  2084           3\n",
       "7    296           3\n",
       "43  1109           3\n",
       "17   552           3\n",
       "16   544           3\n",
       "6    292           3\n",
       "3    153           3\n",
       "50  1654           2\n",
       "32   837           2\n",
       "28   721           2\n",
       "41   963           2\n",
       "53  1964           2\n",
       "18   565           2\n",
       "33   841           2\n",
       "44  1113           2\n",
       "51  1658           1\n",
       "45  1205           1\n",
       "49  1454           1\n",
       "46  1267           1\n",
       "47  1271           1\n",
       "40   955           1\n",
       "39   927           1\n",
       "38   923           1\n",
       "37   915           1\n",
       "36   911           1\n",
       "48  1391           1\n",
       "35   895           1\n",
       "34   867           1\n",
       "42  1007           1\n",
       "0     48           1\n",
       "31   817           1\n",
       "30   753           1\n",
       "2    141           1\n",
       "4    252           1\n",
       "5    266           1\n",
       "8    311           1\n",
       "9    327           1\n",
       "10   341           1\n",
       "11   387           1\n",
       "13   423           1\n",
       "14   486           1\n",
       "15   537           1\n",
       "19   579           1\n",
       "20   607           1\n",
       "22   666           1\n",
       "23   672           1\n",
       "24   682           1\n",
       "25   701           1\n",
       "26   709           1\n",
       "1     81           1\n",
       "29   733           1\n",
       "27   713           1"
      ]
     },
     "metadata": {},
     "output_type": "display_data"
    }
   ],
   "source": [
    "# we study number of missing values in category grouped by review id\n",
    "display(data_isna.groupby('id')['bar_name'].count().reset_index()\\\n",
    "        .rename(columns={'bar_name':'isna_count'}).sort_values('isna_count', ascending=False))"
   ]
  },
  {
   "cell_type": "code",
   "execution_count": 8,
   "id": "0a4f50d4-05d4-41f0-9b07-c4cb70337c06",
   "metadata": {},
   "outputs": [
    {
     "data": {
      "application/com.datacamp.data-table.v1+json": {
       "is_truncated": false,
       "table": {
        "data": [
         {
          "bar_name": "Equateur",
          "bean_origin": "Ecuador",
          "cocoa_percent": 72,
          "company_location": "France",
          "id": 404,
          "index": 496,
          "ingredients": null,
          "manufacturer": "Cemoi",
          "num_ingredients": null,
          "rating": 2.75,
          "review": "sticky, mild mint, bitter",
          "year_reviewed": 2009
         },
         {
          "bar_name": "Noir",
          "bean_origin": "Blend",
          "cocoa_percent": 70,
          "company_location": "France",
          "id": 404,
          "index": 1278,
          "ingredients": null,
          "manufacturer": "Kaoka (Cemoi)",
          "num_ingredients": null,
          "rating": 2.75,
          "review": "mild bitter and chemical off",
          "year_reviewed": 2009
         },
         {
          "bar_name": "Colombian 2008",
          "bean_origin": "Colombia",
          "cocoa_percent": 75,
          "company_location": "Colombia",
          "id": 404,
          "index": 2032,
          "ingredients": "B,S,L",
          "manufacturer": "Santander (Compania Nacional)",
          "num_ingredients": 3,
          "rating": 2.75,
          "review": "roasty,rich cocoa,marshmallow",
          "year_reviewed": 2009
         },
         {
          "bar_name": "Madagascar",
          "bean_origin": "Madagascar",
          "cocoa_percent": 72,
          "company_location": "Madagascar",
          "id": 404,
          "index": 2402,
          "ingredients": "B,S,C",
          "manufacturer": "Vao Vao (Chocolaterie Robert)",
          "num_ingredients": 3,
          "rating": 2.75,
          "review": "fatty, bland, very astringent",
          "year_reviewed": 2009
         },
         {
          "bar_name": "Madagascar",
          "bean_origin": "Madagascar",
          "cocoa_percent": 76,
          "company_location": "Madagascar",
          "id": 404,
          "index": 2403,
          "ingredients": "B,S,C,V",
          "manufacturer": "Vao Vao (Chocolaterie Robert)",
          "num_ingredients": 4,
          "rating": 2.75,
          "review": "fatty, sour, spoiled",
          "year_reviewed": 2009
         },
         {
          "bar_name": "Madagascar",
          "bean_origin": "Madagascar",
          "cocoa_percent": 80,
          "company_location": "Madagascar",
          "id": 404,
          "index": 2404,
          "ingredients": "B,S,C,V",
          "manufacturer": "Vao Vao (Chocolaterie Robert)",
          "num_ingredients": 4,
          "rating": 2.75,
          "review": "fatty, bitter, sour",
          "year_reviewed": 2009
         },
         {
          "bar_name": "Madagascar",
          "bean_origin": "Madagascar",
          "cocoa_percent": 70,
          "company_location": "Madagascar",
          "id": 404,
          "index": 2405,
          "ingredients": null,
          "manufacturer": "Vao Vao (Chocolaterie Robert)",
          "num_ingredients": null,
          "rating": 3,
          "review": "oily, fatty, citrus",
          "year_reviewed": 2009
         },
         {
          "bar_name": "Madagascar w/ nibs",
          "bean_origin": "Madagascar",
          "cocoa_percent": 68,
          "company_location": "Madagascar",
          "id": 404,
          "index": 2406,
          "ingredients": null,
          "manufacturer": "Vao Vao (Chocolaterie Robert)",
          "num_ingredients": null,
          "rating": 3,
          "review": "oily, nutty, fatty",
          "year_reviewed": 2009
         },
         {
          "bar_name": "Madagascar",
          "bean_origin": "Madagascar",
          "cocoa_percent": 64,
          "company_location": "Madagascar",
          "id": 404,
          "index": 2407,
          "ingredients": null,
          "manufacturer": "Vao Vao (Chocolaterie Robert)",
          "num_ingredients": null,
          "rating": 3.25,
          "review": "sandy, mild citrus, sweet",
          "year_reviewed": 2009
         }
        ],
        "schema": {
         "fields": [
          {
           "name": "index",
           "type": "integer"
          },
          {
           "name": "id",
           "type": "integer"
          },
          {
           "name": "manufacturer",
           "type": "string"
          },
          {
           "name": "company_location",
           "type": "string"
          },
          {
           "name": "year_reviewed",
           "type": "integer"
          },
          {
           "name": "bean_origin",
           "type": "string"
          },
          {
           "name": "bar_name",
           "type": "string"
          },
          {
           "name": "cocoa_percent",
           "type": "number"
          },
          {
           "name": "num_ingredients",
           "type": "number"
          },
          {
           "name": "ingredients",
           "type": "string"
          },
          {
           "name": "review",
           "type": "string"
          },
          {
           "name": "rating",
           "type": "number"
          }
         ],
         "pandas_version": "0.20.0",
         "primaryKey": [
          "index"
         ]
        }
       },
       "total_rows": 9
      },
      "text/html": [
       "<div>\n",
       "<style scoped>\n",
       "    .dataframe tbody tr th:only-of-type {\n",
       "        vertical-align: middle;\n",
       "    }\n",
       "\n",
       "    .dataframe tbody tr th {\n",
       "        vertical-align: top;\n",
       "    }\n",
       "\n",
       "    .dataframe thead th {\n",
       "        text-align: right;\n",
       "    }\n",
       "</style>\n",
       "<table border=\"1\" class=\"dataframe\">\n",
       "  <thead>\n",
       "    <tr style=\"text-align: right;\">\n",
       "      <th></th>\n",
       "      <th>id</th>\n",
       "      <th>manufacturer</th>\n",
       "      <th>company_location</th>\n",
       "      <th>year_reviewed</th>\n",
       "      <th>bean_origin</th>\n",
       "      <th>bar_name</th>\n",
       "      <th>cocoa_percent</th>\n",
       "      <th>num_ingredients</th>\n",
       "      <th>ingredients</th>\n",
       "      <th>review</th>\n",
       "      <th>rating</th>\n",
       "    </tr>\n",
       "  </thead>\n",
       "  <tbody>\n",
       "    <tr>\n",
       "      <th>496</th>\n",
       "      <td>404</td>\n",
       "      <td>Cemoi</td>\n",
       "      <td>France</td>\n",
       "      <td>2009</td>\n",
       "      <td>Ecuador</td>\n",
       "      <td>Equateur</td>\n",
       "      <td>72.0</td>\n",
       "      <td>NaN</td>\n",
       "      <td>NaN</td>\n",
       "      <td>sticky, mild mint, bitter</td>\n",
       "      <td>2.75</td>\n",
       "    </tr>\n",
       "    <tr>\n",
       "      <th>1278</th>\n",
       "      <td>404</td>\n",
       "      <td>Kaoka (Cemoi)</td>\n",
       "      <td>France</td>\n",
       "      <td>2009</td>\n",
       "      <td>Blend</td>\n",
       "      <td>Noir</td>\n",
       "      <td>70.0</td>\n",
       "      <td>NaN</td>\n",
       "      <td>NaN</td>\n",
       "      <td>mild bitter and chemical off</td>\n",
       "      <td>2.75</td>\n",
       "    </tr>\n",
       "    <tr>\n",
       "      <th>2032</th>\n",
       "      <td>404</td>\n",
       "      <td>Santander (Compania Nacional)</td>\n",
       "      <td>Colombia</td>\n",
       "      <td>2009</td>\n",
       "      <td>Colombia</td>\n",
       "      <td>Colombian 2008</td>\n",
       "      <td>75.0</td>\n",
       "      <td>3.0</td>\n",
       "      <td>B,S,L</td>\n",
       "      <td>roasty,rich cocoa,marshmallow</td>\n",
       "      <td>2.75</td>\n",
       "    </tr>\n",
       "    <tr>\n",
       "      <th>2402</th>\n",
       "      <td>404</td>\n",
       "      <td>Vao Vao (Chocolaterie Robert)</td>\n",
       "      <td>Madagascar</td>\n",
       "      <td>2009</td>\n",
       "      <td>Madagascar</td>\n",
       "      <td>Madagascar</td>\n",
       "      <td>72.0</td>\n",
       "      <td>3.0</td>\n",
       "      <td>B,S,C</td>\n",
       "      <td>fatty, bland, very astringent</td>\n",
       "      <td>2.75</td>\n",
       "    </tr>\n",
       "    <tr>\n",
       "      <th>2403</th>\n",
       "      <td>404</td>\n",
       "      <td>Vao Vao (Chocolaterie Robert)</td>\n",
       "      <td>Madagascar</td>\n",
       "      <td>2009</td>\n",
       "      <td>Madagascar</td>\n",
       "      <td>Madagascar</td>\n",
       "      <td>76.0</td>\n",
       "      <td>4.0</td>\n",
       "      <td>B,S,C,V</td>\n",
       "      <td>fatty, sour, spoiled</td>\n",
       "      <td>2.75</td>\n",
       "    </tr>\n",
       "    <tr>\n",
       "      <th>2404</th>\n",
       "      <td>404</td>\n",
       "      <td>Vao Vao (Chocolaterie Robert)</td>\n",
       "      <td>Madagascar</td>\n",
       "      <td>2009</td>\n",
       "      <td>Madagascar</td>\n",
       "      <td>Madagascar</td>\n",
       "      <td>80.0</td>\n",
       "      <td>4.0</td>\n",
       "      <td>B,S,C,V</td>\n",
       "      <td>fatty, bitter, sour</td>\n",
       "      <td>2.75</td>\n",
       "    </tr>\n",
       "    <tr>\n",
       "      <th>2405</th>\n",
       "      <td>404</td>\n",
       "      <td>Vao Vao (Chocolaterie Robert)</td>\n",
       "      <td>Madagascar</td>\n",
       "      <td>2009</td>\n",
       "      <td>Madagascar</td>\n",
       "      <td>Madagascar</td>\n",
       "      <td>70.0</td>\n",
       "      <td>NaN</td>\n",
       "      <td>NaN</td>\n",
       "      <td>oily, fatty, citrus</td>\n",
       "      <td>3.00</td>\n",
       "    </tr>\n",
       "    <tr>\n",
       "      <th>2406</th>\n",
       "      <td>404</td>\n",
       "      <td>Vao Vao (Chocolaterie Robert)</td>\n",
       "      <td>Madagascar</td>\n",
       "      <td>2009</td>\n",
       "      <td>Madagascar</td>\n",
       "      <td>Madagascar w/ nibs</td>\n",
       "      <td>68.0</td>\n",
       "      <td>NaN</td>\n",
       "      <td>NaN</td>\n",
       "      <td>oily, nutty, fatty</td>\n",
       "      <td>3.00</td>\n",
       "    </tr>\n",
       "    <tr>\n",
       "      <th>2407</th>\n",
       "      <td>404</td>\n",
       "      <td>Vao Vao (Chocolaterie Robert)</td>\n",
       "      <td>Madagascar</td>\n",
       "      <td>2009</td>\n",
       "      <td>Madagascar</td>\n",
       "      <td>Madagascar</td>\n",
       "      <td>64.0</td>\n",
       "      <td>NaN</td>\n",
       "      <td>NaN</td>\n",
       "      <td>sandy, mild citrus, sweet</td>\n",
       "      <td>3.25</td>\n",
       "    </tr>\n",
       "  </tbody>\n",
       "</table>\n",
       "</div>"
      ],
      "text/plain": [
       "       id                   manufacturer company_location  year_reviewed  \\\n",
       "496   404                          Cemoi           France           2009   \n",
       "1278  404                  Kaoka (Cemoi)           France           2009   \n",
       "2032  404  Santander (Compania Nacional)         Colombia           2009   \n",
       "2402  404  Vao Vao (Chocolaterie Robert)       Madagascar           2009   \n",
       "2403  404  Vao Vao (Chocolaterie Robert)       Madagascar           2009   \n",
       "2404  404  Vao Vao (Chocolaterie Robert)       Madagascar           2009   \n",
       "2405  404  Vao Vao (Chocolaterie Robert)       Madagascar           2009   \n",
       "2406  404  Vao Vao (Chocolaterie Robert)       Madagascar           2009   \n",
       "2407  404  Vao Vao (Chocolaterie Robert)       Madagascar           2009   \n",
       "\n",
       "     bean_origin            bar_name  cocoa_percent  num_ingredients  \\\n",
       "496      Ecuador            Equateur           72.0              NaN   \n",
       "1278       Blend                Noir           70.0              NaN   \n",
       "2032    Colombia      Colombian 2008           75.0              3.0   \n",
       "2402  Madagascar          Madagascar           72.0              3.0   \n",
       "2403  Madagascar          Madagascar           76.0              4.0   \n",
       "2404  Madagascar          Madagascar           80.0              4.0   \n",
       "2405  Madagascar          Madagascar           70.0              NaN   \n",
       "2406  Madagascar  Madagascar w/ nibs           68.0              NaN   \n",
       "2407  Madagascar          Madagascar           64.0              NaN   \n",
       "\n",
       "     ingredients                         review  rating  \n",
       "496          NaN      sticky, mild mint, bitter    2.75  \n",
       "1278         NaN   mild bitter and chemical off    2.75  \n",
       "2032       B,S,L  roasty,rich cocoa,marshmallow    2.75  \n",
       "2402       B,S,C  fatty, bland, very astringent    2.75  \n",
       "2403     B,S,C,V           fatty, sour, spoiled    2.75  \n",
       "2404     B,S,C,V            fatty, bitter, sour    2.75  \n",
       "2405         NaN            oily, fatty, citrus    3.00  \n",
       "2406         NaN             oily, nutty, fatty    3.00  \n",
       "2407         NaN      sandy, mild citrus, sweet    3.25  "
      ]
     },
     "metadata": {},
     "output_type": "display_data"
    }
   ],
   "source": [
    "# we check review with id 404 with biggest number of missing values\n",
    "display(data[data['id'] == 404])"
   ]
  },
  {
   "cell_type": "code",
   "execution_count": 9,
   "id": "33baf09d-3092-4255-a34e-9e2da4119c43",
   "metadata": {},
   "outputs": [
    {
     "data": {
      "text/plain": [
       "id                  0\n",
       "manufacturer        0\n",
       "company_location    0\n",
       "year_reviewed       0\n",
       "bean_origin         0\n",
       "bar_name            0\n",
       "cocoa_percent       0\n",
       "num_ingredients     0\n",
       "ingredients         0\n",
       "review              0\n",
       "rating              0\n",
       "dtype: int64"
      ]
     },
     "execution_count": 9,
     "metadata": {},
     "output_type": "execute_result"
    }
   ],
   "source": [
    "# we delete entries with NAN values\n",
    "data = data.dropna()\n",
    "data.isna().sum()"
   ]
  },
  {
   "cell_type": "code",
   "execution_count": 10,
   "id": "3f7f33b9-33d3-41d3-9587-60f10ca34d0f",
   "metadata": {},
   "outputs": [
    {
     "name": "stdout",
     "output_type": "stream",
     "text": [
      "<class 'pandas.core.frame.DataFrame'>\n",
      "Int64Index: 2443 entries, 0 to 2529\n",
      "Data columns (total 11 columns):\n",
      " #   Column            Non-Null Count  Dtype  \n",
      "---  ------            --------------  -----  \n",
      " 0   id                2443 non-null   object \n",
      " 1   manufacturer      2443 non-null   object \n",
      " 2   company_location  2443 non-null   object \n",
      " 3   year_reviewed     2443 non-null   int64  \n",
      " 4   bean_origin       2443 non-null   object \n",
      " 5   bar_name          2443 non-null   object \n",
      " 6   cocoa_percent     2443 non-null   float64\n",
      " 7   num_ingredients   2443 non-null   float64\n",
      " 8   ingredients       2443 non-null   object \n",
      " 9   review            2443 non-null   object \n",
      " 10  rating            2443 non-null   float64\n",
      "dtypes: float64(3), int64(1), object(7)\n",
      "memory usage: 229.0+ KB\n"
     ]
    }
   ],
   "source": [
    "# we convert data type in column year_reviewed from int to datetime64,\n",
    "# we convert data type in column id from int to object\n",
    "data['id'] = data['id'].astype('object')\n",
    "data.info()"
   ]
  },
  {
   "cell_type": "markdown",
   "id": "8dd631e7-ead1-4136-b4ab-69da2f3e9d96",
   "metadata": {},
   "source": [
    "### Conclusions\n",
    "* the table contains 2530 entries & 11 columns\n",
    "* the table has no duplicates\n",
    "* the table has 87 missing values in column *ingridients* & in parallel 87 missing values in column *num_ingidients*\n",
    "* entries with NAN make 3% of total entries\n",
    "* no patterns are noticed in NAN spread among entries\n",
    "* entries with NAN are dropped\n",
    "* data type in column in column *id* from int to object formats"
   ]
  },
  {
   "cell_type": "markdown",
   "id": "a2252196-a354-4fc5-91ed-2f31c207e994",
   "metadata": {},
   "source": [
    "## EDA"
   ]
  },
  {
   "cell_type": "markdown",
   "id": "e4ddfe46-776a-4242-94cd-d3ac9bd89aec",
   "metadata": {},
   "source": [
    "### Numeric features: *year_reviewed, cocoa_percent, num_ingredients, rating*"
   ]
  },
  {
   "cell_type": "code",
   "execution_count": 11,
   "id": "3c569628-d703-444b-b224-c3475a638806",
   "metadata": {},
   "outputs": [
    {
     "data": {
      "application/com.datacamp.data-table.v1+json": {
       "is_truncated": false,
       "table": {
        "data": [
         {
          "cocoa_percent": 2443,
          "index": "count",
          "num_ingredients": 2443,
          "rating": 2443,
          "year_reviewed": 2443
         },
         {
          "cocoa_percent": 71.4967253377,
          "index": "mean",
          "num_ingredients": 3.0413426115,
          "rating": 3.2100900532,
          "year_reviewed": 2014.4858780188
         },
         {
          "cocoa_percent": 5.1569738332,
          "index": "std",
          "num_ingredients": 0.9137283104,
          "rating": 0.4283698507,
          "year_reviewed": 3.9575068256
         },
         {
          "cocoa_percent": 42,
          "index": "min",
          "num_ingredients": 1,
          "rating": 1,
          "year_reviewed": 2006
         },
         {
          "cocoa_percent": 70,
          "index": "25%",
          "num_ingredients": 2,
          "rating": 3,
          "year_reviewed": 2012
         },
         {
          "cocoa_percent": 70,
          "index": "50%",
          "num_ingredients": 3,
          "rating": 3.25,
          "year_reviewed": 2015
         },
         {
          "cocoa_percent": 74,
          "index": "75%",
          "num_ingredients": 4,
          "rating": 3.5,
          "year_reviewed": 2018
         },
         {
          "cocoa_percent": 100,
          "index": "max",
          "num_ingredients": 6,
          "rating": 4,
          "year_reviewed": 2021
         }
        ],
        "schema": {
         "fields": [
          {
           "name": "index",
           "type": "string"
          },
          {
           "name": "year_reviewed",
           "type": "number"
          },
          {
           "name": "cocoa_percent",
           "type": "number"
          },
          {
           "name": "num_ingredients",
           "type": "number"
          },
          {
           "name": "rating",
           "type": "number"
          }
         ],
         "pandas_version": "0.20.0",
         "primaryKey": [
          "index"
         ]
        }
       },
       "total_rows": 8
      },
      "text/html": [
       "<div>\n",
       "<style scoped>\n",
       "    .dataframe tbody tr th:only-of-type {\n",
       "        vertical-align: middle;\n",
       "    }\n",
       "\n",
       "    .dataframe tbody tr th {\n",
       "        vertical-align: top;\n",
       "    }\n",
       "\n",
       "    .dataframe thead th {\n",
       "        text-align: right;\n",
       "    }\n",
       "</style>\n",
       "<table border=\"1\" class=\"dataframe\">\n",
       "  <thead>\n",
       "    <tr style=\"text-align: right;\">\n",
       "      <th></th>\n",
       "      <th>year_reviewed</th>\n",
       "      <th>cocoa_percent</th>\n",
       "      <th>num_ingredients</th>\n",
       "      <th>rating</th>\n",
       "    </tr>\n",
       "  </thead>\n",
       "  <tbody>\n",
       "    <tr>\n",
       "      <th>count</th>\n",
       "      <td>2443.000000</td>\n",
       "      <td>2443.000000</td>\n",
       "      <td>2443.000000</td>\n",
       "      <td>2443.00000</td>\n",
       "    </tr>\n",
       "    <tr>\n",
       "      <th>mean</th>\n",
       "      <td>2014.485878</td>\n",
       "      <td>71.496725</td>\n",
       "      <td>3.041343</td>\n",
       "      <td>3.21009</td>\n",
       "    </tr>\n",
       "    <tr>\n",
       "      <th>std</th>\n",
       "      <td>3.957507</td>\n",
       "      <td>5.156974</td>\n",
       "      <td>0.913728</td>\n",
       "      <td>0.42837</td>\n",
       "    </tr>\n",
       "    <tr>\n",
       "      <th>min</th>\n",
       "      <td>2006.000000</td>\n",
       "      <td>42.000000</td>\n",
       "      <td>1.000000</td>\n",
       "      <td>1.00000</td>\n",
       "    </tr>\n",
       "    <tr>\n",
       "      <th>25%</th>\n",
       "      <td>2012.000000</td>\n",
       "      <td>70.000000</td>\n",
       "      <td>2.000000</td>\n",
       "      <td>3.00000</td>\n",
       "    </tr>\n",
       "    <tr>\n",
       "      <th>50%</th>\n",
       "      <td>2015.000000</td>\n",
       "      <td>70.000000</td>\n",
       "      <td>3.000000</td>\n",
       "      <td>3.25000</td>\n",
       "    </tr>\n",
       "    <tr>\n",
       "      <th>75%</th>\n",
       "      <td>2018.000000</td>\n",
       "      <td>74.000000</td>\n",
       "      <td>4.000000</td>\n",
       "      <td>3.50000</td>\n",
       "    </tr>\n",
       "    <tr>\n",
       "      <th>max</th>\n",
       "      <td>2021.000000</td>\n",
       "      <td>100.000000</td>\n",
       "      <td>6.000000</td>\n",
       "      <td>4.00000</td>\n",
       "    </tr>\n",
       "  </tbody>\n",
       "</table>\n",
       "</div>"
      ],
      "text/plain": [
       "       year_reviewed  cocoa_percent  num_ingredients      rating\n",
       "count    2443.000000    2443.000000      2443.000000  2443.00000\n",
       "mean     2014.485878      71.496725         3.041343     3.21009\n",
       "std         3.957507       5.156974         0.913728     0.42837\n",
       "min      2006.000000      42.000000         1.000000     1.00000\n",
       "25%      2012.000000      70.000000         2.000000     3.00000\n",
       "50%      2015.000000      70.000000         3.000000     3.25000\n",
       "75%      2018.000000      74.000000         4.000000     3.50000\n",
       "max      2021.000000     100.000000         6.000000     4.00000"
      ]
     },
     "execution_count": 11,
     "metadata": {},
     "output_type": "execute_result"
    }
   ],
   "source": [
    "# we check stat values of numeric features\n",
    "data.describe()"
   ]
  },
  {
   "cell_type": "code",
   "execution_count": 12,
   "id": "9dffc245-826b-4a7e-b46f-bfa8fa539aba",
   "metadata": {},
   "outputs": [
    {
     "data": {
      "image/png": "[encoded data removed]",
      "text/plain": [
       "<Figure size 2016x936 with 4 Axes>"
      ]
     },
     "metadata": {
      "needs_background": "light"
     },
     "output_type": "display_data"
    }
   ],
   "source": [
    "# we check data distribution within numeric features\n",
    "fig, axes = plt.subplots(2, 2)\n",
    "fig.set_size_inches(28, 13)\n",
    "fig.suptitle('Data distribution within numeric features', fontsize=20)\n",
    "axes = axes.ravel()\n",
    "i = 0\n",
    "columns = ['year_reviewed', 'cocoa_percent', 'num_ingredients', 'rating']\n",
    "for column in columns:\n",
    "    axes[i].hist(data[column], edgecolor = 'black', fill = True, bins=50)\n",
    "    axes[i].set(title = column)\n",
    "    i+=1\n",
    "fig.show()"
   ]
  },
  {
   "cell_type": "markdown",
   "id": "74fab0a0-e0ed-4961-afb6-9e787f998973",
   "metadata": {},
   "source": [
    "**Data & graphics conclusions**\n",
    "* feature **year_reviewed**\n",
    ">\n",
    "> the rating data is collected in the range of 2006 - 2021 years\n",
    ">\n",
    "> the number of records in reports has growing trend from 2006 till 2015\n",
    ">\n",
    "> starting from 2016 the trend changes its character to cut edge decline with its minimum in 2020\n",
    ">\n",
    "* feature **cocoa_percent**\n",
    ">\n",
    "> in average the products contain 71,5% of cocoa\n",
    ">\n",
    "> minimum is 42%\n",
    ">\n",
    "> maximum is 100%\n",
    ">\n",
    "> 25% of products contain between 74% & 100%\n",
    ">\n",
    "* feature **num_ingridients**\n",
    ">\n",
    "> in average the products contain 3 ingredients\n",
    ">\n",
    "> minimum is 1\n",
    ">\n",
    "> maximum is 6\n",
    ">\n",
    "> 25% of products contain between 4 & 6 ingredients\n",
    ">\n",
    "* feature **rating**\n",
    ">\n",
    "> in average the products have rating 3,2\n",
    ">\n",
    "> minimum  rating is 1\n",
    ">\n",
    "> maximum is 4\n",
    ">\n",
    "> 25% of products have rating between 3,5 & 4\n",
    ">"
   ]
  },
  {
   "cell_type": "code",
   "execution_count": 13,
   "id": "64ee1984-da19-4419-bf09-c3dea5428194",
   "metadata": {},
   "outputs": [
    {
     "data": {
      "image/png": "[encoded data removed]",
      "text/plain": [
       "<Figure size 720x720 with 16 Axes>"
      ]
     },
     "metadata": {
      "needs_background": "light"
     },
     "output_type": "display_data"
    }
   ],
   "source": [
    "# we check correlation among numeric features\n",
    "pair_grid = sns.PairGrid(data.drop('id', axis=1))\n",
    "pair_grid.map(plt.scatter)\n",
    "pair_grid.fig.suptitle(\"Correlation among numeric features\", y=1.08);"
   ]
  },
  {
   "cell_type": "markdown",
   "id": "54a30887-7f3e-46c9-9537-968ed733bc76",
   "metadata": {},
   "source": [
    "**Data & graphics conclusions** \n",
    "* no obvious correlation is detected among features *year_reviewed, cocoa_percent, num_ingredients, rating*"
   ]
  },
  {
   "cell_type": "code",
   "execution_count": 14,
   "id": "1ec2adfc-d6a9-45c9-aa5f-10e3471be5b5",
   "metadata": {},
   "outputs": [
    {
     "data": {
      "image/png": "[encoded data removed]",
      "text/plain": [
       "<Figure size 432x432 with 3 Axes>"
      ]
     },
     "metadata": {
      "needs_background": "light"
     },
     "output_type": "display_data"
    }
   ],
   "source": [
    "# we check correlation between rating & cocoa_percent\n",
    "p = sns.jointplot(x='rating', y='cocoa_percent'\\\n",
    "              , data=data, kind='kde')\n",
    "p.fig.suptitle(\"Correlation between rating & cocoa_percent\")\n",
    "p.fig.tight_layout()\n",
    "p.fig.subplots_adjust(top=0.9);"
   ]
  },
  {
   "cell_type": "code",
   "execution_count": 15,
   "id": "95a4aba5-5219-4a5e-a851-5a2af0ebac26",
   "metadata": {},
   "outputs": [
    {
     "data": {
      "application/com.datacamp.data-table.v1+json": {
       "is_truncated": false,
       "table": {
        "data": [
         {
          "25%": 70,
          "50%": 70,
          "75%": 73,
          "count": 552,
          "max": 100,
          "mean": 71.2291666667,
          "min": 55,
          "rating": 3.5,
          "std": 4.4238383316
         },
         {
          "25%": 70,
          "50%": 70,
          "75%": 73,
          "count": 295,
          "max": 90,
          "mean": 71.106779661,
          "min": 50,
          "rating": 3.75,
          "std": 3.6737191487
         },
         {
          "25%": 70,
          "50%": 70,
          "75%": 72,
          "count": 111,
          "max": 88,
          "mean": 70.7027027027,
          "min": 60,
          "rating": 4,
          "std": 3.3833673237
         }
        ],
        "schema": {
         "fields": [
          {
           "name": "rating",
           "type": "number"
          },
          {
           "name": "count",
           "type": "number"
          },
          {
           "name": "mean",
           "type": "number"
          },
          {
           "name": "std",
           "type": "number"
          },
          {
           "name": "min",
           "type": "number"
          },
          {
           "name": "25%",
           "type": "number"
          },
          {
           "name": "50%",
           "type": "number"
          },
          {
           "name": "75%",
           "type": "number"
          },
          {
           "name": "max",
           "type": "number"
          }
         ],
         "pandas_version": "0.20.0",
         "primaryKey": [
          "rating"
         ]
        }
       },
       "total_rows": 3
      },
      "text/html": [
       "<div>\n",
       "<style scoped>\n",
       "    .dataframe tbody tr th:only-of-type {\n",
       "        vertical-align: middle;\n",
       "    }\n",
       "\n",
       "    .dataframe tbody tr th {\n",
       "        vertical-align: top;\n",
       "    }\n",
       "\n",
       "    .dataframe thead th {\n",
       "        text-align: right;\n",
       "    }\n",
       "</style>\n",
       "<table border=\"1\" class=\"dataframe\">\n",
       "  <thead>\n",
       "    <tr style=\"text-align: right;\">\n",
       "      <th></th>\n",
       "      <th>count</th>\n",
       "      <th>mean</th>\n",
       "      <th>std</th>\n",
       "      <th>min</th>\n",
       "      <th>25%</th>\n",
       "      <th>50%</th>\n",
       "      <th>75%</th>\n",
       "      <th>max</th>\n",
       "    </tr>\n",
       "    <tr>\n",
       "      <th>rating</th>\n",
       "      <th></th>\n",
       "      <th></th>\n",
       "      <th></th>\n",
       "      <th></th>\n",
       "      <th></th>\n",
       "      <th></th>\n",
       "      <th></th>\n",
       "      <th></th>\n",
       "    </tr>\n",
       "  </thead>\n",
       "  <tbody>\n",
       "    <tr>\n",
       "      <th>3.50</th>\n",
       "      <td>552.0</td>\n",
       "      <td>71.229167</td>\n",
       "      <td>4.423838</td>\n",
       "      <td>55.0</td>\n",
       "      <td>70.0</td>\n",
       "      <td>70.0</td>\n",
       "      <td>73.0</td>\n",
       "      <td>100.0</td>\n",
       "    </tr>\n",
       "    <tr>\n",
       "      <th>3.75</th>\n",
       "      <td>295.0</td>\n",
       "      <td>71.106780</td>\n",
       "      <td>3.673719</td>\n",
       "      <td>50.0</td>\n",
       "      <td>70.0</td>\n",
       "      <td>70.0</td>\n",
       "      <td>73.0</td>\n",
       "      <td>90.0</td>\n",
       "    </tr>\n",
       "    <tr>\n",
       "      <th>4.00</th>\n",
       "      <td>111.0</td>\n",
       "      <td>70.702703</td>\n",
       "      <td>3.383367</td>\n",
       "      <td>60.0</td>\n",
       "      <td>70.0</td>\n",
       "      <td>70.0</td>\n",
       "      <td>72.0</td>\n",
       "      <td>88.0</td>\n",
       "    </tr>\n",
       "  </tbody>\n",
       "</table>\n",
       "</div>"
      ],
      "text/plain": [
       "        count       mean       std   min   25%   50%   75%    max\n",
       "rating                                                           \n",
       "3.50    552.0  71.229167  4.423838  55.0  70.0  70.0  73.0  100.0\n",
       "3.75    295.0  71.106780  3.673719  50.0  70.0  70.0  73.0   90.0\n",
       "4.00    111.0  70.702703  3.383367  60.0  70.0  70.0  72.0   88.0"
      ]
     },
     "metadata": {},
     "output_type": "display_data"
    }
   ],
   "source": [
    "# we check the cocoa content of top ratings\n",
    "display(data[data['rating'] >=3.5].groupby('rating')['cocoa_percent'].describe())"
   ]
  },
  {
   "cell_type": "markdown",
   "id": "60587412-9e19-4627-bceb-23682e603670",
   "metadata": {},
   "source": [
    "**Data & graphics conclusions**\n",
    "* highest ratings have cocoa average content between 71,11 & 70.70\n",
    "* minimums are between 50 & 60\n",
    "* maximums are between 88 & 100\n",
    "* the median is one for all groups and is equal to 70%\n",
    "* 70% is the most frequent content in the dataset"
   ]
  },
  {
   "cell_type": "code",
   "execution_count": 16,
   "id": "7f987edb-8d96-4d67-a981-7eae41f3819a",
   "metadata": {},
   "outputs": [
    {
     "data": {
      "image/png": "[encoded data removed]",
      "text/plain": [
       "<Figure size 1080x504 with 1 Axes>"
      ]
     },
     "metadata": {
      "needs_background": "light"
     },
     "output_type": "display_data"
    }
   ],
   "source": [
    "# we check how the number of manufacturers, producing countries, bean exporting countries,\n",
    "# products & avg cocoa percent in content change through years\n",
    "data.groupby('year_reviewed').agg({'manufacturer':'nunique', 'company_location':'nunique'\\\n",
    "                                   , 'bean_origin':'nunique'\\\n",
    "                                   , 'bar_name':'nunique', 'cocoa_percent':'mean'})\\\n",
    ".plot(kind='line'\\\n",
    "      , title=('Number of manufacturers, producing countries, bean exporting countries\\\n",
    "      , products & avg cocoa percent in content changing through years'), figsize=(15, 7));"
   ]
  },
  {
   "cell_type": "markdown",
   "id": "95c4dd88-8a12-4226-b803-2c0ba1bc081e",
   "metadata": {},
   "source": [
    "**Data & graphics conclusions** \n",
    "* the most stable behavior through years has the average meaning of *cocoa content*\n",
    "* number of manufacturers & number of products have similar, but not always repeating trnds; 2009, 2012, 2015 & 2018 are marked with sharp jumps up; 2010, 2017 & 2020 years are marked with sharp drop downs\n",
    "* 2020 is the drop down year as well for the number of bean exporting countries & number of manufacturers"
   ]
  },
  {
   "cell_type": "code",
   "execution_count": 17,
   "id": "c28b1dbb-b4e0-4750-953a-b9f4f9b10714",
   "metadata": {},
   "outputs": [
    {
     "data": {
      "image/png": "[encoded data removed]",
      "text/plain": [
       "<Figure size 432x288 with 1 Axes>"
      ]
     },
     "metadata": {
      "needs_background": "light"
     },
     "output_type": "display_data"
    }
   ],
   "source": [
    "# we check how the number of ingredients & avg rating change through years\n",
    "data.groupby('year_reviewed').agg({'num_ingredients':'mean', 'rating':'mean'})\\\n",
    ".plot(kind='line', title=('Number of ingredients & average rating changing through years'), grid=True);"
   ]
  },
  {
   "cell_type": "markdown",
   "id": "1ed72849-71ad-46a6-91e1-69bb51724eb1",
   "metadata": {},
   "source": [
    "**Data & graphics conclusions** \n",
    "* average number of ingredients & average rating have contradictory trends through years\n",
    "* the average number of ingredients was dropping down from 4.45 to 2.75\n",
    "* the average rating was growing from 3.1 to 3.35\n",
    "* in 2021 both trends get growing in parallel"
   ]
  },
  {
   "cell_type": "markdown",
   "id": "c11ec49d-6947-463e-a6ac-68ec5155a77d",
   "metadata": {},
   "source": [
    "### Categorical features: *bean_origin*"
   ]
  },
  {
   "cell_type": "code",
   "execution_count": 18,
   "id": "5b33b4bf-0cab-40ac-b17e-cb1ecc889153",
   "metadata": {},
   "outputs": [
    {
     "data": {
      "image/png": "[encoded data removed]",
      "text/plain": [
       "<Figure size 1224x360 with 1 Axes>"
      ]
     },
     "metadata": {
      "needs_background": "light"
     },
     "output_type": "display_data"
    }
   ],
   "source": [
    "# we check bean_origin feature by frequency\n",
    "data_bean_origin_frequency = data.bean_origin.value_counts()\\\n",
    ".reset_index().rename(columns={'index':'bean_origin', 'bean_origin':'frequency'})\n",
    "data_bean_origin_frequency.plot(kind='bar', x='bean_origin', figsize=(17,5)\\\n",
    "                                , title=('Bean origin countries by frequency'));"
   ]
  },
  {
   "cell_type": "code",
   "execution_count": 19,
   "id": "0878d23a-d67a-447a-9ba9-93edcf5a0d16",
   "metadata": {},
   "outputs": [
    {
     "data": {
      "text/html": [
       "<style  type=\"text/css\" >\n",
       "#T_3c099_row0_col1,#T_3c099_row1_col1{\n",
       "            background-color:  #08306b;\n",
       "            color:  #f1f1f1;\n",
       "        }#T_3c099_row2_col1{\n",
       "            background-color:  #1967ad;\n",
       "            color:  #f1f1f1;\n",
       "        }#T_3c099_row3_col1{\n",
       "            background-color:  #ccdff1;\n",
       "            color:  #000000;\n",
       "        }#T_3c099_row4_col1{\n",
       "            background-color:  #dbe9f6;\n",
       "            color:  #000000;\n",
       "        }#T_3c099_row5_col1{\n",
       "            background-color:  #e2edf8;\n",
       "            color:  #000000;\n",
       "        }#T_3c099_row6_col1{\n",
       "            background-color:  #e5eff9;\n",
       "            color:  #000000;\n",
       "        }#T_3c099_row7_col1{\n",
       "            background-color:  #ebf3fb;\n",
       "            color:  #000000;\n",
       "        }#T_3c099_row8_col1{\n",
       "            background-color:  #f4f9fe;\n",
       "            color:  #000000;\n",
       "        }#T_3c099_row9_col1{\n",
       "            background-color:  #f7fbff;\n",
       "            color:  #000000;\n",
       "        }</style><table id=\"T_3c099_\" ><thead>    <tr>        <th class=\"blank level0\" ></th>        <th class=\"col_heading level0 col0\" >bean_origin</th>        <th class=\"col_heading level0 col1\" >rating_avg</th>    </tr></thead><tbody>\n",
       "                <tr>\n",
       "                        <th id=\"T_3c099_level0_row0\" class=\"row_heading level0 row0\" >7</th>\n",
       "                        <td id=\"T_3c099_row0_col0\" class=\"data row0 col0\" >China</td>\n",
       "                        <td id=\"T_3c099_row0_col1\" class=\"data row0 col1\" >3.500000</td>\n",
       "            </tr>\n",
       "            <tr>\n",
       "                        <th id=\"T_3c099_level0_row1\" class=\"row_heading level0 row1\" >42</th>\n",
       "                        <td id=\"T_3c099_row1_col0\" class=\"data row1 col0\" >Sao Tome & Principe</td>\n",
       "                        <td id=\"T_3c099_row1_col1\" class=\"data row1 col1\" >3.500000</td>\n",
       "            </tr>\n",
       "            <tr>\n",
       "                        <th id=\"T_3c099_level0_row2\" class=\"row_heading level0 row2\" >44</th>\n",
       "                        <td id=\"T_3c099_row2_col0\" class=\"data row2 col0\" >Solomon Islands</td>\n",
       "                        <td id=\"T_3c099_row2_col1\" class=\"data row2 col1\" >3.450000</td>\n",
       "            </tr>\n",
       "            <tr>\n",
       "                        <th id=\"T_3c099_level0_row3\" class=\"row_heading level0 row3\" >9</th>\n",
       "                        <td id=\"T_3c099_row3_col0\" class=\"data row3 col0\" >Congo</td>\n",
       "                        <td id=\"T_3c099_row3_col1\" class=\"data row3 col1\" >3.318182</td>\n",
       "            </tr>\n",
       "            <tr>\n",
       "                        <th id=\"T_3c099_level0_row4\" class=\"row_heading level0 row4\" >53</th>\n",
       "                        <td id=\"T_3c099_row4_col0\" class=\"data row4 col0\" >Thailand</td>\n",
       "                        <td id=\"T_3c099_row4_col1\" class=\"data row4 col1\" >3.300000</td>\n",
       "            </tr>\n",
       "            <tr>\n",
       "                        <th id=\"T_3c099_level0_row5\" class=\"row_heading level0 row5\" >11</th>\n",
       "                        <td id=\"T_3c099_row5_col0\" class=\"data row5 col0\" >Cuba</td>\n",
       "                        <td id=\"T_3c099_row5_col1\" class=\"data row5 col1\" >3.291667</td>\n",
       "            </tr>\n",
       "            <tr>\n",
       "                        <th id=\"T_3c099_level0_row6\" class=\"row_heading level0 row6\" >61</th>\n",
       "                        <td id=\"T_3c099_row6_col0\" class=\"data row6 col0\" >Vietnam</td>\n",
       "                        <td id=\"T_3c099_row6_col1\" class=\"data row6 col1\" >3.287671</td>\n",
       "            </tr>\n",
       "            <tr>\n",
       "                        <th id=\"T_3c099_level0_row7\" class=\"row_heading level0 row7\" >35</th>\n",
       "                        <td id=\"T_3c099_row7_col0\" class=\"data row7 col0\" >Papua New Guinea</td>\n",
       "                        <td id=\"T_3c099_row7_col1\" class=\"data row7 col1\" >3.280612</td>\n",
       "            </tr>\n",
       "            <tr>\n",
       "                        <th id=\"T_3c099_level0_row8\" class=\"row_heading level0 row8\" >28</th>\n",
       "                        <td id=\"T_3c099_row8_col0\" class=\"data row8 col0\" >Madagascar</td>\n",
       "                        <td id=\"T_3c099_row8_col1\" class=\"data row8 col1\" >3.270468</td>\n",
       "            </tr>\n",
       "            <tr>\n",
       "                        <th id=\"T_3c099_level0_row9\" class=\"row_heading level0 row9\" >21</th>\n",
       "                        <td id=\"T_3c099_row9_col0\" class=\"data row9 col0\" >Haiti</td>\n",
       "                        <td id=\"T_3c099_row9_col1\" class=\"data row9 col1\" >3.266667</td>\n",
       "            </tr>\n",
       "    </tbody></table>"
      ],
      "text/plain": [
       "<pandas.io.formats.style.Styler at 0x7fbaf0a983a0>"
      ]
     },
     "metadata": {},
     "output_type": "display_data"
    }
   ],
   "source": [
    "# we check bean_origin feature by rating\n",
    "data_bean_origin_rating = data.groupby('bean_origin')['rating'].mean()\\\n",
    ".reset_index().sort_values('rating', ascending=False).rename(columns=({'rating':'rating_avg'}))\n",
    "display(data_bean_origin_rating.head(10).style.background_gradient(cmap='Blues'))"
   ]
  },
  {
   "cell_type": "code",
   "execution_count": 20,
   "id": "9c19370a-0d25-48d0-8b31-979e7653bfcd",
   "metadata": {},
   "outputs": [
    {
     "data": {
      "application/com.datacamp.data-table.v1+json": {
       "is_truncated": false,
       "table": {
        "data": [
         {
          "bean_origin": "Venezuela",
          "bean_origin_frequency_position": 0,
          "bean_origin_rating_position": 22,
          "frequency": 246,
          "index": 22,
          "rating_avg": 3.2398373984
         },
         {
          "bean_origin": "Peru",
          "bean_origin_frequency_position": 1,
          "bean_origin_rating_position": 23,
          "frequency": 231,
          "index": 23,
          "rating_avg": 3.2283549784
         },
         {
          "bean_origin": "Dominican Republic",
          "bean_origin_frequency_position": 2,
          "bean_origin_rating_position": 24,
          "frequency": 220,
          "index": 24,
          "rating_avg": 3.2193181818
         },
         {
          "bean_origin": "Ecuador",
          "bean_origin_frequency_position": 3,
          "bean_origin_rating_position": 26,
          "frequency": 201,
          "index": 26,
          "rating_avg": 3.2139303483
         },
         {
          "bean_origin": "Madagascar",
          "bean_origin_frequency_position": 4,
          "bean_origin_rating_position": 8,
          "frequency": 171,
          "index": 8,
          "rating_avg": 3.2704678363
         },
         {
          "bean_origin": "Blend",
          "bean_origin_frequency_position": 5,
          "bean_origin_rating_position": 39,
          "frequency": 144,
          "index": 39,
          "rating_avg": 3.0850694444
         },
         {
          "bean_origin": "Nicaragua",
          "bean_origin_frequency_position": 6,
          "bean_origin_rating_position": 12,
          "frequency": 100,
          "index": 12,
          "rating_avg": 3.255
         },
         {
          "bean_origin": "Bolivia",
          "bean_origin_frequency_position": 7,
          "bean_origin_rating_position": 29,
          "frequency": 79,
          "index": 29,
          "rating_avg": 3.1803797468
         },
         {
          "bean_origin": "Tanzania",
          "bean_origin_frequency_position": 8,
          "bean_origin_rating_position": 19,
          "frequency": 78,
          "index": 19,
          "rating_avg": 3.2435897436
         },
         {
          "bean_origin": "Colombia",
          "bean_origin_frequency_position": 9,
          "bean_origin_rating_position": 27,
          "frequency": 78,
          "index": 27,
          "rating_avg": 3.2051282051
         },
         {
          "bean_origin": "Brazil",
          "bean_origin_frequency_position": 10,
          "bean_origin_rating_position": 10,
          "frequency": 77,
          "index": 10,
          "rating_avg": 3.2597402597
         },
         {
          "bean_origin": "Belize",
          "bean_origin_frequency_position": 11,
          "bean_origin_rating_position": 20,
          "frequency": 74,
          "index": 20,
          "rating_avg": 3.2432432432
         },
         {
          "bean_origin": "Vietnam",
          "bean_origin_frequency_position": 12,
          "bean_origin_rating_position": 6,
          "frequency": 73,
          "index": 6,
          "rating_avg": 3.2876712329
         },
         {
          "bean_origin": "Guatemala",
          "bean_origin_frequency_position": 13,
          "bean_origin_rating_position": 11,
          "frequency": 62,
          "index": 11,
          "rating_avg": 3.2580645161
         },
         {
          "bean_origin": "Mexico",
          "bean_origin_frequency_position": 14,
          "bean_origin_rating_position": 31,
          "frequency": 54,
          "index": 31,
          "rating_avg": 3.1666666667
         },
         {
          "bean_origin": "Papua New Guinea",
          "bean_origin_frequency_position": 15,
          "bean_origin_rating_position": 7,
          "frequency": 49,
          "index": 7,
          "rating_avg": 3.2806122449
         },
         {
          "bean_origin": "Trinidad",
          "bean_origin_frequency_position": 16,
          "bean_origin_rating_position": 18,
          "frequency": 42,
          "index": 18,
          "rating_avg": 3.244047619
         },
         {
          "bean_origin": "Costa Rica",
          "bean_origin_frequency_position": 17,
          "bean_origin_rating_position": 34,
          "frequency": 42,
          "index": 34,
          "rating_avg": 3.1547619048
         },
         {
          "bean_origin": "Ghana",
          "bean_origin_frequency_position": 18,
          "bean_origin_rating_position": 30,
          "frequency": 36,
          "index": 30,
          "rating_avg": 3.1736111111
         },
         {
          "bean_origin": "India",
          "bean_origin_frequency_position": 19,
          "bean_origin_rating_position": 32,
          "frequency": 35,
          "index": 32,
          "rating_avg": 3.1642857143
         },
         {
          "bean_origin": "U.S.A.",
          "bean_origin_frequency_position": 20,
          "bean_origin_rating_position": 25,
          "frequency": 31,
          "index": 25,
          "rating_avg": 3.2177419355
         },
         {
          "bean_origin": "Haiti",
          "bean_origin_frequency_position": 21,
          "bean_origin_rating_position": 9,
          "frequency": 30,
          "index": 9,
          "rating_avg": 3.2666666667
         },
         {
          "bean_origin": "Honduras",
          "bean_origin_frequency_position": 22,
          "bean_origin_rating_position": 21,
          "frequency": 25,
          "index": 21,
          "rating_avg": 3.24
         },
         {
          "bean_origin": "Jamaica",
          "bean_origin_frequency_position": 23,
          "bean_origin_rating_position": 28,
          "frequency": 24,
          "index": 28,
          "rating_avg": 3.1979166667
         },
         {
          "bean_origin": "Philippines",
          "bean_origin_frequency_position": 24,
          "bean_origin_rating_position": 35,
          "frequency": 24,
          "index": 35,
          "rating_avg": 3.125
         },
         {
          "bean_origin": "Indonesia",
          "bean_origin_frequency_position": 25,
          "bean_origin_rating_position": 33,
          "frequency": 19,
          "index": 33,
          "rating_avg": 3.1578947368
         },
         {
          "bean_origin": "Uganda",
          "bean_origin_frequency_position": 26,
          "bean_origin_rating_position": 37,
          "frequency": 18,
          "index": 37,
          "rating_avg": 3.0972222222
         },
         {
          "bean_origin": "Grenada",
          "bean_origin_frequency_position": 27,
          "bean_origin_rating_position": 48,
          "frequency": 17,
          "index": 48,
          "rating_avg": 3.0147058824
         },
         {
          "bean_origin": "Fiji",
          "bean_origin_frequency_position": 28,
          "bean_origin_rating_position": 47,
          "frequency": 16,
          "index": 47,
          "rating_avg": 3.0625
         },
         {
          "bean_origin": "Sao Tome",
          "bean_origin_frequency_position": 29,
          "bean_origin_rating_position": 45,
          "frequency": 14,
          "index": 45,
          "rating_avg": 3.0714285714
         },
         {
          "bean_origin": "Vanuatu",
          "bean_origin_frequency_position": 30,
          "bean_origin_rating_position": 46,
          "frequency": 12,
          "index": 46,
          "rating_avg": 3.0625
         },
         {
          "bean_origin": "Cuba",
          "bean_origin_frequency_position": 31,
          "bean_origin_rating_position": 5,
          "frequency": 12,
          "index": 5,
          "rating_avg": 3.2916666667
         },
         {
          "bean_origin": "Congo",
          "bean_origin_frequency_position": 32,
          "bean_origin_rating_position": 3,
          "frequency": 11,
          "index": 3,
          "rating_avg": 3.3181818182
         },
         {
          "bean_origin": "Solomon Islands",
          "bean_origin_frequency_position": 33,
          "bean_origin_rating_position": 2,
          "frequency": 10,
          "index": 2,
          "rating_avg": 3.45
         },
         {
          "bean_origin": "Panama",
          "bean_origin_frequency_position": 34,
          "bean_origin_rating_position": 36,
          "frequency": 9,
          "index": 36,
          "rating_avg": 3.1111111111
         },
         {
          "bean_origin": "St. Lucia",
          "bean_origin_frequency_position": 35,
          "bean_origin_rating_position": 42,
          "frequency": 9,
          "index": 42,
          "rating_avg": 3.0833333333
         },
         {
          "bean_origin": "Malaysia",
          "bean_origin_frequency_position": 36,
          "bean_origin_rating_position": 38,
          "frequency": 8,
          "index": 38,
          "rating_avg": 3.09375
         },
         {
          "bean_origin": "Puerto Rico",
          "bean_origin_frequency_position": 37,
          "bean_origin_rating_position": 61,
          "frequency": 7,
          "index": 61,
          "rating_avg": 2.7142857143
         },
         {
          "bean_origin": "El Salvador",
          "bean_origin_frequency_position": 38,
          "bean_origin_rating_position": 49,
          "frequency": 6,
          "index": 49,
          "rating_avg": 3
         },
         {
          "bean_origin": "Ivory Coast",
          "bean_origin_frequency_position": 39,
          "bean_origin_rating_position": 56,
          "frequency": 6,
          "index": 56,
          "rating_avg": 2.8333333333
         },
         {
          "bean_origin": "Thailand",
          "bean_origin_frequency_position": 40,
          "bean_origin_rating_position": 4,
          "frequency": 5,
          "index": 4,
          "rating_avg": 3.3
         },
         {
          "bean_origin": "Sierra Leone",
          "bean_origin_frequency_position": 41,
          "bean_origin_rating_position": 58,
          "frequency": 4,
          "index": 58,
          "rating_avg": 2.75
         },
         {
          "bean_origin": "Togo",
          "bean_origin_frequency_position": 42,
          "bean_origin_rating_position": 40,
          "frequency": 3,
          "index": 40,
          "rating_avg": 3.0833333333
         },
         {
          "bean_origin": "Samoa",
          "bean_origin_frequency_position": 43,
          "bean_origin_rating_position": 43,
          "frequency": 3,
          "index": 43,
          "rating_avg": 3.0833333333
         },
         {
          "bean_origin": "Australia",
          "bean_origin_frequency_position": 44,
          "bean_origin_rating_position": 17,
          "frequency": 3,
          "index": 17,
          "rating_avg": 3.25
         },
         {
          "bean_origin": "Liberia",
          "bean_origin_frequency_position": 45,
          "bean_origin_rating_position": 44,
          "frequency": 3,
          "index": 44,
          "rating_avg": 3.0833333333
         },
         {
          "bean_origin": "Cameroon",
          "bean_origin_frequency_position": 46,
          "bean_origin_rating_position": 41,
          "frequency": 3,
          "index": 41,
          "rating_avg": 3.0833333333
         },
         {
          "bean_origin": "Sri Lanka",
          "bean_origin_frequency_position": 47,
          "bean_origin_rating_position": 53,
          "frequency": 2,
          "index": 53,
          "rating_avg": 2.875
         },
         {
          "bean_origin": "Taiwan",
          "bean_origin_frequency_position": 48,
          "bean_origin_rating_position": 55,
          "frequency": 2,
          "index": 55,
          "rating_avg": 2.875
         },
         {
          "bean_origin": "Sao Tome & Principe",
          "bean_origin_frequency_position": 49,
          "bean_origin_rating_position": 1,
          "frequency": 2,
          "index": 1,
          "rating_avg": 3.5
         },
         {
          "bean_origin": "Nigeria",
          "bean_origin_frequency_position": 50,
          "bean_origin_rating_position": 54,
          "frequency": 2,
          "index": 54,
          "rating_avg": 2.875
         },
         {
          "bean_origin": "China",
          "bean_origin_frequency_position": 51,
          "bean_origin_rating_position": 0,
          "frequency": 1,
          "index": 0,
          "rating_avg": 3.5
         },
         {
          "bean_origin": "Sulawesi",
          "bean_origin_frequency_position": 52,
          "bean_origin_rating_position": 13,
          "frequency": 1,
          "index": 13,
          "rating_avg": 3.25
         },
         {
          "bean_origin": "Sumatra",
          "bean_origin_frequency_position": 53,
          "bean_origin_rating_position": 50,
          "frequency": 1,
          "index": 50,
          "rating_avg": 3
         },
         {
          "bean_origin": "Gabon",
          "bean_origin_frequency_position": 54,
          "bean_origin_rating_position": 14,
          "frequency": 1,
          "index": 14,
          "rating_avg": 3.25
         },
         {
          "bean_origin": "Principe",
          "bean_origin_frequency_position": 55,
          "bean_origin_rating_position": 59,
          "frequency": 1,
          "index": 59,
          "rating_avg": 2.75
         },
         {
          "bean_origin": "Martinique",
          "bean_origin_frequency_position": 56,
          "bean_origin_rating_position": 57,
          "frequency": 1,
          "index": 57,
          "rating_avg": 2.75
         },
         {
          "bean_origin": "Tobago",
          "bean_origin_frequency_position": 57,
          "bean_origin_rating_position": 16,
          "frequency": 1,
          "index": 16,
          "rating_avg": 3.25
         },
         {
          "bean_origin": "Burma",
          "bean_origin_frequency_position": 58,
          "bean_origin_rating_position": 51,
          "frequency": 1,
          "index": 51,
          "rating_avg": 3
         },
         {
          "bean_origin": "St.Vincent-Grenadines",
          "bean_origin_frequency_position": 59,
          "bean_origin_rating_position": 60,
          "frequency": 1,
          "index": 60,
          "rating_avg": 2.75
         },
         {
          "bean_origin": "DR Congo",
          "bean_origin_frequency_position": 60,
          "bean_origin_rating_position": 52,
          "frequency": 1,
          "index": 52,
          "rating_avg": 3
         },
         {
          "bean_origin": "Suriname",
          "bean_origin_frequency_position": 61,
          "bean_origin_rating_position": 15,
          "frequency": 1,
          "index": 15,
          "rating_avg": 3.25
         }
        ],
        "schema": {
         "fields": [
          {
           "name": "index",
           "type": "integer"
          },
          {
           "name": "bean_origin",
           "type": "string"
          },
          {
           "name": "rating_avg",
           "type": "number"
          },
          {
           "name": "bean_origin_rating_position",
           "type": "integer"
          },
          {
           "name": "frequency",
           "type": "integer"
          },
          {
           "name": "bean_origin_frequency_position",
           "type": "integer"
          }
         ],
         "pandas_version": "0.20.0",
         "primaryKey": [
          "index"
         ]
        }
       },
       "total_rows": 62
      },
      "text/html": [
       "<div>\n",
       "<style scoped>\n",
       "    .dataframe tbody tr th:only-of-type {\n",
       "        vertical-align: middle;\n",
       "    }\n",
       "\n",
       "    .dataframe tbody tr th {\n",
       "        vertical-align: top;\n",
       "    }\n",
       "\n",
       "    .dataframe thead th {\n",
       "        text-align: right;\n",
       "    }\n",
       "</style>\n",
       "<table border=\"1\" class=\"dataframe\">\n",
       "  <thead>\n",
       "    <tr style=\"text-align: right;\">\n",
       "      <th></th>\n",
       "      <th>bean_origin</th>\n",
       "      <th>rating_avg</th>\n",
       "      <th>bean_origin_rating_position</th>\n",
       "      <th>frequency</th>\n",
       "      <th>bean_origin_frequency_position</th>\n",
       "    </tr>\n",
       "  </thead>\n",
       "  <tbody>\n",
       "    <tr>\n",
       "      <th>22</th>\n",
       "      <td>Venezuela</td>\n",
       "      <td>3.239837</td>\n",
       "      <td>22</td>\n",
       "      <td>246</td>\n",
       "      <td>0</td>\n",
       "    </tr>\n",
       "    <tr>\n",
       "      <th>23</th>\n",
       "      <td>Peru</td>\n",
       "      <td>3.228355</td>\n",
       "      <td>23</td>\n",
       "      <td>231</td>\n",
       "      <td>1</td>\n",
       "    </tr>\n",
       "    <tr>\n",
       "      <th>24</th>\n",
       "      <td>Dominican Republic</td>\n",
       "      <td>3.219318</td>\n",
       "      <td>24</td>\n",
       "      <td>220</td>\n",
       "      <td>2</td>\n",
       "    </tr>\n",
       "    <tr>\n",
       "      <th>26</th>\n",
       "      <td>Ecuador</td>\n",
       "      <td>3.213930</td>\n",
       "      <td>26</td>\n",
       "      <td>201</td>\n",
       "      <td>3</td>\n",
       "    </tr>\n",
       "    <tr>\n",
       "      <th>8</th>\n",
       "      <td>Madagascar</td>\n",
       "      <td>3.270468</td>\n",
       "      <td>8</td>\n",
       "      <td>171</td>\n",
       "      <td>4</td>\n",
       "    </tr>\n",
       "    <tr>\n",
       "      <th>...</th>\n",
       "      <td>...</td>\n",
       "      <td>...</td>\n",
       "      <td>...</td>\n",
       "      <td>...</td>\n",
       "      <td>...</td>\n",
       "    </tr>\n",
       "    <tr>\n",
       "      <th>16</th>\n",
       "      <td>Tobago</td>\n",
       "      <td>3.250000</td>\n",
       "      <td>16</td>\n",
       "      <td>1</td>\n",
       "      <td>57</td>\n",
       "    </tr>\n",
       "    <tr>\n",
       "      <th>51</th>\n",
       "      <td>Burma</td>\n",
       "      <td>3.000000</td>\n",
       "      <td>51</td>\n",
       "      <td>1</td>\n",
       "      <td>58</td>\n",
       "    </tr>\n",
       "    <tr>\n",
       "      <th>60</th>\n",
       "      <td>St.Vincent-Grenadines</td>\n",
       "      <td>2.750000</td>\n",
       "      <td>60</td>\n",
       "      <td>1</td>\n",
       "      <td>59</td>\n",
       "    </tr>\n",
       "    <tr>\n",
       "      <th>52</th>\n",
       "      <td>DR Congo</td>\n",
       "      <td>3.000000</td>\n",
       "      <td>52</td>\n",
       "      <td>1</td>\n",
       "      <td>60</td>\n",
       "    </tr>\n",
       "    <tr>\n",
       "      <th>15</th>\n",
       "      <td>Suriname</td>\n",
       "      <td>3.250000</td>\n",
       "      <td>15</td>\n",
       "      <td>1</td>\n",
       "      <td>61</td>\n",
       "    </tr>\n",
       "  </tbody>\n",
       "</table>\n",
       "<p>62 rows × 5 columns</p>\n",
       "</div>"
      ],
      "text/plain": [
       "              bean_origin  rating_avg  bean_origin_rating_position  frequency  \\\n",
       "22              Venezuela    3.239837                           22        246   \n",
       "23                   Peru    3.228355                           23        231   \n",
       "24     Dominican Republic    3.219318                           24        220   \n",
       "26                Ecuador    3.213930                           26        201   \n",
       "8              Madagascar    3.270468                            8        171   \n",
       "..                    ...         ...                          ...        ...   \n",
       "16                 Tobago    3.250000                           16          1   \n",
       "51                  Burma    3.000000                           51          1   \n",
       "60  St.Vincent-Grenadines    2.750000                           60          1   \n",
       "52               DR Congo    3.000000                           52          1   \n",
       "15               Suriname    3.250000                           15          1   \n",
       "\n",
       "    bean_origin_frequency_position  \n",
       "22                               0  \n",
       "23                               1  \n",
       "24                               2  \n",
       "26                               3  \n",
       "8                                4  \n",
       "..                             ...  \n",
       "16                              57  \n",
       "51                              58  \n",
       "60                              59  \n",
       "52                              60  \n",
       "15                              61  \n",
       "\n",
       "[62 rows x 5 columns]"
      ]
     },
     "metadata": {},
     "output_type": "display_data"
    }
   ],
   "source": [
    "# we make rating list of bean_origin countries by frequency\n",
    "data_bean_origin_frequency['bean_origin_frequency_position'] = np.arange(len(data_bean_origin_frequency))\n",
    "\n",
    "# we make rating list of bean_origin countries by rating\n",
    "data_bean_origin_rating['bean_origin_rating_position'] = np.arange(len(data_bean_origin_rating))\n",
    "\n",
    "# we match country positions by rating & frequency\n",
    "data_bean_origing_rating_list = data_bean_origin_rating.merge(data_bean_origin_frequency, on='bean_origin')\n",
    "display(data_bean_origing_rating_list.sort_values('bean_origin_frequency_position'))"
   ]
  },
  {
   "cell_type": "code",
   "execution_count": 21,
   "id": "ff96d5c3-c3f9-443f-939b-3d3585f736a0",
   "metadata": {},
   "outputs": [
    {
     "data": {
      "image/png": "[encoded data removed]",
      "text/plain": [
       "<Figure size 432x432 with 3 Axes>"
      ]
     },
     "metadata": {
      "needs_background": "light"
     },
     "output_type": "display_data"
    }
   ],
   "source": [
    "# we plot bean_origin countries distribution according to rating & frequency positions\n",
    "p = sns.jointplot(x='bean_origin_rating_position', y='bean_origin_frequency_position'\\\n",
    "              , data=data_bean_origing_rating_list)\n",
    "p.fig.suptitle(\"Bean_origin countries distribution according to rating & frequency positions\")\n",
    "p.fig.tight_layout()\n",
    "p.fig.subplots_adjust(top=0.9);"
   ]
  },
  {
   "cell_type": "code",
   "execution_count": 22,
   "id": "d99e8399-4e24-4bb5-86fd-1740a6186219",
   "metadata": {},
   "outputs": [
    {
     "data": {
      "application/com.datacamp.data-table.v1+json": {
       "is_truncated": false,
       "table": {
        "data": [
         {
          "bean_origin": "Vietnam",
          "bean_origin_frequency_position": 12,
          "bean_origin_rating_position": 6,
          "frequency": 73,
          "index": 6,
          "rating_avg": 3.2876712329
         },
         {
          "bean_origin": "Papua New Guinea",
          "bean_origin_frequency_position": 15,
          "bean_origin_rating_position": 7,
          "frequency": 49,
          "index": 7,
          "rating_avg": 3.2806122449
         },
         {
          "bean_origin": "Madagascar",
          "bean_origin_frequency_position": 4,
          "bean_origin_rating_position": 8,
          "frequency": 171,
          "index": 8,
          "rating_avg": 3.2704678363
         },
         {
          "bean_origin": "Brazil",
          "bean_origin_frequency_position": 10,
          "bean_origin_rating_position": 10,
          "frequency": 77,
          "index": 10,
          "rating_avg": 3.2597402597
         },
         {
          "bean_origin": "Guatemala",
          "bean_origin_frequency_position": 13,
          "bean_origin_rating_position": 11,
          "frequency": 62,
          "index": 11,
          "rating_avg": 3.2580645161
         },
         {
          "bean_origin": "Nicaragua",
          "bean_origin_frequency_position": 6,
          "bean_origin_rating_position": 12,
          "frequency": 100,
          "index": 12,
          "rating_avg": 3.255
         },
         {
          "bean_origin": "Trinidad",
          "bean_origin_frequency_position": 16,
          "bean_origin_rating_position": 18,
          "frequency": 42,
          "index": 18,
          "rating_avg": 3.244047619
         },
         {
          "bean_origin": "Tanzania",
          "bean_origin_frequency_position": 8,
          "bean_origin_rating_position": 19,
          "frequency": 78,
          "index": 19,
          "rating_avg": 3.2435897436
         },
         {
          "bean_origin": "Belize",
          "bean_origin_frequency_position": 11,
          "bean_origin_rating_position": 20,
          "frequency": 74,
          "index": 20,
          "rating_avg": 3.2432432432
         }
        ],
        "schema": {
         "fields": [
          {
           "name": "index",
           "type": "integer"
          },
          {
           "name": "bean_origin",
           "type": "string"
          },
          {
           "name": "rating_avg",
           "type": "number"
          },
          {
           "name": "bean_origin_rating_position",
           "type": "integer"
          },
          {
           "name": "frequency",
           "type": "integer"
          },
          {
           "name": "bean_origin_frequency_position",
           "type": "integer"
          }
         ],
         "pandas_version": "0.20.0",
         "primaryKey": [
          "index"
         ]
        }
       },
       "total_rows": 9
      },
      "text/html": [
       "<div>\n",
       "<style scoped>\n",
       "    .dataframe tbody tr th:only-of-type {\n",
       "        vertical-align: middle;\n",
       "    }\n",
       "\n",
       "    .dataframe tbody tr th {\n",
       "        vertical-align: top;\n",
       "    }\n",
       "\n",
       "    .dataframe thead th {\n",
       "        text-align: right;\n",
       "    }\n",
       "</style>\n",
       "<table border=\"1\" class=\"dataframe\">\n",
       "  <thead>\n",
       "    <tr style=\"text-align: right;\">\n",
       "      <th></th>\n",
       "      <th>bean_origin</th>\n",
       "      <th>rating_avg</th>\n",
       "      <th>bean_origin_rating_position</th>\n",
       "      <th>frequency</th>\n",
       "      <th>bean_origin_frequency_position</th>\n",
       "    </tr>\n",
       "  </thead>\n",
       "  <tbody>\n",
       "    <tr>\n",
       "      <th>6</th>\n",
       "      <td>Vietnam</td>\n",
       "      <td>3.287671</td>\n",
       "      <td>6</td>\n",
       "      <td>73</td>\n",
       "      <td>12</td>\n",
       "    </tr>\n",
       "    <tr>\n",
       "      <th>7</th>\n",
       "      <td>Papua New Guinea</td>\n",
       "      <td>3.280612</td>\n",
       "      <td>7</td>\n",
       "      <td>49</td>\n",
       "      <td>15</td>\n",
       "    </tr>\n",
       "    <tr>\n",
       "      <th>8</th>\n",
       "      <td>Madagascar</td>\n",
       "      <td>3.270468</td>\n",
       "      <td>8</td>\n",
       "      <td>171</td>\n",
       "      <td>4</td>\n",
       "    </tr>\n",
       "    <tr>\n",
       "      <th>10</th>\n",
       "      <td>Brazil</td>\n",
       "      <td>3.259740</td>\n",
       "      <td>10</td>\n",
       "      <td>77</td>\n",
       "      <td>10</td>\n",
       "    </tr>\n",
       "    <tr>\n",
       "      <th>11</th>\n",
       "      <td>Guatemala</td>\n",
       "      <td>3.258065</td>\n",
       "      <td>11</td>\n",
       "      <td>62</td>\n",
       "      <td>13</td>\n",
       "    </tr>\n",
       "    <tr>\n",
       "      <th>12</th>\n",
       "      <td>Nicaragua</td>\n",
       "      <td>3.255000</td>\n",
       "      <td>12</td>\n",
       "      <td>100</td>\n",
       "      <td>6</td>\n",
       "    </tr>\n",
       "    <tr>\n",
       "      <th>18</th>\n",
       "      <td>Trinidad</td>\n",
       "      <td>3.244048</td>\n",
       "      <td>18</td>\n",
       "      <td>42</td>\n",
       "      <td>16</td>\n",
       "    </tr>\n",
       "    <tr>\n",
       "      <th>19</th>\n",
       "      <td>Tanzania</td>\n",
       "      <td>3.243590</td>\n",
       "      <td>19</td>\n",
       "      <td>78</td>\n",
       "      <td>8</td>\n",
       "    </tr>\n",
       "    <tr>\n",
       "      <th>20</th>\n",
       "      <td>Belize</td>\n",
       "      <td>3.243243</td>\n",
       "      <td>20</td>\n",
       "      <td>74</td>\n",
       "      <td>11</td>\n",
       "    </tr>\n",
       "  </tbody>\n",
       "</table>\n",
       "</div>"
      ],
      "text/plain": [
       "         bean_origin  rating_avg  bean_origin_rating_position  frequency  \\\n",
       "6            Vietnam    3.287671                            6         73   \n",
       "7   Papua New Guinea    3.280612                            7         49   \n",
       "8         Madagascar    3.270468                            8        171   \n",
       "10            Brazil    3.259740                           10         77   \n",
       "11         Guatemala    3.258065                           11         62   \n",
       "12         Nicaragua    3.255000                           12        100   \n",
       "18          Trinidad    3.244048                           18         42   \n",
       "19          Tanzania    3.243590                           19         78   \n",
       "20            Belize    3.243243                           20         74   \n",
       "\n",
       "    bean_origin_frequency_position  \n",
       "6                               12  \n",
       "7                               15  \n",
       "8                                4  \n",
       "10                              10  \n",
       "11                              13  \n",
       "12                               6  \n",
       "18                              16  \n",
       "19                               8  \n",
       "20                              11  "
      ]
     },
     "execution_count": 22,
     "metadata": {},
     "output_type": "execute_result"
    }
   ],
   "source": [
    "# we make final top list of bean_origin countries that belong both to top 20 rating & frequency lists\n",
    "data_bean_origing_rating_list_top\\\n",
    "= data_bean_origing_rating_list[(data_bean_origing_rating_list['bean_origin_rating_position'] <=20)\\\n",
    "                                & (data_bean_origing_rating_list['bean_origin_frequency_position'] <=20)]\n",
    "data_bean_origing_rating_list_top"
   ]
  },
  {
   "cell_type": "markdown",
   "id": "1fed00f2-d58c-495a-90e8-070b99926f4a",
   "metadata": {},
   "source": [
    "**Data & graphics conclusions**\n",
    "* bean_origin countries that have highest average ratings do not have any visible share of the market wich means thay can not offer the best price & reliable supply\n",
    "* the majority of most exporting countries have ratings less than *Recommended*\n",
    "* 9 bean_origin countries:\n",
    "1. Vietnam\n",
    "2. Papua New Guinea\n",
    "3. Madagascar\n",
    "4. Brazil\n",
    "5. Guatemala\n",
    "6. Nicaragua\n",
    "7. Trinidad\n",
    "8. Tanzania\n",
    "9. Beliz\n",
    "\n",
    "have *Recommended* ratings (3,29 - 3,24) and belong to TOP 20 exporters"
   ]
  },
  {
   "cell_type": "markdown",
   "id": "2d131d92-2ebb-470e-b279-91eb0707193b",
   "metadata": {},
   "source": [
    "### Categorical features: *ingredients*"
   ]
  },
  {
   "cell_type": "code",
   "execution_count": 23,
   "id": "01daac06-ccdb-40b2-b369-1b840f780520",
   "metadata": {},
   "outputs": [
    {
     "data": {
      "text/plain": [
       "B,S,C           999\n",
       "B,S             718\n",
       "B,S,C,L         286\n",
       "B,S,C,V,L       184\n",
       "B,S,C,V         141\n",
       "B,S*             31\n",
       "B,S*,C,Sa        20\n",
       "B,S*,C           12\n",
       "B,S,L             8\n",
       "B,S*,C,V          7\n",
       "B                 6\n",
       "B,S,C,V,Sa        6\n",
       "B,S,V,L           5\n",
       "B,S,C,Sa          5\n",
       "B,S,C,V,L,Sa      4\n",
       "B,S*,V,L          3\n",
       "B,S,V             3\n",
       "B,S*,C,L          2\n",
       "B,S,C,L,Sa        1\n",
       "B,C               1\n",
       "B,S*,Sa           1\n",
       "Name: ingredients, dtype: int64"
      ]
     },
     "execution_count": 23,
     "metadata": {},
     "output_type": "execute_result"
    }
   ],
   "source": [
    "# we make the list of ingredients\n",
    "data.ingredients.value_counts()"
   ]
  },
  {
   "cell_type": "code",
   "execution_count": 24,
   "id": "68ec2357-1e83-4d69-81f5-c8e1890783dd",
   "metadata": {},
   "outputs": [
    {
     "data": {
      "application/com.datacamp.data-table.v1+json": {
       "is_truncated": false,
       "table": {
        "data": [
         {
          "bar_name": "Colombia",
          "bean_origin": "Colombia",
          "cocoa_percent": 70,
          "company_location": "U.S.A.",
          "id": 2370,
          "index": 2064,
          "ingredients": "B,S,C",
          "l_index": 0,
          "manufacturer": "Shane Chocolate Works",
          "num_ingredients": 3,
          "rating": 3,
          "review": "black pepper, astringent",
          "year_reviewed": 2019
         },
         {
          "bar_name": "Idukki",
          "bean_origin": "India",
          "cocoa_percent": 70,
          "company_location": "U.S.A.",
          "id": 2450,
          "index": 151,
          "ingredients": "B,S,C",
          "l_index": 0,
          "manufacturer": "Arete",
          "num_ingredients": 3,
          "rating": 3,
          "review": "burn butterscotch, rubbery",
          "year_reviewed": 2019
         }
        ],
        "schema": {
         "fields": [
          {
           "name": "index",
           "type": "integer"
          },
          {
           "name": "id",
           "type": "string"
          },
          {
           "name": "manufacturer",
           "type": "string"
          },
          {
           "name": "company_location",
           "type": "string"
          },
          {
           "name": "year_reviewed",
           "type": "integer"
          },
          {
           "name": "bean_origin",
           "type": "string"
          },
          {
           "name": "bar_name",
           "type": "string"
          },
          {
           "name": "cocoa_percent",
           "type": "number"
          },
          {
           "name": "num_ingredients",
           "type": "number"
          },
          {
           "name": "ingredients",
           "type": "string"
          },
          {
           "name": "review",
           "type": "string"
          },
          {
           "name": "rating",
           "type": "number"
          },
          {
           "name": "l_index",
           "type": "integer"
          }
         ],
         "pandas_version": "0.20.0",
         "primaryKey": [
          "index"
         ]
        }
       },
       "total_rows": 2
      },
      "text/html": [
       "<div>\n",
       "<style scoped>\n",
       "    .dataframe tbody tr th:only-of-type {\n",
       "        vertical-align: middle;\n",
       "    }\n",
       "\n",
       "    .dataframe tbody tr th {\n",
       "        vertical-align: top;\n",
       "    }\n",
       "\n",
       "    .dataframe thead th {\n",
       "        text-align: right;\n",
       "    }\n",
       "</style>\n",
       "<table border=\"1\" class=\"dataframe\">\n",
       "  <thead>\n",
       "    <tr style=\"text-align: right;\">\n",
       "      <th></th>\n",
       "      <th>id</th>\n",
       "      <th>manufacturer</th>\n",
       "      <th>company_location</th>\n",
       "      <th>year_reviewed</th>\n",
       "      <th>bean_origin</th>\n",
       "      <th>bar_name</th>\n",
       "      <th>cocoa_percent</th>\n",
       "      <th>num_ingredients</th>\n",
       "      <th>ingredients</th>\n",
       "      <th>review</th>\n",
       "      <th>rating</th>\n",
       "      <th>l_index</th>\n",
       "    </tr>\n",
       "  </thead>\n",
       "  <tbody>\n",
       "    <tr>\n",
       "      <th>2064</th>\n",
       "      <td>2370</td>\n",
       "      <td>Shane Chocolate Works</td>\n",
       "      <td>U.S.A.</td>\n",
       "      <td>2019</td>\n",
       "      <td>Colombia</td>\n",
       "      <td>Colombia</td>\n",
       "      <td>70.0</td>\n",
       "      <td>3.0</td>\n",
       "      <td>B,S,C</td>\n",
       "      <td>black pepper, astringent</td>\n",
       "      <td>3.0</td>\n",
       "      <td>0</td>\n",
       "    </tr>\n",
       "    <tr>\n",
       "      <th>151</th>\n",
       "      <td>2450</td>\n",
       "      <td>Arete</td>\n",
       "      <td>U.S.A.</td>\n",
       "      <td>2019</td>\n",
       "      <td>India</td>\n",
       "      <td>Idukki</td>\n",
       "      <td>70.0</td>\n",
       "      <td>3.0</td>\n",
       "      <td>B,S,C</td>\n",
       "      <td>burn butterscotch, rubbery</td>\n",
       "      <td>3.0</td>\n",
       "      <td>0</td>\n",
       "    </tr>\n",
       "  </tbody>\n",
       "</table>\n",
       "</div>"
      ],
      "text/plain": [
       "        id           manufacturer company_location  year_reviewed bean_origin  \\\n",
       "2064  2370  Shane Chocolate Works           U.S.A.           2019    Colombia   \n",
       "151   2450                  Arete           U.S.A.           2019       India   \n",
       "\n",
       "      bar_name  cocoa_percent  num_ingredients ingredients  \\\n",
       "2064  Colombia           70.0              3.0       B,S,C   \n",
       "151     Idukki           70.0              3.0       B,S,C   \n",
       "\n",
       "                          review  rating  l_index  \n",
       "2064    black pepper, astringent     3.0        0  \n",
       "151   burn butterscotch, rubbery     3.0        0  "
      ]
     },
     "metadata": {},
     "output_type": "display_data"
    }
   ],
   "source": [
    "# we add binar feature of Lecitin content in ingredients\n",
    "data['l_index'] = np.where(data['ingredients'].str.contains('L'), 1, 0)\n",
    "display(data.sample(2))"
   ]
  },
  {
   "cell_type": "code",
   "execution_count": 25,
   "id": "e072e71b-c128-45d6-a222-2c4d82cb95b0",
   "metadata": {},
   "outputs": [],
   "source": [
    "# we create function to encode rating groups\n",
    "def rating_group(rating):\n",
    "    if rating <= 1.9:\n",
    "        return 'unpleasant'\n",
    "    if rating <= 2.9:\n",
    "        return 'disappointing'\n",
    "    if rating <= 3.49:\n",
    "        return 'recommended'\n",
    "    if rating <= 3.9:\n",
    "        return 'highly recommended'\n",
    "    else:\n",
    "        return 'oustanding'"
   ]
  },
  {
   "cell_type": "code",
   "execution_count": 26,
   "id": "a4c4913c-f919-48c8-a4ba-4073cf16e3a9",
   "metadata": {},
   "outputs": [],
   "source": [
    "# we add feature of rating group\n",
    "data['rating_group'] = data['rating'].apply(rating_group)"
   ]
  },
  {
   "cell_type": "code",
   "execution_count": 27,
   "id": "5c231b8a-7b61-4147-83f8-d7ee7d69d2c0",
   "metadata": {},
   "outputs": [
    {
     "data": {
      "image/png": "[encoded data removed]",
      "text/plain": [
       "<Figure size 864x360 with 1 Axes>"
      ]
     },
     "metadata": {},
     "output_type": "display_data"
    }
   ],
   "source": [
    "# we plot average rating for rating groups with & without Lecitin\n",
    "sns.set(rc={'figure.figsize':(12,5)})\n",
    "fig.suptitle('Average scores for students with/without the test preparation course', fontsize=15)\n",
    "g = sns.barplot(x='rating_group', y='rating', hue='l_index', data=data, palette=\"Blues_d\")\\\n",
    ".set_title('Average rating for rating groups with & without Lecitin');"
   ]
  },
  {
   "cell_type": "markdown",
   "id": "116c3a45-1226-4567-b250-647b2675b8bc",
   "metadata": {},
   "source": [
    "**Data & graphics conclusions**\n",
    "* the higher the rating group is the less difference in average rating is noticed between bars with & without Lecitin"
   ]
  },
  {
   "cell_type": "code",
   "execution_count": 28,
   "id": "2bc24a7c-4c36-4b3d-80a7-16921a51e392",
   "metadata": {},
   "outputs": [
    {
     "data": {
      "text/html": [
       "<style  type=\"text/css\" >\n",
       "#T_ee9a5_row0_col0,#T_ee9a5_row0_col1,#T_ee9a5_row0_col2,#T_ee9a5_row0_col3,#T_ee9a5_row0_col4,#T_ee9a5_row0_col5{\n",
       "            background-color:  #08306b;\n",
       "            color:  #f1f1f1;\n",
       "        }#T_ee9a5_row1_col0,#T_ee9a5_row2_col1{\n",
       "            background-color:  #b3d3e8;\n",
       "            color:  #000000;\n",
       "        }#T_ee9a5_row1_col1{\n",
       "            background-color:  #81badb;\n",
       "            color:  #000000;\n",
       "        }#T_ee9a5_row1_col2{\n",
       "            background-color:  #64a9d3;\n",
       "            color:  #000000;\n",
       "        }#T_ee9a5_row1_col3{\n",
       "            background-color:  #8fc2de;\n",
       "            color:  #000000;\n",
       "        }#T_ee9a5_row1_col4,#T_ee9a5_row4_col4{\n",
       "            background-color:  #bad6eb;\n",
       "            color:  #000000;\n",
       "        }#T_ee9a5_row1_col5{\n",
       "            background-color:  #91c3de;\n",
       "            color:  #000000;\n",
       "        }#T_ee9a5_row2_col0{\n",
       "            background-color:  #bcd7eb;\n",
       "            color:  #000000;\n",
       "        }#T_ee9a5_row2_col2{\n",
       "            background-color:  #caddf0;\n",
       "            color:  #000000;\n",
       "        }#T_ee9a5_row2_col3,#T_ee9a5_row2_col5{\n",
       "            background-color:  #b8d5ea;\n",
       "            color:  #000000;\n",
       "        }#T_ee9a5_row2_col4,#T_ee9a5_row5_col4,#T_ee9a5_row6_col2,#T_ee9a5_row6_col4,#T_ee9a5_row7_col2,#T_ee9a5_row8_col0,#T_ee9a5_row8_col1,#T_ee9a5_row8_col2,#T_ee9a5_row8_col4,#T_ee9a5_row8_col5,#T_ee9a5_row9_col0,#T_ee9a5_row9_col1,#T_ee9a5_row9_col2,#T_ee9a5_row9_col4,#T_ee9a5_row9_col5,#T_ee9a5_row10_col1,#T_ee9a5_row10_col2,#T_ee9a5_row10_col5,#T_ee9a5_row11_col1,#T_ee9a5_row11_col2,#T_ee9a5_row11_col4,#T_ee9a5_row12_col0,#T_ee9a5_row12_col1,#T_ee9a5_row12_col2,#T_ee9a5_row12_col3,#T_ee9a5_row12_col4,#T_ee9a5_row12_col5,#T_ee9a5_row13_col1,#T_ee9a5_row13_col2,#T_ee9a5_row13_col3,#T_ee9a5_row13_col4,#T_ee9a5_row13_col5,#T_ee9a5_row14_col0,#T_ee9a5_row14_col1,#T_ee9a5_row14_col2,#T_ee9a5_row14_col3,#T_ee9a5_row14_col4,#T_ee9a5_row14_col5,#T_ee9a5_row15_col0,#T_ee9a5_row15_col1,#T_ee9a5_row15_col2,#T_ee9a5_row15_col3,#T_ee9a5_row15_col4,#T_ee9a5_row15_col5,#T_ee9a5_row16_col0,#T_ee9a5_row16_col1,#T_ee9a5_row16_col2,#T_ee9a5_row16_col3,#T_ee9a5_row16_col4,#T_ee9a5_row16_col5,#T_ee9a5_row17_col0,#T_ee9a5_row17_col1,#T_ee9a5_row17_col2,#T_ee9a5_row17_col3,#T_ee9a5_row17_col4,#T_ee9a5_row17_col5,#T_ee9a5_row18_col1,#T_ee9a5_row18_col2,#T_ee9a5_row18_col3,#T_ee9a5_row18_col4,#T_ee9a5_row18_col5,#T_ee9a5_row19_col1,#T_ee9a5_row19_col2,#T_ee9a5_row19_col3,#T_ee9a5_row19_col4,#T_ee9a5_row19_col5,#T_ee9a5_row20_col0,#T_ee9a5_row20_col1,#T_ee9a5_row20_col2,#T_ee9a5_row20_col3,#T_ee9a5_row20_col4,#T_ee9a5_row20_col5,#T_ee9a5_row21_col0,#T_ee9a5_row21_col1,#T_ee9a5_row21_col2,#T_ee9a5_row21_col3,#T_ee9a5_row21_col4,#T_ee9a5_row21_col5{\n",
       "            background-color:  #f7fbff;\n",
       "            color:  #000000;\n",
       "        }#T_ee9a5_row3_col0{\n",
       "            background-color:  #dfecf7;\n",
       "            color:  #000000;\n",
       "        }#T_ee9a5_row3_col1{\n",
       "            background-color:  #dfebf7;\n",
       "            color:  #000000;\n",
       "        }#T_ee9a5_row3_col2{\n",
       "            background-color:  #deebf7;\n",
       "            color:  #000000;\n",
       "        }#T_ee9a5_row3_col3,#T_ee9a5_row5_col0{\n",
       "            background-color:  #e1edf8;\n",
       "            color:  #000000;\n",
       "        }#T_ee9a5_row3_col4,#T_ee9a5_row7_col4,#T_ee9a5_row10_col4{\n",
       "            background-color:  #dbe9f6;\n",
       "            color:  #000000;\n",
       "        }#T_ee9a5_row3_col5{\n",
       "            background-color:  #e0ecf8;\n",
       "            color:  #000000;\n",
       "        }#T_ee9a5_row4_col0{\n",
       "            background-color:  #e4eff9;\n",
       "            color:  #000000;\n",
       "        }#T_ee9a5_row4_col1{\n",
       "            background-color:  #ebf3fb;\n",
       "            color:  #000000;\n",
       "        }#T_ee9a5_row4_col2{\n",
       "            background-color:  #e3eef9;\n",
       "            color:  #000000;\n",
       "        }#T_ee9a5_row4_col3{\n",
       "            background-color:  #e9f2fa;\n",
       "            color:  #000000;\n",
       "        }#T_ee9a5_row4_col5{\n",
       "            background-color:  #e8f1fa;\n",
       "            color:  #000000;\n",
       "        }#T_ee9a5_row5_col1{\n",
       "            background-color:  #f1f7fd;\n",
       "            color:  #000000;\n",
       "        }#T_ee9a5_row5_col2{\n",
       "            background-color:  #f4f9fe;\n",
       "            color:  #000000;\n",
       "        }#T_ee9a5_row5_col3,#T_ee9a5_row5_col5{\n",
       "            background-color:  #ecf4fb;\n",
       "            color:  #000000;\n",
       "        }#T_ee9a5_row6_col0{\n",
       "            background-color:  #f2f8fd;\n",
       "            color:  #000000;\n",
       "        }#T_ee9a5_row6_col1,#T_ee9a5_row7_col0,#T_ee9a5_row7_col5,#T_ee9a5_row8_col3,#T_ee9a5_row9_col3,#T_ee9a5_row10_col0,#T_ee9a5_row10_col3,#T_ee9a5_row11_col3,#T_ee9a5_row11_col5,#T_ee9a5_row13_col0,#T_ee9a5_row18_col0,#T_ee9a5_row19_col0{\n",
       "            background-color:  #f6faff;\n",
       "            color:  #000000;\n",
       "        }#T_ee9a5_row6_col3,#T_ee9a5_row6_col5,#T_ee9a5_row11_col0{\n",
       "            background-color:  #f5f9fe;\n",
       "            color:  #000000;\n",
       "        }#T_ee9a5_row7_col1,#T_ee9a5_row7_col3{\n",
       "            background-color:  #f5fafe;\n",
       "            color:  #000000;\n",
       "        }</style><table id=\"T_ee9a5_\" ><thead>    <tr>        <th class=\"index_name level0\" >rating_group</th>        <th class=\"col_heading level0 col0\" >disappointing</th>        <th class=\"col_heading level0 col1\" >highly recommended</th>        <th class=\"col_heading level0 col2\" >oustanding</th>        <th class=\"col_heading level0 col3\" >recommended</th>        <th class=\"col_heading level0 col4\" >unpleasant</th>        <th class=\"col_heading level0 col5\" >All</th>    </tr>    <tr>        <th class=\"index_name level0\" >ingredients</th>        <th class=\"blank\" ></th>        <th class=\"blank\" ></th>        <th class=\"blank\" ></th>        <th class=\"blank\" ></th>        <th class=\"blank\" ></th>        <th class=\"blank\" ></th>    </tr></thead><tbody>\n",
       "                <tr>\n",
       "                        <th id=\"T_ee9a5_level0_row0\" class=\"row_heading level0 row0\" >All</th>\n",
       "                        <td id=\"T_ee9a5_row0_col0\" class=\"data row0 col0\" >519</td>\n",
       "                        <td id=\"T_ee9a5_row0_col1\" class=\"data row0 col1\" >847</td>\n",
       "                        <td id=\"T_ee9a5_row0_col2\" class=\"data row0 col2\" >111</td>\n",
       "                        <td id=\"T_ee9a5_row0_col3\" class=\"data row0 col3\" >959</td>\n",
       "                        <td id=\"T_ee9a5_row0_col4\" class=\"data row0 col4\" >7</td>\n",
       "                        <td id=\"T_ee9a5_row0_col5\" class=\"data row0 col5\" >2443</td>\n",
       "            </tr>\n",
       "            <tr>\n",
       "                        <th id=\"T_ee9a5_level0_row1\" class=\"row_heading level0 row1\" >B,S,C</th>\n",
       "                        <td id=\"T_ee9a5_row1_col0\" class=\"data row1 col0\" >162</td>\n",
       "                        <td id=\"T_ee9a5_row1_col1\" class=\"data row1 col1\" >380</td>\n",
       "                        <td id=\"T_ee9a5_row1_col2\" class=\"data row1 col2\" >58</td>\n",
       "                        <td id=\"T_ee9a5_row1_col3\" class=\"data row1 col3\" >397</td>\n",
       "                        <td id=\"T_ee9a5_row1_col4\" class=\"data row1 col4\" >2</td>\n",
       "                        <td id=\"T_ee9a5_row1_col5\" class=\"data row1 col5\" >999</td>\n",
       "            </tr>\n",
       "            <tr>\n",
       "                        <th id=\"T_ee9a5_level0_row2\" class=\"row_heading level0 row2\" >B,S</th>\n",
       "                        <td id=\"T_ee9a5_row2_col0\" class=\"data row2 col0\" >147</td>\n",
       "                        <td id=\"T_ee9a5_row2_col1\" class=\"data row2 col1\" >264</td>\n",
       "                        <td id=\"T_ee9a5_row2_col2\" class=\"data row2 col2\" >26</td>\n",
       "                        <td id=\"T_ee9a5_row2_col3\" class=\"data row2 col3\" >281</td>\n",
       "                        <td id=\"T_ee9a5_row2_col4\" class=\"data row2 col4\" >0</td>\n",
       "                        <td id=\"T_ee9a5_row2_col5\" class=\"data row2 col5\" >718</td>\n",
       "            </tr>\n",
       "            <tr>\n",
       "                        <th id=\"T_ee9a5_level0_row3\" class=\"row_heading level0 row3\" >B,S,C,L</th>\n",
       "                        <td id=\"T_ee9a5_row3_col0\" class=\"data row3 col0\" >62</td>\n",
       "                        <td id=\"T_ee9a5_row3_col1\" class=\"data row3 col1\" >104</td>\n",
       "                        <td id=\"T_ee9a5_row3_col2\" class=\"data row3 col2\" >14</td>\n",
       "                        <td id=\"T_ee9a5_row3_col3\" class=\"data row3 col3\" >105</td>\n",
       "                        <td id=\"T_ee9a5_row3_col4\" class=\"data row3 col4\" >1</td>\n",
       "                        <td id=\"T_ee9a5_row3_col5\" class=\"data row3 col5\" >286</td>\n",
       "            </tr>\n",
       "            <tr>\n",
       "                        <th id=\"T_ee9a5_level0_row4\" class=\"row_heading level0 row4\" >B,S,C,V,L</th>\n",
       "                        <td id=\"T_ee9a5_row4_col0\" class=\"data row4 col0\" >50</td>\n",
       "                        <td id=\"T_ee9a5_row4_col1\" class=\"data row4 col1\" >50</td>\n",
       "                        <td id=\"T_ee9a5_row4_col2\" class=\"data row4 col2\" >11</td>\n",
       "                        <td id=\"T_ee9a5_row4_col3\" class=\"data row4 col3\" >71</td>\n",
       "                        <td id=\"T_ee9a5_row4_col4\" class=\"data row4 col4\" >2</td>\n",
       "                        <td id=\"T_ee9a5_row4_col5\" class=\"data row4 col5\" >184</td>\n",
       "            </tr>\n",
       "            <tr>\n",
       "                        <th id=\"T_ee9a5_level0_row5\" class=\"row_heading level0 row5\" >B,S,C,V</th>\n",
       "                        <td id=\"T_ee9a5_row5_col0\" class=\"data row5 col0\" >57</td>\n",
       "                        <td id=\"T_ee9a5_row5_col1\" class=\"data row5 col1\" >29</td>\n",
       "                        <td id=\"T_ee9a5_row5_col2\" class=\"data row5 col2\" >2</td>\n",
       "                        <td id=\"T_ee9a5_row5_col3\" class=\"data row5 col3\" >53</td>\n",
       "                        <td id=\"T_ee9a5_row5_col4\" class=\"data row5 col4\" >0</td>\n",
       "                        <td id=\"T_ee9a5_row5_col5\" class=\"data row5 col5\" >141</td>\n",
       "            </tr>\n",
       "            <tr>\n",
       "                        <th id=\"T_ee9a5_level0_row6\" class=\"row_heading level0 row6\" >B,S*</th>\n",
       "                        <td id=\"T_ee9a5_row6_col0\" class=\"data row6 col0\" >13</td>\n",
       "                        <td id=\"T_ee9a5_row6_col1\" class=\"data row6 col1\" >6</td>\n",
       "                        <td id=\"T_ee9a5_row6_col2\" class=\"data row6 col2\" >0</td>\n",
       "                        <td id=\"T_ee9a5_row6_col3\" class=\"data row6 col3\" >12</td>\n",
       "                        <td id=\"T_ee9a5_row6_col4\" class=\"data row6 col4\" >0</td>\n",
       "                        <td id=\"T_ee9a5_row6_col5\" class=\"data row6 col5\" >31</td>\n",
       "            </tr>\n",
       "            <tr>\n",
       "                        <th id=\"T_ee9a5_level0_row7\" class=\"row_heading level0 row7\" >B,S*,C,Sa</th>\n",
       "                        <td id=\"T_ee9a5_row7_col0\" class=\"data row7 col0\" >3</td>\n",
       "                        <td id=\"T_ee9a5_row7_col1\" class=\"data row7 col1\" >8</td>\n",
       "                        <td id=\"T_ee9a5_row7_col2\" class=\"data row7 col2\" >0</td>\n",
       "                        <td id=\"T_ee9a5_row7_col3\" class=\"data row7 col3\" >8</td>\n",
       "                        <td id=\"T_ee9a5_row7_col4\" class=\"data row7 col4\" >1</td>\n",
       "                        <td id=\"T_ee9a5_row7_col5\" class=\"data row7 col5\" >20</td>\n",
       "            </tr>\n",
       "            <tr>\n",
       "                        <th id=\"T_ee9a5_level0_row8\" class=\"row_heading level0 row8\" >B,S*,C,V</th>\n",
       "                        <td id=\"T_ee9a5_row8_col0\" class=\"data row8 col0\" >1</td>\n",
       "                        <td id=\"T_ee9a5_row8_col1\" class=\"data row8 col1\" >0</td>\n",
       "                        <td id=\"T_ee9a5_row8_col2\" class=\"data row8 col2\" >0</td>\n",
       "                        <td id=\"T_ee9a5_row8_col3\" class=\"data row8 col3\" >6</td>\n",
       "                        <td id=\"T_ee9a5_row8_col4\" class=\"data row8 col4\" >0</td>\n",
       "                        <td id=\"T_ee9a5_row8_col5\" class=\"data row8 col5\" >7</td>\n",
       "            </tr>\n",
       "            <tr>\n",
       "                        <th id=\"T_ee9a5_level0_row9\" class=\"row_heading level0 row9\" >B,S,C,Sa</th>\n",
       "                        <td id=\"T_ee9a5_row9_col0\" class=\"data row9 col0\" >0</td>\n",
       "                        <td id=\"T_ee9a5_row9_col1\" class=\"data row9 col1\" >0</td>\n",
       "                        <td id=\"T_ee9a5_row9_col2\" class=\"data row9 col2\" >0</td>\n",
       "                        <td id=\"T_ee9a5_row9_col3\" class=\"data row9 col3\" >5</td>\n",
       "                        <td id=\"T_ee9a5_row9_col4\" class=\"data row9 col4\" >0</td>\n",
       "                        <td id=\"T_ee9a5_row9_col5\" class=\"data row9 col5\" >5</td>\n",
       "            </tr>\n",
       "            <tr>\n",
       "                        <th id=\"T_ee9a5_level0_row10\" class=\"row_heading level0 row10\" >B,S,L</th>\n",
       "                        <td id=\"T_ee9a5_row10_col0\" class=\"data row10 col0\" >3</td>\n",
       "                        <td id=\"T_ee9a5_row10_col1\" class=\"data row10 col1\" >0</td>\n",
       "                        <td id=\"T_ee9a5_row10_col2\" class=\"data row10 col2\" >0</td>\n",
       "                        <td id=\"T_ee9a5_row10_col3\" class=\"data row10 col3\" >4</td>\n",
       "                        <td id=\"T_ee9a5_row10_col4\" class=\"data row10 col4\" >1</td>\n",
       "                        <td id=\"T_ee9a5_row10_col5\" class=\"data row10 col5\" >8</td>\n",
       "            </tr>\n",
       "            <tr>\n",
       "                        <th id=\"T_ee9a5_level0_row11\" class=\"row_heading level0 row11\" >B,S*,C</th>\n",
       "                        <td id=\"T_ee9a5_row11_col0\" class=\"data row11 col0\" >7</td>\n",
       "                        <td id=\"T_ee9a5_row11_col1\" class=\"data row11 col1\" >1</td>\n",
       "                        <td id=\"T_ee9a5_row11_col2\" class=\"data row11 col2\" >0</td>\n",
       "                        <td id=\"T_ee9a5_row11_col3\" class=\"data row11 col3\" >4</td>\n",
       "                        <td id=\"T_ee9a5_row11_col4\" class=\"data row11 col4\" >0</td>\n",
       "                        <td id=\"T_ee9a5_row11_col5\" class=\"data row11 col5\" >12</td>\n",
       "            </tr>\n",
       "            <tr>\n",
       "                        <th id=\"T_ee9a5_level0_row12\" class=\"row_heading level0 row12\" >B,S*,V,L</th>\n",
       "                        <td id=\"T_ee9a5_row12_col0\" class=\"data row12 col0\" >0</td>\n",
       "                        <td id=\"T_ee9a5_row12_col1\" class=\"data row12 col1\" >0</td>\n",
       "                        <td id=\"T_ee9a5_row12_col2\" class=\"data row12 col2\" >0</td>\n",
       "                        <td id=\"T_ee9a5_row12_col3\" class=\"data row12 col3\" >3</td>\n",
       "                        <td id=\"T_ee9a5_row12_col4\" class=\"data row12 col4\" >0</td>\n",
       "                        <td id=\"T_ee9a5_row12_col5\" class=\"data row12 col5\" >3</td>\n",
       "            </tr>\n",
       "            <tr>\n",
       "                        <th id=\"T_ee9a5_level0_row13\" class=\"row_heading level0 row13\" >B,S,C,V,Sa</th>\n",
       "                        <td id=\"T_ee9a5_row13_col0\" class=\"data row13 col0\" >3</td>\n",
       "                        <td id=\"T_ee9a5_row13_col1\" class=\"data row13 col1\" >0</td>\n",
       "                        <td id=\"T_ee9a5_row13_col2\" class=\"data row13 col2\" >0</td>\n",
       "                        <td id=\"T_ee9a5_row13_col3\" class=\"data row13 col3\" >3</td>\n",
       "                        <td id=\"T_ee9a5_row13_col4\" class=\"data row13 col4\" >0</td>\n",
       "                        <td id=\"T_ee9a5_row13_col5\" class=\"data row13 col5\" >6</td>\n",
       "            </tr>\n",
       "            <tr>\n",
       "                        <th id=\"T_ee9a5_level0_row14\" class=\"row_heading level0 row14\" >B</th>\n",
       "                        <td id=\"T_ee9a5_row14_col0\" class=\"data row14 col0\" >2</td>\n",
       "                        <td id=\"T_ee9a5_row14_col1\" class=\"data row14 col1\" >1</td>\n",
       "                        <td id=\"T_ee9a5_row14_col2\" class=\"data row14 col2\" >0</td>\n",
       "                        <td id=\"T_ee9a5_row14_col3\" class=\"data row14 col3\" >3</td>\n",
       "                        <td id=\"T_ee9a5_row14_col4\" class=\"data row14 col4\" >0</td>\n",
       "                        <td id=\"T_ee9a5_row14_col5\" class=\"data row14 col5\" >6</td>\n",
       "            </tr>\n",
       "            <tr>\n",
       "                        <th id=\"T_ee9a5_level0_row15\" class=\"row_heading level0 row15\" >B,S,C,L,Sa</th>\n",
       "                        <td id=\"T_ee9a5_row15_col0\" class=\"data row15 col0\" >0</td>\n",
       "                        <td id=\"T_ee9a5_row15_col1\" class=\"data row15 col1\" >0</td>\n",
       "                        <td id=\"T_ee9a5_row15_col2\" class=\"data row15 col2\" >0</td>\n",
       "                        <td id=\"T_ee9a5_row15_col3\" class=\"data row15 col3\" >1</td>\n",
       "                        <td id=\"T_ee9a5_row15_col4\" class=\"data row15 col4\" >0</td>\n",
       "                        <td id=\"T_ee9a5_row15_col5\" class=\"data row15 col5\" >1</td>\n",
       "            </tr>\n",
       "            <tr>\n",
       "                        <th id=\"T_ee9a5_level0_row16\" class=\"row_heading level0 row16\" >B,S*,C,L</th>\n",
       "                        <td id=\"T_ee9a5_row16_col0\" class=\"data row16 col0\" >1</td>\n",
       "                        <td id=\"T_ee9a5_row16_col1\" class=\"data row16 col1\" >0</td>\n",
       "                        <td id=\"T_ee9a5_row16_col2\" class=\"data row16 col2\" >0</td>\n",
       "                        <td id=\"T_ee9a5_row16_col3\" class=\"data row16 col3\" >1</td>\n",
       "                        <td id=\"T_ee9a5_row16_col4\" class=\"data row16 col4\" >0</td>\n",
       "                        <td id=\"T_ee9a5_row16_col5\" class=\"data row16 col5\" >2</td>\n",
       "            </tr>\n",
       "            <tr>\n",
       "                        <th id=\"T_ee9a5_level0_row17\" class=\"row_heading level0 row17\" >B,C</th>\n",
       "                        <td id=\"T_ee9a5_row17_col0\" class=\"data row17 col0\" >0</td>\n",
       "                        <td id=\"T_ee9a5_row17_col1\" class=\"data row17 col1\" >0</td>\n",
       "                        <td id=\"T_ee9a5_row17_col2\" class=\"data row17 col2\" >0</td>\n",
       "                        <td id=\"T_ee9a5_row17_col3\" class=\"data row17 col3\" >1</td>\n",
       "                        <td id=\"T_ee9a5_row17_col4\" class=\"data row17 col4\" >0</td>\n",
       "                        <td id=\"T_ee9a5_row17_col5\" class=\"data row17 col5\" >1</td>\n",
       "            </tr>\n",
       "            <tr>\n",
       "                        <th id=\"T_ee9a5_level0_row18\" class=\"row_heading level0 row18\" >B,S,V,L</th>\n",
       "                        <td id=\"T_ee9a5_row18_col0\" class=\"data row18 col0\" >3</td>\n",
       "                        <td id=\"T_ee9a5_row18_col1\" class=\"data row18 col1\" >1</td>\n",
       "                        <td id=\"T_ee9a5_row18_col2\" class=\"data row18 col2\" >0</td>\n",
       "                        <td id=\"T_ee9a5_row18_col3\" class=\"data row18 col3\" >1</td>\n",
       "                        <td id=\"T_ee9a5_row18_col4\" class=\"data row18 col4\" >0</td>\n",
       "                        <td id=\"T_ee9a5_row18_col5\" class=\"data row18 col5\" >5</td>\n",
       "            </tr>\n",
       "            <tr>\n",
       "                        <th id=\"T_ee9a5_level0_row19\" class=\"row_heading level0 row19\" >B,S,C,V,L,Sa</th>\n",
       "                        <td id=\"T_ee9a5_row19_col0\" class=\"data row19 col0\" >3</td>\n",
       "                        <td id=\"T_ee9a5_row19_col1\" class=\"data row19 col1\" >1</td>\n",
       "                        <td id=\"T_ee9a5_row19_col2\" class=\"data row19 col2\" >0</td>\n",
       "                        <td id=\"T_ee9a5_row19_col3\" class=\"data row19 col3\" >0</td>\n",
       "                        <td id=\"T_ee9a5_row19_col4\" class=\"data row19 col4\" >0</td>\n",
       "                        <td id=\"T_ee9a5_row19_col5\" class=\"data row19 col5\" >4</td>\n",
       "            </tr>\n",
       "            <tr>\n",
       "                        <th id=\"T_ee9a5_level0_row20\" class=\"row_heading level0 row20\" >B,S*,Sa</th>\n",
       "                        <td id=\"T_ee9a5_row20_col0\" class=\"data row20 col0\" >1</td>\n",
       "                        <td id=\"T_ee9a5_row20_col1\" class=\"data row20 col1\" >0</td>\n",
       "                        <td id=\"T_ee9a5_row20_col2\" class=\"data row20 col2\" >0</td>\n",
       "                        <td id=\"T_ee9a5_row20_col3\" class=\"data row20 col3\" >0</td>\n",
       "                        <td id=\"T_ee9a5_row20_col4\" class=\"data row20 col4\" >0</td>\n",
       "                        <td id=\"T_ee9a5_row20_col5\" class=\"data row20 col5\" >1</td>\n",
       "            </tr>\n",
       "            <tr>\n",
       "                        <th id=\"T_ee9a5_level0_row21\" class=\"row_heading level0 row21\" >B,S,V</th>\n",
       "                        <td id=\"T_ee9a5_row21_col0\" class=\"data row21 col0\" >1</td>\n",
       "                        <td id=\"T_ee9a5_row21_col1\" class=\"data row21 col1\" >2</td>\n",
       "                        <td id=\"T_ee9a5_row21_col2\" class=\"data row21 col2\" >0</td>\n",
       "                        <td id=\"T_ee9a5_row21_col3\" class=\"data row21 col3\" >0</td>\n",
       "                        <td id=\"T_ee9a5_row21_col4\" class=\"data row21 col4\" >0</td>\n",
       "                        <td id=\"T_ee9a5_row21_col5\" class=\"data row21 col5\" >3</td>\n",
       "            </tr>\n",
       "    </tbody></table>"
      ],
      "text/plain": [
       "<pandas.io.formats.style.Styler at 0x7fbb4ffbfc40>"
      ]
     },
     "execution_count": 28,
     "metadata": {},
     "output_type": "execute_result"
    }
   ],
   "source": [
    "# we make the rating of ingredient sets which enter the top rating groups\n",
    "pd.crosstab(data.ingredients, data.rating_group, margins=True).sort_values('recommended', ascending=False)\\\n",
    ".style.background_gradient(cmap='Blues')"
   ]
  },
  {
   "cell_type": "markdown",
   "id": "6fa12942-5790-4848-9d24-450f386b6ee3",
   "metadata": {},
   "source": [
    "**Data & graphics conclusions**\n",
    "* TOP 3 ingredient sets most often met in TOP 3 rating groups are:\n",
    "1. B,S,C\n",
    "2. B,S\n",
    "3. B,S,C,L"
   ]
  },
  {
   "cell_type": "markdown",
   "id": "75ff58cb-f98d-4c1c-b392-5d96e4f6566e",
   "metadata": {},
   "source": [
    "### Categorical features: *manufacturer & company_location*"
   ]
  },
  {
   "cell_type": "code",
   "execution_count": 29,
   "id": "ad107793-bb60-442a-825c-dc99a06198e6",
   "metadata": {},
   "outputs": [
    {
     "data": {
      "text/html": [
       "<style  type=\"text/css\" >\n",
       "#T_7dc4b_row0_col2,#T_7dc4b_row1_col2{\n",
       "            background-color:  #08306b;\n",
       "            color:  #f1f1f1;\n",
       "        }#T_7dc4b_row2_col2{\n",
       "            background-color:  #6aaed6;\n",
       "            color:  #000000;\n",
       "        }#T_7dc4b_row3_col2{\n",
       "            background-color:  #abd0e6;\n",
       "            color:  #000000;\n",
       "        }#T_7dc4b_row4_col2{\n",
       "            background-color:  #d0e1f2;\n",
       "            color:  #000000;\n",
       "        }#T_7dc4b_row5_col2,#T_7dc4b_row6_col2,#T_7dc4b_row7_col2,#T_7dc4b_row8_col2,#T_7dc4b_row9_col2{\n",
       "            background-color:  #f7fbff;\n",
       "            color:  #000000;\n",
       "        }</style><table id=\"T_7dc4b_\" ><thead>    <tr>        <th class=\"blank level0\" ></th>        <th class=\"col_heading level0 col0\" >manufacturer</th>        <th class=\"col_heading level0 col1\" >company_location</th>        <th class=\"col_heading level0 col2\" >rating</th>    </tr></thead><tbody>\n",
       "                <tr>\n",
       "                        <th id=\"T_7dc4b_level0_row0\" class=\"row_heading level0 row0\" >241</th>\n",
       "                        <td id=\"T_7dc4b_row0_col0\" class=\"data row0 col0\" >Heirloom Cacao Preservation (Zokoko)</td>\n",
       "                        <td id=\"T_7dc4b_row0_col1\" class=\"data row0 col1\" >U.S.A.</td>\n",
       "                        <td id=\"T_7dc4b_row0_col2\" class=\"data row0 col2\" >3.875000</td>\n",
       "            </tr>\n",
       "            <tr>\n",
       "                        <th id=\"T_7dc4b_level0_row1\" class=\"row_heading level0 row1\" >379</th>\n",
       "                        <td id=\"T_7dc4b_row1_col0\" class=\"data row1 col0\" >Ocelot</td>\n",
       "                        <td id=\"T_7dc4b_row1_col1\" class=\"data row1 col1\" >Scotland</td>\n",
       "                        <td id=\"T_7dc4b_row1_col2\" class=\"data row1 col2\" >3.875000</td>\n",
       "            </tr>\n",
       "            <tr>\n",
       "                        <th id=\"T_7dc4b_level0_row2\" class=\"row_heading level0 row2\" >328</th>\n",
       "                        <td id=\"T_7dc4b_row2_col0\" class=\"data row2 col0\" >Matale</td>\n",
       "                        <td id=\"T_7dc4b_row2_col1\" class=\"data row2 col1\" >Australia</td>\n",
       "                        <td id=\"T_7dc4b_row2_col2\" class=\"data row2 col2\" >3.812500</td>\n",
       "            </tr>\n",
       "            <tr>\n",
       "                        <th id=\"T_7dc4b_level0_row3\" class=\"row_heading level0 row3\" >401</th>\n",
       "                        <td id=\"T_7dc4b_row3_col0\" class=\"data row3 col0\" >Patric</td>\n",
       "                        <td id=\"T_7dc4b_row3_col1\" class=\"data row3 col1\" >U.S.A.</td>\n",
       "                        <td id=\"T_7dc4b_row3_col2\" class=\"data row3 col2\" >3.791667</td>\n",
       "            </tr>\n",
       "            <tr>\n",
       "                        <th id=\"T_7dc4b_level0_row4\" class=\"row_heading level0 row4\" >250</th>\n",
       "                        <td id=\"T_7dc4b_row4_col0\" class=\"data row4 col0\" >Idilio (Felchlin)</td>\n",
       "                        <td id=\"T_7dc4b_row4_col1\" class=\"data row4 col1\" >Switzerland</td>\n",
       "                        <td id=\"T_7dc4b_row4_col2\" class=\"data row4 col2\" >3.775000</td>\n",
       "            </tr>\n",
       "            <tr>\n",
       "                        <th id=\"T_7dc4b_level0_row5\" class=\"row_heading level0 row5\" >370</th>\n",
       "                        <td id=\"T_7dc4b_row5_col0\" class=\"data row5 col0\" >Nikoa</td>\n",
       "                        <td id=\"T_7dc4b_row5_col1\" class=\"data row5 col1\" >Ecuador</td>\n",
       "                        <td id=\"T_7dc4b_row5_col2\" class=\"data row5 col2\" >3.750000</td>\n",
       "            </tr>\n",
       "            <tr>\n",
       "                        <th id=\"T_7dc4b_level0_row6\" class=\"row_heading level0 row6\" >263</th>\n",
       "                        <td id=\"T_7dc4b_row6_col0\" class=\"data row6 col0\" >Kah Kow</td>\n",
       "                        <td id=\"T_7dc4b_row6_col1\" class=\"data row6 col1\" >U.S.A.</td>\n",
       "                        <td id=\"T_7dc4b_row6_col2\" class=\"data row6 col2\" >3.750000</td>\n",
       "            </tr>\n",
       "            <tr>\n",
       "                        <th id=\"T_7dc4b_level0_row7\" class=\"row_heading level0 row7\" >513</th>\n",
       "                        <td id=\"T_7dc4b_row7_col0\" class=\"data row7 col0\" >Utopick</td>\n",
       "                        <td id=\"T_7dc4b_row7_col1\" class=\"data row7 col1\" >Spain</td>\n",
       "                        <td id=\"T_7dc4b_row7_col2\" class=\"data row7 col2\" >3.750000</td>\n",
       "            </tr>\n",
       "            <tr>\n",
       "                        <th id=\"T_7dc4b_level0_row8\" class=\"row_heading level0 row8\" >143</th>\n",
       "                        <td id=\"T_7dc4b_row8_col0\" class=\"data row8 col0\" >Cuna de Piedra</td>\n",
       "                        <td id=\"T_7dc4b_row8_col1\" class=\"data row8 col1\" >Mexico</td>\n",
       "                        <td id=\"T_7dc4b_row8_col2\" class=\"data row8 col2\" >3.750000</td>\n",
       "            </tr>\n",
       "            <tr>\n",
       "                        <th id=\"T_7dc4b_level0_row9\" class=\"row_heading level0 row9\" >269</th>\n",
       "                        <td id=\"T_7dc4b_row9_col0\" class=\"data row9 col0\" >Kerchner</td>\n",
       "                        <td id=\"T_7dc4b_row9_col1\" class=\"data row9 col1\" >U.S.A.</td>\n",
       "                        <td id=\"T_7dc4b_row9_col2\" class=\"data row9 col2\" >3.750000</td>\n",
       "            </tr>\n",
       "    </tbody></table>"
      ],
      "text/plain": [
       "<pandas.io.formats.style.Styler at 0x7fbaf804a9d0>"
      ]
     },
     "metadata": {},
     "output_type": "display_data"
    }
   ],
   "source": [
    "# we make TOP 10 manufacturer list based on average rating\n",
    "data_manufacturer_top_10 = data.groupby(['manufacturer', 'company_location'])['rating'].mean().reset_index()\\\n",
    ".sort_values('rating', ascending=False).head(10)\n",
    "display(data_manufacturer_top_10.style.background_gradient(cmap='Blues'))"
   ]
  },
  {
   "cell_type": "markdown",
   "id": "2e02db6a-29a1-4f64-a664-89c34d86804f",
   "metadata": {},
   "source": [
    "**Data & graphics conclusions**\n",
    "* TOP 10 manufacturers have average ratings between 3.75 & 3.875\n",
    "* The TOP 10 are spread among 4 continents"
   ]
  },
  {
   "cell_type": "code",
   "execution_count": 30,
   "id": "dfe928ae-c8c4-4229-972c-12e9b478576a",
   "metadata": {},
   "outputs": [
    {
     "data": {
      "application/com.datacamp.data-table.v1+json": {
       "is_truncated": false,
       "table": {
        "data": [
         {
          "company_location": "U.S.A.",
          "index": 62,
          "manufacturer": 244
         },
         {
          "company_location": "Canada",
          "index": 7,
          "manufacturer": 31
         },
         {
          "company_location": "U.K.",
          "index": 61,
          "manufacturer": 28
         },
         {
          "company_location": "France",
          "index": 18,
          "manufacturer": 19
         },
         {
          "company_location": "Ecuador",
          "index": 14,
          "manufacturer": 14
         },
         {
          "company_location": "Belgium",
          "index": 4,
          "manufacturer": 12
         },
         {
          "company_location": "Italy",
          "index": 29,
          "manufacturer": 11
         },
         {
          "company_location": "Australia",
          "index": 2,
          "manufacturer": 10
         },
         {
          "company_location": "Japan",
          "index": 30,
          "manufacturer": 10
         },
         {
          "company_location": "Switzerland",
          "index": 57,
          "manufacturer": 10
         }
        ],
        "schema": {
         "fields": [
          {
           "name": "index",
           "type": "integer"
          },
          {
           "name": "company_location",
           "type": "string"
          },
          {
           "name": "manufacturer",
           "type": "integer"
          }
         ],
         "pandas_version": "0.20.0",
         "primaryKey": [
          "index"
         ]
        }
       },
       "total_rows": 10
      },
      "text/html": [
       "<div>\n",
       "<style scoped>\n",
       "    .dataframe tbody tr th:only-of-type {\n",
       "        vertical-align: middle;\n",
       "    }\n",
       "\n",
       "    .dataframe tbody tr th {\n",
       "        vertical-align: top;\n",
       "    }\n",
       "\n",
       "    .dataframe thead th {\n",
       "        text-align: right;\n",
       "    }\n",
       "</style>\n",
       "<table border=\"1\" class=\"dataframe\">\n",
       "  <thead>\n",
       "    <tr style=\"text-align: right;\">\n",
       "      <th></th>\n",
       "      <th>company_location</th>\n",
       "      <th>manufacturer</th>\n",
       "    </tr>\n",
       "  </thead>\n",
       "  <tbody>\n",
       "    <tr>\n",
       "      <th>62</th>\n",
       "      <td>U.S.A.</td>\n",
       "      <td>244</td>\n",
       "    </tr>\n",
       "    <tr>\n",
       "      <th>7</th>\n",
       "      <td>Canada</td>\n",
       "      <td>31</td>\n",
       "    </tr>\n",
       "    <tr>\n",
       "      <th>61</th>\n",
       "      <td>U.K.</td>\n",
       "      <td>28</td>\n",
       "    </tr>\n",
       "    <tr>\n",
       "      <th>18</th>\n",
       "      <td>France</td>\n",
       "      <td>19</td>\n",
       "    </tr>\n",
       "    <tr>\n",
       "      <th>14</th>\n",
       "      <td>Ecuador</td>\n",
       "      <td>14</td>\n",
       "    </tr>\n",
       "    <tr>\n",
       "      <th>4</th>\n",
       "      <td>Belgium</td>\n",
       "      <td>12</td>\n",
       "    </tr>\n",
       "    <tr>\n",
       "      <th>29</th>\n",
       "      <td>Italy</td>\n",
       "      <td>11</td>\n",
       "    </tr>\n",
       "    <tr>\n",
       "      <th>2</th>\n",
       "      <td>Australia</td>\n",
       "      <td>10</td>\n",
       "    </tr>\n",
       "    <tr>\n",
       "      <th>30</th>\n",
       "      <td>Japan</td>\n",
       "      <td>10</td>\n",
       "    </tr>\n",
       "    <tr>\n",
       "      <th>57</th>\n",
       "      <td>Switzerland</td>\n",
       "      <td>10</td>\n",
       "    </tr>\n",
       "  </tbody>\n",
       "</table>\n",
       "</div>"
      ],
      "text/plain": [
       "   company_location  manufacturer\n",
       "62           U.S.A.           244\n",
       "7            Canada            31\n",
       "61             U.K.            28\n",
       "18           France            19\n",
       "14          Ecuador            14\n",
       "4           Belgium            12\n",
       "29            Italy            11\n",
       "2         Australia            10\n",
       "30            Japan            10\n",
       "57      Switzerland            10"
      ]
     },
     "execution_count": 30,
     "metadata": {},
     "output_type": "execute_result"
    }
   ],
   "source": [
    "# we make TOP 10 company_location list with the bigest number of manufacturers\n",
    "data.groupby('company_location').agg({'manufacturer':'nunique'}).reset_index()\\\n",
    ".sort_values('manufacturer', ascending=False).head(10)"
   ]
  },
  {
   "cell_type": "code",
   "execution_count": 31,
   "id": "b63a7fc7-7263-45a6-83dc-96a70514804c",
   "metadata": {},
   "outputs": [
    {
     "data": {
      "text/html": [
       "<style  type=\"text/css\" >\n",
       "#T_7064f_row0_col0,#T_7064f_row0_col1,#T_7064f_row0_col2,#T_7064f_row0_col3,#T_7064f_row0_col4,#T_7064f_row0_col5{\n",
       "            background-color:  #08306b;\n",
       "            color:  #f1f1f1;\n",
       "        }#T_7064f_row1_col0{\n",
       "            background-color:  #77b5d9;\n",
       "            color:  #000000;\n",
       "        }#T_7064f_row1_col1{\n",
       "            background-color:  #84bcdb;\n",
       "            color:  #000000;\n",
       "        }#T_7064f_row1_col2{\n",
       "            background-color:  #9fcae1;\n",
       "            color:  #000000;\n",
       "        }#T_7064f_row1_col3{\n",
       "            background-color:  #7cb7da;\n",
       "            color:  #000000;\n",
       "        }#T_7064f_row1_col4,#T_7064f_row6_col4{\n",
       "            background-color:  #bad6eb;\n",
       "            color:  #000000;\n",
       "        }#T_7064f_row1_col5{\n",
       "            background-color:  #81badb;\n",
       "            color:  #000000;\n",
       "        }#T_7064f_row2_col0,#T_7064f_row3_col0,#T_7064f_row7_col2{\n",
       "            background-color:  #eef5fc;\n",
       "            color:  #000000;\n",
       "        }#T_7064f_row2_col1{\n",
       "            background-color:  #ebf3fb;\n",
       "            color:  #000000;\n",
       "        }#T_7064f_row2_col2{\n",
       "            background-color:  #deebf7;\n",
       "            color:  #000000;\n",
       "        }#T_7064f_row2_col3,#T_7064f_row2_col5{\n",
       "            background-color:  #ecf4fb;\n",
       "            color:  #000000;\n",
       "        }#T_7064f_row2_col4,#T_7064f_row5_col4,#T_7064f_row7_col0,#T_7064f_row7_col1,#T_7064f_row7_col4,#T_7064f_row7_col5,#T_7064f_row8_col1,#T_7064f_row8_col3,#T_7064f_row9_col0,#T_7064f_row9_col2,#T_7064f_row9_col3,#T_7064f_row9_col4,#T_7064f_row9_col5{\n",
       "            background-color:  #f7fbff;\n",
       "            color:  #000000;\n",
       "        }#T_7064f_row3_col1{\n",
       "            background-color:  #eaf3fb;\n",
       "            color:  #000000;\n",
       "        }#T_7064f_row3_col2{\n",
       "            background-color:  #dae8f6;\n",
       "            color:  #000000;\n",
       "        }#T_7064f_row3_col3{\n",
       "            background-color:  #eff6fc;\n",
       "            color:  #000000;\n",
       "        }#T_7064f_row3_col4,#T_7064f_row4_col4,#T_7064f_row8_col4{\n",
       "            background-color:  #dbe9f6;\n",
       "            color:  #000000;\n",
       "        }#T_7064f_row3_col5{\n",
       "            background-color:  #edf4fc;\n",
       "            color:  #000000;\n",
       "        }#T_7064f_row4_col0{\n",
       "            background-color:  #eaf2fb;\n",
       "            color:  #000000;\n",
       "        }#T_7064f_row4_col1,#T_7064f_row4_col2,#T_7064f_row5_col2{\n",
       "            background-color:  #f2f8fd;\n",
       "            color:  #000000;\n",
       "        }#T_7064f_row4_col3{\n",
       "            background-color:  #f2f7fd;\n",
       "            color:  #000000;\n",
       "        }#T_7064f_row4_col5,#T_7064f_row6_col2{\n",
       "            background-color:  #f0f6fd;\n",
       "            color:  #000000;\n",
       "        }#T_7064f_row5_col0,#T_7064f_row6_col3,#T_7064f_row6_col5{\n",
       "            background-color:  #f5fafe;\n",
       "            color:  #000000;\n",
       "        }#T_7064f_row5_col1,#T_7064f_row5_col3,#T_7064f_row8_col2{\n",
       "            background-color:  #f4f9fe;\n",
       "            color:  #000000;\n",
       "        }#T_7064f_row5_col5{\n",
       "            background-color:  #f5f9fe;\n",
       "            color:  #000000;\n",
       "        }#T_7064f_row6_col0,#T_7064f_row6_col1,#T_7064f_row7_col3,#T_7064f_row8_col5,#T_7064f_row9_col1{\n",
       "            background-color:  #f6faff;\n",
       "            color:  #000000;\n",
       "        }#T_7064f_row8_col0{\n",
       "            background-color:  #f3f8fe;\n",
       "            color:  #000000;\n",
       "        }</style><table id=\"T_7064f_\" ><thead>    <tr>        <th class=\"index_name level0\" >rating_group</th>        <th class=\"col_heading level0 col0\" >disappointing</th>        <th class=\"col_heading level0 col1\" >highly recommended</th>        <th class=\"col_heading level0 col2\" >oustanding</th>        <th class=\"col_heading level0 col3\" >recommended</th>        <th class=\"col_heading level0 col4\" >unpleasant</th>        <th class=\"col_heading level0 col5\" >All</th>    </tr>    <tr>        <th class=\"index_name level0\" >company_location</th>        <th class=\"blank\" ></th>        <th class=\"blank\" ></th>        <th class=\"blank\" ></th>        <th class=\"blank\" ></th>        <th class=\"blank\" ></th>        <th class=\"blank\" ></th>    </tr></thead><tbody>\n",
       "                <tr>\n",
       "                        <th id=\"T_7064f_level0_row0\" class=\"row_heading level0 row0\" >All</th>\n",
       "                        <td id=\"T_7064f_row0_col0\" class=\"data row0 col0\" >519</td>\n",
       "                        <td id=\"T_7064f_row0_col1\" class=\"data row0 col1\" >847</td>\n",
       "                        <td id=\"T_7064f_row0_col2\" class=\"data row0 col2\" >111</td>\n",
       "                        <td id=\"T_7064f_row0_col3\" class=\"data row0 col3\" >959</td>\n",
       "                        <td id=\"T_7064f_row0_col4\" class=\"data row0 col4\" >7</td>\n",
       "                        <td id=\"T_7064f_row0_col5\" class=\"data row0 col5\" >2443</td>\n",
       "            </tr>\n",
       "            <tr>\n",
       "                        <th id=\"T_7064f_level0_row1\" class=\"row_heading level0 row1\" >U.S.A.</th>\n",
       "                        <td id=\"T_7064f_row1_col0\" class=\"data row1 col0\" >247</td>\n",
       "                        <td id=\"T_7064f_row1_col1\" class=\"data row1 col1\" >379</td>\n",
       "                        <td id=\"T_7064f_row1_col2\" class=\"data row1 col2\" >42</td>\n",
       "                        <td id=\"T_7064f_row1_col3\" class=\"data row1 col3\" >448</td>\n",
       "                        <td id=\"T_7064f_row1_col4\" class=\"data row1 col4\" >2</td>\n",
       "                        <td id=\"T_7064f_row1_col5\" class=\"data row1 col5\" >1118</td>\n",
       "            </tr>\n",
       "            <tr>\n",
       "                        <th id=\"T_7064f_level0_row2\" class=\"row_heading level0 row2\" >Canada</th>\n",
       "                        <td id=\"T_7064f_row2_col0\" class=\"data row2 col0\" >28</td>\n",
       "                        <td id=\"T_7064f_row2_col1\" class=\"data row2 col1\" >63</td>\n",
       "                        <td id=\"T_7064f_row2_col2\" class=\"data row2 col2\" >15</td>\n",
       "                        <td id=\"T_7064f_row2_col3\" class=\"data row2 col3\" >68</td>\n",
       "                        <td id=\"T_7064f_row2_col4\" class=\"data row2 col4\" >0</td>\n",
       "                        <td id=\"T_7064f_row2_col5\" class=\"data row2 col5\" >174</td>\n",
       "            </tr>\n",
       "            <tr>\n",
       "                        <th id=\"T_7064f_level0_row3\" class=\"row_heading level0 row3\" >France</th>\n",
       "                        <td id=\"T_7064f_row3_col0\" class=\"data row3 col0\" >29</td>\n",
       "                        <td id=\"T_7064f_row3_col1\" class=\"data row3 col1\" >65</td>\n",
       "                        <td id=\"T_7064f_row3_col2\" class=\"data row3 col2\" >17</td>\n",
       "                        <td id=\"T_7064f_row3_col3\" class=\"data row3 col3\" >56</td>\n",
       "                        <td id=\"T_7064f_row3_col4\" class=\"data row3 col4\" >1</td>\n",
       "                        <td id=\"T_7064f_row3_col5\" class=\"data row3 col5\" >168</td>\n",
       "            </tr>\n",
       "            <tr>\n",
       "                        <th id=\"T_7064f_level0_row4\" class=\"row_heading level0 row4\" >U.K.</th>\n",
       "                        <td id=\"T_7064f_row4_col0\" class=\"data row4 col0\" >41</td>\n",
       "                        <td id=\"T_7064f_row4_col1\" class=\"data row4 col1\" >34</td>\n",
       "                        <td id=\"T_7064f_row4_col2\" class=\"data row4 col2\" >4</td>\n",
       "                        <td id=\"T_7064f_row4_col3\" class=\"data row4 col3\" >44</td>\n",
       "                        <td id=\"T_7064f_row4_col4\" class=\"data row4 col4\" >1</td>\n",
       "                        <td id=\"T_7064f_row4_col5\" class=\"data row4 col5\" >124</td>\n",
       "            </tr>\n",
       "            <tr>\n",
       "                        <th id=\"T_7064f_level0_row5\" class=\"row_heading level0 row5\" >Italy</th>\n",
       "                        <td id=\"T_7064f_row5_col0\" class=\"data row5 col0\" >10</td>\n",
       "                        <td id=\"T_7064f_row5_col1\" class=\"data row5 col1\" >27</td>\n",
       "                        <td id=\"T_7064f_row5_col2\" class=\"data row5 col2\" >4</td>\n",
       "                        <td id=\"T_7064f_row5_col3\" class=\"data row5 col3\" >31</td>\n",
       "                        <td id=\"T_7064f_row5_col4\" class=\"data row5 col4\" >0</td>\n",
       "                        <td id=\"T_7064f_row5_col5\" class=\"data row5 col5\" >72</td>\n",
       "            </tr>\n",
       "            <tr>\n",
       "                        <th id=\"T_7064f_level0_row6\" class=\"row_heading level0 row6\" >Belgium</th>\n",
       "                        <td id=\"T_7064f_row6_col0\" class=\"data row6 col0\" >8</td>\n",
       "                        <td id=\"T_7064f_row6_col1\" class=\"data row6 col1\" >18</td>\n",
       "                        <td id=\"T_7064f_row6_col2\" class=\"data row6 col2\" >5</td>\n",
       "                        <td id=\"T_7064f_row6_col3\" class=\"data row6 col3\" >27</td>\n",
       "                        <td id=\"T_7064f_row6_col4\" class=\"data row6 col4\" >2</td>\n",
       "                        <td id=\"T_7064f_row6_col5\" class=\"data row6 col5\" >60</td>\n",
       "            </tr>\n",
       "            <tr>\n",
       "                        <th id=\"T_7064f_level0_row7\" class=\"row_heading level0 row7\" >Switzerland</th>\n",
       "                        <td id=\"T_7064f_row7_col0\" class=\"data row7 col0\" >5</td>\n",
       "                        <td id=\"T_7064f_row7_col1\" class=\"data row7 col1\" >13</td>\n",
       "                        <td id=\"T_7064f_row7_col2\" class=\"data row7 col2\" >6</td>\n",
       "                        <td id=\"T_7064f_row7_col3\" class=\"data row7 col3\" >20</td>\n",
       "                        <td id=\"T_7064f_row7_col4\" class=\"data row7 col4\" >0</td>\n",
       "                        <td id=\"T_7064f_row7_col5\" class=\"data row7 col5\" >44</td>\n",
       "            </tr>\n",
       "            <tr>\n",
       "                        <th id=\"T_7064f_level0_row8\" class=\"row_heading level0 row8\" >Ecuador</th>\n",
       "                        <td id=\"T_7064f_row8_col0\" class=\"data row8 col0\" >16</td>\n",
       "                        <td id=\"T_7064f_row8_col1\" class=\"data row8 col1\" >12</td>\n",
       "                        <td id=\"T_7064f_row8_col2\" class=\"data row8 col2\" >3</td>\n",
       "                        <td id=\"T_7064f_row8_col3\" class=\"data row8 col3\" >19</td>\n",
       "                        <td id=\"T_7064f_row8_col4\" class=\"data row8 col4\" >1</td>\n",
       "                        <td id=\"T_7064f_row8_col5\" class=\"data row8 col5\" >51</td>\n",
       "            </tr>\n",
       "            <tr>\n",
       "                        <th id=\"T_7064f_level0_row9\" class=\"row_heading level0 row9\" >Germany</th>\n",
       "                        <td id=\"T_7064f_row9_col0\" class=\"data row9 col0\" >6</td>\n",
       "                        <td id=\"T_7064f_row9_col1\" class=\"data row9 col1\" >16</td>\n",
       "                        <td id=\"T_7064f_row9_col2\" class=\"data row9 col2\" >1</td>\n",
       "                        <td id=\"T_7064f_row9_col3\" class=\"data row9 col3\" >16</td>\n",
       "                        <td id=\"T_7064f_row9_col4\" class=\"data row9 col4\" >0</td>\n",
       "                        <td id=\"T_7064f_row9_col5\" class=\"data row9 col5\" >39</td>\n",
       "            </tr>\n",
       "    </tbody></table>"
      ],
      "text/plain": [
       "<pandas.io.formats.style.Styler at 0x7fbb4cfbae50>"
      ]
     },
     "execution_count": 31,
     "metadata": {},
     "output_type": "execute_result"
    }
   ],
   "source": [
    "# we check products & company_location spread among rating groups\n",
    "pd.crosstab(data.company_location, data.rating_group, margins=True)\\\n",
    ".sort_values('recommended', ascending=False).head(10)\\\n",
    ".style.background_gradient(cmap='Blues')"
   ]
  },
  {
   "cell_type": "markdown",
   "id": "65d9c711-9fd3-4a0b-99ef-47993ed86e53",
   "metadata": {},
   "source": [
    "**Data & graphics conclusions**\n",
    "* manufacturers & their products located in the US make 50% of the rating list in general\n",
    "* the US manufacturers keep the leadership in 3 TOP rating groups\n",
    "* France took the 3d place with its products in TOP 3 rating groups"
   ]
  },
  {
   "cell_type": "markdown",
   "id": "319c38b9-cd33-4938-ac1c-3c8dfa3ff089",
   "metadata": {},
   "source": [
    "### Categorical features: review"
   ]
  },
  {
   "cell_type": "code",
   "execution_count": 32,
   "id": "4c878f4d-f4da-4121-a1b7-3122b3316c98",
   "metadata": {},
   "outputs": [
    {
     "data": {
      "application/com.datacamp.data-table.v1+json": {
       "is_truncated": false,
       "table": {
        "data": [
         {
          "index": 0,
          "word": "cocoa",
          "word_top_count": 222
         },
         {
          "index": 42,
          "word": "fruit",
          "word_top_count": 121
         },
         {
          "index": 9,
          "word": "nutty",
          "word_top_count": 121
         },
         {
          "index": 79,
          "word": "creamy",
          "word_top_count": 118
         },
         {
          "index": 48,
          "word": "rich",
          "word_top_count": 104
         },
         {
          "index": 25,
          "word": "mild",
          "word_top_count": 93
         },
         {
          "index": 12,
          "word": "roasty",
          "word_top_count": 84
         },
         {
          "index": 51,
          "word": "floral",
          "word_top_count": 72
         },
         {
          "index": 64,
          "word": "spicy",
          "word_top_count": 65
         },
         {
          "index": 21,
          "word": "sweet",
          "word_top_count": 62
         }
        ],
        "schema": {
         "fields": [
          {
           "name": "index",
           "type": "integer"
          },
          {
           "name": "word",
           "type": "string"
          },
          {
           "name": "word_top_count",
           "type": "integer"
          }
         ],
         "pandas_version": "0.20.0",
         "primaryKey": [
          "index"
         ]
        }
       },
       "total_rows": 10
      },
      "text/html": [
       "<div>\n",
       "<style scoped>\n",
       "    .dataframe tbody tr th:only-of-type {\n",
       "        vertical-align: middle;\n",
       "    }\n",
       "\n",
       "    .dataframe tbody tr th {\n",
       "        vertical-align: top;\n",
       "    }\n",
       "\n",
       "    .dataframe thead th {\n",
       "        text-align: right;\n",
       "    }\n",
       "</style>\n",
       "<table border=\"1\" class=\"dataframe\">\n",
       "  <thead>\n",
       "    <tr style=\"text-align: right;\">\n",
       "      <th></th>\n",
       "      <th>word</th>\n",
       "      <th>word_top_count</th>\n",
       "    </tr>\n",
       "  </thead>\n",
       "  <tbody>\n",
       "    <tr>\n",
       "      <th>0</th>\n",
       "      <td>cocoa</td>\n",
       "      <td>222</td>\n",
       "    </tr>\n",
       "    <tr>\n",
       "      <th>42</th>\n",
       "      <td>fruit</td>\n",
       "      <td>121</td>\n",
       "    </tr>\n",
       "    <tr>\n",
       "      <th>9</th>\n",
       "      <td>nutty</td>\n",
       "      <td>121</td>\n",
       "    </tr>\n",
       "    <tr>\n",
       "      <th>79</th>\n",
       "      <td>creamy</td>\n",
       "      <td>118</td>\n",
       "    </tr>\n",
       "    <tr>\n",
       "      <th>48</th>\n",
       "      <td>rich</td>\n",
       "      <td>104</td>\n",
       "    </tr>\n",
       "    <tr>\n",
       "      <th>25</th>\n",
       "      <td>mild</td>\n",
       "      <td>93</td>\n",
       "    </tr>\n",
       "    <tr>\n",
       "      <th>12</th>\n",
       "      <td>roasty</td>\n",
       "      <td>84</td>\n",
       "    </tr>\n",
       "    <tr>\n",
       "      <th>51</th>\n",
       "      <td>floral</td>\n",
       "      <td>72</td>\n",
       "    </tr>\n",
       "    <tr>\n",
       "      <th>64</th>\n",
       "      <td>spicy</td>\n",
       "      <td>65</td>\n",
       "    </tr>\n",
       "    <tr>\n",
       "      <th>21</th>\n",
       "      <td>sweet</td>\n",
       "      <td>62</td>\n",
       "    </tr>\n",
       "  </tbody>\n",
       "</table>\n",
       "</div>"
      ],
      "text/plain": [
       "      word  word_top_count\n",
       "0    cocoa             222\n",
       "42   fruit             121\n",
       "9    nutty             121\n",
       "79  creamy             118\n",
       "48    rich             104\n",
       "25    mild              93\n",
       "12  roasty              84\n",
       "51  floral              72\n",
       "64   spicy              65\n",
       "21   sweet              62"
      ]
     },
     "metadata": {},
     "output_type": "display_data"
    },
    {
     "data": {
      "image/png": "[encoded data removed]",
      "text/plain": [
       "<Figure size 864x360 with 1 Axes>"
      ]
     },
     "metadata": {},
     "output_type": "display_data"
    }
   ],
   "source": [
    "# we count review words more often met in TOP 3 rating groups\n",
    "from collections import Counter\n",
    "results = Counter()\n",
    "data['review'] = data['review'].str.replace(',','')\n",
    "data[data['rating'] >= 3.5]['review'].str.lower().str.split().apply(results.update)\n",
    "words_counter = pd.DataFrame(results.items(), columns=['word', 'word_top_count'])\n",
    "display(words_counter.sort_values('word_top_count', ascending=False).head(10))\n",
    "words_counter.sort_values('word_top_count', ascending=False).head(10)\\\n",
    ".plot(kind='bar', x='word', title=('TOP 10 words from TOP 3 rating groups'));"
   ]
  },
  {
   "cell_type": "markdown",
   "id": "3a412946-732a-4136-8d25-07559e907c7e",
   "metadata": {},
   "source": [
    "**Data & graphics conclusions**\n",
    "* the most friquently used word in top rating reviews is *cocoa* (222)\n",
    "* *fruit & nutty* are equal in number (121)\n",
    "* *creamy & rich* (118 & 104) finalize the top 5 list"
   ]
  },
  {
   "cell_type": "markdown",
   "id": "76b226ca-90e0-4ade-b825-bf1d0449f41b",
   "metadata": {},
   "source": [
    "### Conclusions\n",
    "\n",
    "**The analysis of data based on chocolate products Review & Rating (2006 - 2021) allow the following initial approach to potential suppliers:**\n",
    "* The market offers high rating manufacturers in all regions (USA, Canada, Latin America, Australia, Europe); the final choice depends on the marketing strategy: **to offer local product** or **to offer something exotic**\n",
    ">\n",
    "> **IF USA**: Zokoko (avg rating 3.875), Patric (avg rating 3.792), Kah Kow (avg rating 3.75)\n",
    ">\n",
    "> **IF Australia**: Matale (avg rating 3.813)\n",
    ">\n",
    "> **IF Latin America**: Nikoa / Ecuador (avg rating 3.75), Cuna de Piedra / Mexico (avg rating 3.75)\n",
    ">\n",
    "> **IF Europe**: Ocelot / Scotland (avg rating 3.875), Idilio (Felchlin) / Switzerland (avg rating 3.775), Utopick / Spain (avg rating 3.75)\n",
    ">\n",
    "\n",
    "are recommended to be contacted first.\n",
    "\n",
    "* To meet the customer \"high quality\" expectations the product should possess the following characteristics:\n",
    ">\n",
    "> **cocoa content** - 70% is recommended\n",
    ">\n",
    "> **number of ingredients** - in average 3 ingredients meet the customer expectations: Beans (B), Sugar (S), Cocoa Butter (C); Lecitin (L) may be included, may be not, its presence does not influence the top ratings\n",
    ">\n",
    "> **bean origin** - we recommend the double approach, concidering ratings & market volumes; the recommended list is: **Vietnam, Papua New Guinea, Madagascar, Brazil, Guatemala, Nicaragua, Trinidad, Tanzania, Beliz**; beans imported from these countries belong both to TOP20 in ratings & TOP20 in frquency that gives the feeling of reliability and chance to negotiate the best price offer\n",
    "\n",
    "*  To make the final choices in favor of some products it is recommended to run **tastings** and to check if the custemer reviews contain **key success words**:\n",
    ">\n",
    "> cocoa\n",
    ">\n",
    "> fruit\n",
    ">\n",
    "> nutty\n",
    ">\n",
    "> creamy\n",
    ">\n",
    "> rich"
   ]
  }
 ],
 "metadata": {
  "kernelspec": {
   "display_name": "Python 3 (ipykernel)",
   "language": "python",
   "name": "python3"
  },
  "language_info": {
   "codemirror_mode": {
    "name": "ipython",
    "version": 3
   },
   "file_extension": ".py",
   "mimetype": "text/x-python",
   "name": "python",
   "nbconvert_exporter": "python",
   "pygments_lexer": "ipython3",
   "version": "3.8.10"
  }
 },
 "nbformat": 4,
 "nbformat_minor": 5
}
